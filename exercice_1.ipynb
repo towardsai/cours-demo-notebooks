{
  "nbformat": 4,
  "nbformat_minor": 0,
  "metadata": {
    "colab": {
      "provenance": [],
      "include_colab_link": true
    },
    "kernelspec": {
      "name": "python3",
      "display_name": "Python 3"
    },
    "language_info": {
      "name": "python"
    }
  },
  "cells": [
    {
      "cell_type": "markdown",
      "metadata": {
        "id": "view-in-github",
        "colab_type": "text"
      },
      "source": [
        "<a href=\"https://colab.research.google.com/github/towardsai/cours-demo-notebooks/blob/main/exercice_1.ipynb\" target=\"_parent\"><img src=\"https://colab.research.google.com/assets/colab-badge.svg\" alt=\"Open In Colab\"/></a>"
      ]
    },
    {
      "cell_type": "code",
      "execution_count": null,
      "metadata": {
        "id": "ZelpvKD-5JCb",
        "colab": {
          "base_uri": "https://localhost:8080/"
        },
        "collapsed": true,
        "outputId": "abfeebe2-6075-4ad0-a4ee-2ccffccb9962"
      },
      "outputs": [
        {
          "output_type": "stream",
          "name": "stdout",
          "text": [
            "Collecting instructor\n",
            "  Downloading instructor-1.7.2-py3-none-any.whl.metadata (18 kB)\n",
            "Requirement already satisfied: pydantic in /usr/local/lib/python3.11/dist-packages (2.10.6)\n",
            "Requirement already satisfied: google-generativeai in /usr/local/lib/python3.11/dist-packages (0.8.4)\n",
            "Collecting jsonref\n",
            "  Downloading jsonref-1.1.0-py3-none-any.whl.metadata (2.7 kB)\n",
            "Requirement already satisfied: aiohttp<4.0.0,>=3.9.1 in /usr/local/lib/python3.11/dist-packages (from instructor) (3.11.13)\n",
            "Requirement already satisfied: docstring-parser<1.0,>=0.16 in /usr/local/lib/python3.11/dist-packages (from instructor) (0.16)\n",
            "Requirement already satisfied: jinja2<4.0.0,>=3.1.4 in /usr/local/lib/python3.11/dist-packages (from instructor) (3.1.5)\n",
            "Requirement already satisfied: jiter<0.9,>=0.6.1 in /usr/local/lib/python3.11/dist-packages (from instructor) (0.8.2)\n",
            "Requirement already satisfied: openai<2.0.0,>=1.52.0 in /usr/local/lib/python3.11/dist-packages (from instructor) (1.61.1)\n",
            "Requirement already satisfied: pydantic-core<3.0.0,>=2.18.0 in /usr/local/lib/python3.11/dist-packages (from instructor) (2.27.2)\n",
            "Requirement already satisfied: requests<3.0.0,>=2.32.3 in /usr/local/lib/python3.11/dist-packages (from instructor) (2.32.3)\n",
            "Requirement already satisfied: rich<14.0.0,>=13.7.0 in /usr/local/lib/python3.11/dist-packages (from instructor) (13.9.4)\n",
            "Requirement already satisfied: tenacity<10.0.0,>=9.0.0 in /usr/local/lib/python3.11/dist-packages (from instructor) (9.0.0)\n",
            "Requirement already satisfied: typer<1.0.0,>=0.9.0 in /usr/local/lib/python3.11/dist-packages (from instructor) (0.15.1)\n",
            "Requirement already satisfied: annotated-types>=0.6.0 in /usr/local/lib/python3.11/dist-packages (from pydantic) (0.7.0)\n",
            "Requirement already satisfied: typing-extensions>=4.12.2 in /usr/local/lib/python3.11/dist-packages (from pydantic) (4.12.2)\n",
            "Requirement already satisfied: google-ai-generativelanguage==0.6.15 in /usr/local/lib/python3.11/dist-packages (from google-generativeai) (0.6.15)\n",
            "Requirement already satisfied: google-api-core in /usr/local/lib/python3.11/dist-packages (from google-generativeai) (2.24.1)\n",
            "Requirement already satisfied: google-api-python-client in /usr/local/lib/python3.11/dist-packages (from google-generativeai) (2.160.0)\n",
            "Requirement already satisfied: google-auth>=2.15.0 in /usr/local/lib/python3.11/dist-packages (from google-generativeai) (2.38.0)\n",
            "Requirement already satisfied: protobuf in /usr/local/lib/python3.11/dist-packages (from google-generativeai) (4.25.6)\n",
            "Requirement already satisfied: tqdm in /usr/local/lib/python3.11/dist-packages (from google-generativeai) (4.67.1)\n",
            "Requirement already satisfied: proto-plus<2.0.0dev,>=1.22.3 in /usr/local/lib/python3.11/dist-packages (from google-ai-generativelanguage==0.6.15->google-generativeai) (1.26.0)\n",
            "Requirement already satisfied: aiohappyeyeballs>=2.3.0 in /usr/local/lib/python3.11/dist-packages (from aiohttp<4.0.0,>=3.9.1->instructor) (2.4.6)\n",
            "Requirement already satisfied: aiosignal>=1.1.2 in /usr/local/lib/python3.11/dist-packages (from aiohttp<4.0.0,>=3.9.1->instructor) (1.3.2)\n",
            "Requirement already satisfied: attrs>=17.3.0 in /usr/local/lib/python3.11/dist-packages (from aiohttp<4.0.0,>=3.9.1->instructor) (25.1.0)\n",
            "Requirement already satisfied: frozenlist>=1.1.1 in /usr/local/lib/python3.11/dist-packages (from aiohttp<4.0.0,>=3.9.1->instructor) (1.5.0)\n",
            "Requirement already satisfied: multidict<7.0,>=4.5 in /usr/local/lib/python3.11/dist-packages (from aiohttp<4.0.0,>=3.9.1->instructor) (6.1.0)\n",
            "Requirement already satisfied: propcache>=0.2.0 in /usr/local/lib/python3.11/dist-packages (from aiohttp<4.0.0,>=3.9.1->instructor) (0.3.0)\n",
            "Requirement already satisfied: yarl<2.0,>=1.17.0 in /usr/local/lib/python3.11/dist-packages (from aiohttp<4.0.0,>=3.9.1->instructor) (1.18.3)\n",
            "Requirement already satisfied: googleapis-common-protos<2.0.dev0,>=1.56.2 in /usr/local/lib/python3.11/dist-packages (from google-api-core->google-generativeai) (1.68.0)\n",
            "Requirement already satisfied: cachetools<6.0,>=2.0.0 in /usr/local/lib/python3.11/dist-packages (from google-auth>=2.15.0->google-generativeai) (5.5.2)\n",
            "Requirement already satisfied: pyasn1-modules>=0.2.1 in /usr/local/lib/python3.11/dist-packages (from google-auth>=2.15.0->google-generativeai) (0.4.1)\n",
            "Requirement already satisfied: rsa<5,>=3.1.4 in /usr/local/lib/python3.11/dist-packages (from google-auth>=2.15.0->google-generativeai) (4.9)\n",
            "Requirement already satisfied: MarkupSafe>=2.0 in /usr/local/lib/python3.11/dist-packages (from jinja2<4.0.0,>=3.1.4->instructor) (3.0.2)\n",
            "Requirement already satisfied: anyio<5,>=3.5.0 in /usr/local/lib/python3.11/dist-packages (from openai<2.0.0,>=1.52.0->instructor) (3.7.1)\n",
            "Requirement already satisfied: distro<2,>=1.7.0 in /usr/local/lib/python3.11/dist-packages (from openai<2.0.0,>=1.52.0->instructor) (1.9.0)\n",
            "Requirement already satisfied: httpx<1,>=0.23.0 in /usr/local/lib/python3.11/dist-packages (from openai<2.0.0,>=1.52.0->instructor) (0.28.1)\n",
            "Requirement already satisfied: sniffio in /usr/local/lib/python3.11/dist-packages (from openai<2.0.0,>=1.52.0->instructor) (1.3.1)\n",
            "Requirement already satisfied: charset-normalizer<4,>=2 in /usr/local/lib/python3.11/dist-packages (from requests<3.0.0,>=2.32.3->instructor) (3.4.1)\n",
            "Requirement already satisfied: idna<4,>=2.5 in /usr/local/lib/python3.11/dist-packages (from requests<3.0.0,>=2.32.3->instructor) (3.10)\n",
            "Requirement already satisfied: urllib3<3,>=1.21.1 in /usr/local/lib/python3.11/dist-packages (from requests<3.0.0,>=2.32.3->instructor) (2.3.0)\n",
            "Requirement already satisfied: certifi>=2017.4.17 in /usr/local/lib/python3.11/dist-packages (from requests<3.0.0,>=2.32.3->instructor) (2025.1.31)\n",
            "Requirement already satisfied: markdown-it-py>=2.2.0 in /usr/local/lib/python3.11/dist-packages (from rich<14.0.0,>=13.7.0->instructor) (3.0.0)\n",
            "Requirement already satisfied: pygments<3.0.0,>=2.13.0 in /usr/local/lib/python3.11/dist-packages (from rich<14.0.0,>=13.7.0->instructor) (2.18.0)\n",
            "Requirement already satisfied: click>=8.0.0 in /usr/local/lib/python3.11/dist-packages (from typer<1.0.0,>=0.9.0->instructor) (8.1.8)\n",
            "Requirement already satisfied: shellingham>=1.3.0 in /usr/local/lib/python3.11/dist-packages (from typer<1.0.0,>=0.9.0->instructor) (1.5.4)\n",
            "Requirement already satisfied: httplib2<1.dev0,>=0.19.0 in /usr/local/lib/python3.11/dist-packages (from google-api-python-client->google-generativeai) (0.22.0)\n",
            "Requirement already satisfied: google-auth-httplib2<1.0.0,>=0.2.0 in /usr/local/lib/python3.11/dist-packages (from google-api-python-client->google-generativeai) (0.2.0)\n",
            "Requirement already satisfied: uritemplate<5,>=3.0.1 in /usr/local/lib/python3.11/dist-packages (from google-api-python-client->google-generativeai) (4.1.1)\n",
            "Requirement already satisfied: grpcio<2.0dev,>=1.33.2 in /usr/local/lib/python3.11/dist-packages (from google-api-core[grpc]!=2.0.*,!=2.1.*,!=2.10.*,!=2.2.*,!=2.3.*,!=2.4.*,!=2.5.*,!=2.6.*,!=2.7.*,!=2.8.*,!=2.9.*,<3.0.0dev,>=1.34.1->google-ai-generativelanguage==0.6.15->google-generativeai) (1.70.0)\n",
            "Requirement already satisfied: grpcio-status<2.0.dev0,>=1.33.2 in /usr/local/lib/python3.11/dist-packages (from google-api-core[grpc]!=2.0.*,!=2.1.*,!=2.10.*,!=2.2.*,!=2.3.*,!=2.4.*,!=2.5.*,!=2.6.*,!=2.7.*,!=2.8.*,!=2.9.*,<3.0.0dev,>=1.34.1->google-ai-generativelanguage==0.6.15->google-generativeai) (1.62.3)\n",
            "Requirement already satisfied: pyparsing!=3.0.0,!=3.0.1,!=3.0.2,!=3.0.3,<4,>=2.4.2 in /usr/local/lib/python3.11/dist-packages (from httplib2<1.dev0,>=0.19.0->google-api-python-client->google-generativeai) (3.2.1)\n",
            "Requirement already satisfied: httpcore==1.* in /usr/local/lib/python3.11/dist-packages (from httpx<1,>=0.23.0->openai<2.0.0,>=1.52.0->instructor) (1.0.7)\n",
            "Requirement already satisfied: h11<0.15,>=0.13 in /usr/local/lib/python3.11/dist-packages (from httpcore==1.*->httpx<1,>=0.23.0->openai<2.0.0,>=1.52.0->instructor) (0.14.0)\n",
            "Requirement already satisfied: mdurl~=0.1 in /usr/local/lib/python3.11/dist-packages (from markdown-it-py>=2.2.0->rich<14.0.0,>=13.7.0->instructor) (0.1.2)\n",
            "Requirement already satisfied: pyasn1<0.7.0,>=0.4.6 in /usr/local/lib/python3.11/dist-packages (from pyasn1-modules>=0.2.1->google-auth>=2.15.0->google-generativeai) (0.6.1)\n",
            "Downloading instructor-1.7.2-py3-none-any.whl (71 kB)\n",
            "\u001b[2K   \u001b[90m━━━━━━━━━━━━━━━━━━━━━━━━━━━━━━━━━━━━━━━━\u001b[0m \u001b[32m71.4/71.4 kB\u001b[0m \u001b[31m1.8 MB/s\u001b[0m eta \u001b[36m0:00:00\u001b[0m\n",
            "\u001b[?25hDownloading jsonref-1.1.0-py3-none-any.whl (9.4 kB)\n",
            "Installing collected packages: jsonref, instructor\n",
            "Successfully installed instructor-1.7.2 jsonref-1.1.0\n"
          ]
        }
      ],
      "source": [
        "# Installation des bibliothèques nécessaires\n",
        "!pip install instructor pydantic google-generativeai jsonref"
      ]
    },
    {
      "cell_type": "code",
      "source": [
        "# Importation des bibliothèques\n",
        "import instructor\n",
        "import google.generativeai as genai\n",
        "from pydantic import BaseModel, Field\n",
        "from enum import Enum\n",
        "from typing import Literal"
      ],
      "metadata": {
        "id": "K-AHd_gx5PIH"
      },
      "execution_count": null,
      "outputs": []
    },
    {
      "cell_type": "code",
      "source": [
        "# Configuration de l'API Gemini\n",
        "GOOGLE_API_KEY = \"\"  # Remplacez par votre clé API\n",
        "genai.configure(api_key=GOOGLE_API_KEY)"
      ],
      "metadata": {
        "id": "PIXO3TMz5UY0"
      },
      "execution_count": null,
      "outputs": []
    },
    {
      "cell_type": "code",
      "source": [
        "# 1. Définition des modèles Pydantic\n",
        "class Personne(BaseModel):\n",
        "    nom: str = Field(max_length=50)\n",
        "    age: int | str\n",
        "    role: str = Field(\n",
        "        description=\"Role de la personne dans la compagnie, ex: Développeur\",\n",
        "    )\n",
        "    compagnie: Literal[\"NeuroTech Systems\", \"VirtuaSoft\", \"Quantum Solutions\", \"OTHER\"]\n",
        "\n",
        "class ExtractionPersonnes(BaseModel):\n",
        "    reasoning: str = Field(\n",
        "        description=\"À partir des informations fournies, écris 'comment' tu vas t'y prendre pour extraire les informations du texte.\",\n",
        "    )\n",
        "    list_personnes: list[Personne] = Field(min_length=3)"
      ],
      "metadata": {
        "id": "uJ7u-ryvKeIL"
      },
      "execution_count": null,
      "outputs": []
    },
    {
      "cell_type": "code",
      "source": [
        "# 2. Initialisation du client Gemini avec JSON STRICT pour l'extraction SEULEMENT\n",
        "client = instructor.from_gemini(\n",
        "    client=genai.GenerativeModel(model_name=\"models/gemini-2.0-flash-lite\"),\n",
        "    mode=instructor.Mode.GEMINI_JSON  # Forcer JSON uniquement pour l'extraction\n",
        ")"
      ],
      "metadata": {
        "id": "VQoWb0TOKeC7"
      },
      "execution_count": null,
      "outputs": []
    },
    {
      "cell_type": "code",
      "source": [
        "# 3. Texte d'entrée\n",
        "texte = \"\"\"\n",
        "Thomas, 34 ans, est ingénieur en intelligence artificielle chez NeuroTech Systems, une startup spécialisée dans les algorithmes d’apprentissage profond.\n",
        "Il passe ses journées à entraîner des modèles pour optimiser la reconnaissance vocale, souvent en collaboration avec Léa, 29 ans, designer UX chez VirtuaSoft,\n",
        "une entreprise qui développe des interfaces immersives pour la réalité augmentée.\n",
        "Léa s’assure que les utilisateurs interagissent intuitivement avec les IA conçues par des entreprises comme celle de Thomas.\n",
        "De son côté, Karim, 41 ans, est chef de projet chez Quantum Solutions, un cabinet de conseil en innovation technologique.\n",
        "Il supervise des partenariats entre sociétés comme NeuroTech et VirtuaSoft, coordonnant leurs efforts pour créer des expériences utilisateur toujours plus fluides et intelligentes.\n",
        "\"\"\""
      ],
      "metadata": {
        "id": "uO_KfienKd7D"
      },
      "execution_count": null,
      "outputs": []
    },
    {
      "cell_type": "code",
      "source": [
        "# 4. Préparer le message pour extraire les personnes\n",
        "messages = [\n",
        "    {\"role\": \"user\", \"content\": f\"Extrais toutes les personnes mentionnées dans ce texte: {texte}\"}\n",
        "]"
      ],
      "metadata": {
        "id": "9lK4Gi90KkLW"
      },
      "execution_count": null,
      "outputs": []
    },
    {
      "cell_type": "code",
      "source": [
        "# 5. Extraction des personnes sous forme de générateur\n",
        "extraction_personnes = client.chat.completions.create(\n",
        "    messages=messages,\n",
        "    response_model=ExtractionPersonnes,  # Attente d'un objet contenant \"personnes\"\n",
        "    max_retries=3,\n",
        ")"
      ],
      "metadata": {
        "id": "SpmVbPJpKkGf"
      },
      "execution_count": null,
      "outputs": []
    },
    {
      "cell_type": "code",
      "source": [
        "# 7. Affichage du raisonnement et des noms et rôles des personnes extraites\n",
        "\n",
        "print(\"Raisonnement du modèle: \\n\")\n",
        "print(extraction_personnes.reasoning)\n",
        "\n",
        "\n",
        "print(\"\\nListe des personnes extraites :\\n\")\n",
        "for i, personne in enumerate(extraction_personnes.list_personnes, start=1):\n",
        "    print(f\"Personne {i}:\\nNom: {personne.nom}, Rôle: {personne.role}, Compagnie: {personne.compagnie}, Age: {personne.age}\")\n",
        "    print(\"Ou, directement: \"+str(personne)+\"\\n\")\n"
      ],
      "metadata": {
        "colab": {
          "base_uri": "https://localhost:8080/"
        },
        "id": "2x17xIvbKyS4",
        "outputId": "717ba2d1-bbd7-45a5-c11e-649d3d6dc91d"
      },
      "execution_count": null,
      "outputs": [
        {
          "output_type": "stream",
          "name": "stdout",
          "text": [
            "Raisonnement du modèle: \n",
            "\n",
            "Je vais parcourir le texte pour identifier les noms de personnes, leurs âges, leurs rôles et les entreprises pour lesquelles ils travaillent. Je vais utiliser les informations fournies pour remplir les champs correspondants dans le schéma JSON.\n",
            "\n",
            "Liste des personnes extraites :\n",
            "\n",
            "Personne 1:\n",
            "Nom: Thomas, Rôle: ingénieur en intelligence artificielle, Compagnie: NeuroTech Systems, Age: 34\n",
            "Ou, directement: nom='Thomas' age=34 role='ingénieur en intelligence artificielle' compagnie='NeuroTech Systems'\n",
            "\n",
            "Personne 2:\n",
            "Nom: Léa, Rôle: designer UX, Compagnie: VirtuaSoft, Age: 29\n",
            "Ou, directement: nom='Léa' age=29 role='designer UX' compagnie='VirtuaSoft'\n",
            "\n",
            "Personne 3:\n",
            "Nom: Karim, Rôle: chef de projet, Compagnie: Quantum Solutions, Age: 41\n",
            "Ou, directement: nom='Karim' age=41 role='chef de projet' compagnie='Quantum Solutions'\n",
            "\n"
          ]
        }
      ]
    },
    {
      "cell_type": "code",
      "source": [
        "# 8. Ajouter les informations extraites au contexte\n",
        "personnes_info = \"\\n\".join([f\"{p.nom}, {p.age} ans, {p.role} chez {p.compagnie}\" for p in extraction_personnes.list_personnes])\n",
        "messages.append({\"role\": \"assistant\", \"content\": personnes_info})"
      ],
      "metadata": {
        "id": "lQ5pzBInKyPr"
      },
      "execution_count": null,
      "outputs": []
    },
    {
      "cell_type": "code",
      "source": [
        "# 9. Ajouter une nouvelle question pour analyser les relations\n",
        "messages.append({\n",
        "    \"role\": \"user\",\n",
        "    \"content\": \"Quelle est la relation entre chacune de ces personnes ?\"\n",
        "})"
      ],
      "metadata": {
        "id": "Jqq4quXiKyMC"
      },
      "execution_count": null,
      "outputs": []
    },
    {
      "cell_type": "code",
      "source": [
        "# ** Désactiver le mode JSON pour la réponse textuelle**\n",
        "gemini_client_text = instructor.from_gemini(\n",
        "    client=genai.GenerativeModel(model_name=\"models/gemini-2.0-flash-lite\")\n",
        ")\n",
        "\n",
        "# 10. Corriger l'erreur en ajoutant `response_model=str`\n",
        "reponse_2 = gemini_client_text.chat.completions.create(\n",
        "    messages=messages,\n",
        "    response_model=str  # On attend une réponse textuelle libre\n",
        ")"
      ],
      "metadata": {
        "id": "9CejgSWCAnH6"
      },
      "execution_count": null,
      "outputs": []
    },
    {
      "cell_type": "code",
      "source": [
        "# 11. Afficher la réponse finale\n",
        "print(\"Analyse des relations :\")\n",
        "print(reponse_2)"
      ],
      "metadata": {
        "colab": {
          "base_uri": "https://localhost:8080/"
        },
        "id": "CEbCcC-6BO7y",
        "outputId": "a20c292c-702d-4cac-f98b-8b53005784a0"
      },
      "execution_count": null,
      "outputs": [
        {
          "output_type": "stream",
          "name": "stdout",
          "text": [
            "Analyse des relations :\n",
            "Thomas collabore avec Léa. Karim supervise des partenariats entre les entreprises où travaillent Thomas et Léa\n"
          ]
        }
      ]
    },
    {
      "cell_type": "code",
      "source": [],
      "metadata": {
        "id": "rclwFAklCGtv"
      },
      "execution_count": null,
      "outputs": []
    }
  ]
}