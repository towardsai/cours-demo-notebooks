{
  "cells": [
    {
      "cell_type": "markdown",
      "metadata": {
        "id": "Id9lF33aJymc"
      },
      "source": [
        "[![Open in Colab](https://colab.research.google.com/assets/colab-badge.svg)](https://colab.research.google.com/github/towardsai/ai-tutor-rag-system/blob/main/notebooks/GPT_4o_mini_Fine_Tuning.ipynb)"
      ]
    },
    {
      "cell_type": "code",
      "execution_count": 1,
      "metadata": {
        "colab": {
          "base_uri": "https://localhost:8080/"
        },
        "collapsed": true,
        "id": "u26Xu9-_zHyE",
        "outputId": "6324c850-ddf4-4860-e15f-6cb749cbca57"
      },
      "outputs": [
        {
          "output_type": "stream",
          "name": "stdout",
          "text": [
            "\u001b[?25l     \u001b[90m━━━━━━━━━━━━━━━━━━━━━━━━━━━━━━━━━━━━━━━━\u001b[0m \u001b[32m0.0/67.3 kB\u001b[0m \u001b[31m?\u001b[0m eta \u001b[36m-:--:--\u001b[0m\r\u001b[2K     \u001b[90m━━━━━━━━━━━━━━━━━━━━━━━━━━━━━━━━━━━━━━━━\u001b[0m \u001b[32m67.3/67.3 kB\u001b[0m \u001b[31m2.5 MB/s\u001b[0m eta \u001b[36m0:00:00\u001b[0m\n",
            "\u001b[?25h  Installing build dependencies ... \u001b[?25l\u001b[?25hdone\n",
            "  Getting requirements to build wheel ... \u001b[?25l\u001b[?25hdone\n",
            "  Preparing metadata (pyproject.toml) ... \u001b[?25l\u001b[?25hdone\n",
            "\u001b[2K   \u001b[90m━━━━━━━━━━━━━━━━━━━━━━━━━━━━━━━━━━━━━━━━\u001b[0m \u001b[32m455.6/455.6 kB\u001b[0m \u001b[31m10.9 MB/s\u001b[0m eta \u001b[36m0:00:00\u001b[0m\n",
            "\u001b[2K   \u001b[90m━━━━━━━━━━━━━━━━━━━━━━━━━━━━━━━━━━━━━━━━\u001b[0m \u001b[32m584.3/584.3 kB\u001b[0m \u001b[31m24.7 MB/s\u001b[0m eta \u001b[36m0:00:00\u001b[0m\n",
            "\u001b[2K   \u001b[90m━━━━━━━━━━━━━━━━━━━━━━━━━━━━━━━━━━━━━━━━\u001b[0m \u001b[32m431.4/431.4 kB\u001b[0m \u001b[31m24.1 MB/s\u001b[0m eta \u001b[36m0:00:00\u001b[0m\n",
            "\u001b[2K   \u001b[90m━━━━━━━━━━━━━━━━━━━━━━━━━━━━━━━━━━━━━━━━\u001b[0m \u001b[32m601.3/601.3 MB\u001b[0m \u001b[31m2.0 MB/s\u001b[0m eta \u001b[36m0:00:00\u001b[0m\n",
            "\u001b[2K   \u001b[90m━━━━━━━━━━━━━━━━━━━━━━━━━━━━━━━━━━━━━━━━\u001b[0m \u001b[32m2.4/2.4 MB\u001b[0m \u001b[31m68.1 MB/s\u001b[0m eta \u001b[36m0:00:00\u001b[0m\n",
            "\u001b[2K   \u001b[90m━━━━━━━━━━━━━━━━━━━━━━━━━━━━━━━━━━━━━━━━\u001b[0m \u001b[32m15.5/15.5 MB\u001b[0m \u001b[31m83.8 MB/s\u001b[0m eta \u001b[36m0:00:00\u001b[0m\n",
            "\u001b[2K   \u001b[90m━━━━━━━━━━━━━━━━━━━━━━━━━━━━━━━━━━━━━━━━\u001b[0m \u001b[32m278.6/278.6 kB\u001b[0m \u001b[31m16.7 MB/s\u001b[0m eta \u001b[36m0:00:00\u001b[0m\n",
            "\u001b[2K   \u001b[90m━━━━━━━━━━━━━━━━━━━━━━━━━━━━━━━━━━━━━━━━\u001b[0m \u001b[32m94.8/94.8 kB\u001b[0m \u001b[31m5.5 MB/s\u001b[0m eta \u001b[36m0:00:00\u001b[0m\n",
            "\u001b[2K   \u001b[90m━━━━━━━━━━━━━━━━━━━━━━━━━━━━━━━━━━━━━━━━\u001b[0m \u001b[32m2.0/2.0 MB\u001b[0m \u001b[31m63.6 MB/s\u001b[0m eta \u001b[36m0:00:00\u001b[0m\n",
            "\u001b[2K   \u001b[90m━━━━━━━━━━━━━━━━━━━━━━━━━━━━━━━━━━━━━━━━\u001b[0m \u001b[32m1.2/1.2 MB\u001b[0m \u001b[31m51.9 MB/s\u001b[0m eta \u001b[36m0:00:00\u001b[0m\n",
            "\u001b[2K   \u001b[90m━━━━━━━━━━━━━━━━━━━━━━━━━━━━━━━━━━━━━━━━\u001b[0m \u001b[32m101.6/101.6 kB\u001b[0m \u001b[31m7.1 MB/s\u001b[0m eta \u001b[36m0:00:00\u001b[0m\n",
            "\u001b[2K   \u001b[90m━━━━━━━━━━━━━━━━━━━━━━━━━━━━━━━━━━━━━━━━\u001b[0m \u001b[32m13.3/13.3 MB\u001b[0m \u001b[31m78.4 MB/s\u001b[0m eta \u001b[36m0:00:00\u001b[0m\n",
            "\u001b[2K   \u001b[90m━━━━━━━━━━━━━━━━━━━━━━━━━━━━━━━━━━━━━━━━\u001b[0m \u001b[32m52.5/52.5 kB\u001b[0m \u001b[31m3.1 MB/s\u001b[0m eta \u001b[36m0:00:00\u001b[0m\n",
            "\u001b[2K   \u001b[90m━━━━━━━━━━━━━━━━━━━━━━━━━━━━━━━━━━━━━━━━\u001b[0m \u001b[32m149.7/149.7 kB\u001b[0m \u001b[31m9.4 MB/s\u001b[0m eta \u001b[36m0:00:00\u001b[0m\n",
            "\u001b[2K   \u001b[90m━━━━━━━━━━━━━━━━━━━━━━━━━━━━━━━━━━━━━━━━\u001b[0m \u001b[32m64.0/64.0 kB\u001b[0m \u001b[31m4.4 MB/s\u001b[0m eta \u001b[36m0:00:00\u001b[0m\n",
            "\u001b[2K   \u001b[90m━━━━━━━━━━━━━━━━━━━━━━━━━━━━━━━━━━━━━━━━\u001b[0m \u001b[32m110.5/110.5 kB\u001b[0m \u001b[31m7.1 MB/s\u001b[0m eta \u001b[36m0:00:00\u001b[0m\n",
            "\u001b[2K   \u001b[90m━━━━━━━━━━━━━━━━━━━━━━━━━━━━━━━━━━━━━━━━\u001b[0m \u001b[32m73.3/73.3 kB\u001b[0m \u001b[31m3.4 MB/s\u001b[0m eta \u001b[36m0:00:00\u001b[0m\n",
            "\u001b[2K   \u001b[90m━━━━━━━━━━━━━━━━━━━━━━━━━━━━━━━━━━━━━━━━\u001b[0m \u001b[32m5.5/5.5 MB\u001b[0m \u001b[31m67.4 MB/s\u001b[0m eta \u001b[36m0:00:00\u001b[0m\n",
            "\u001b[2K   \u001b[90m━━━━━━━━━━━━━━━━━━━━━━━━━━━━━━━━━━━━━━━━\u001b[0m \u001b[32m62.3/62.3 kB\u001b[0m \u001b[31m3.8 MB/s\u001b[0m eta \u001b[36m0:00:00\u001b[0m\n",
            "\u001b[2K   \u001b[90m━━━━━━━━━━━━━━━━━━━━━━━━━━━━━━━━━━━━━━━━\u001b[0m \u001b[32m459.8/459.8 kB\u001b[0m \u001b[31m26.7 MB/s\u001b[0m eta \u001b[36m0:00:00\u001b[0m\n",
            "\u001b[2K   \u001b[90m━━━━━━━━━━━━━━━━━━━━━━━━━━━━━━━━━━━━━━━━\u001b[0m \u001b[32m253.0/253.0 kB\u001b[0m \u001b[31m17.6 MB/s\u001b[0m eta \u001b[36m0:00:00\u001b[0m\n",
            "\u001b[2K   \u001b[90m━━━━━━━━━━━━━━━━━━━━━━━━━━━━━━━━━━━━━━━━\u001b[0m \u001b[32m295.8/295.8 kB\u001b[0m \u001b[31m18.9 MB/s\u001b[0m eta \u001b[36m0:00:00\u001b[0m\n",
            "\u001b[2K   \u001b[90m━━━━━━━━━━━━━━━━━━━━━━━━━━━━━━━━━━━━━━━━\u001b[0m \u001b[32m71.5/71.5 kB\u001b[0m \u001b[31m4.2 MB/s\u001b[0m eta \u001b[36m0:00:00\u001b[0m\n",
            "\u001b[2K   \u001b[90m━━━━━━━━━━━━━━━━━━━━━━━━━━━━━━━━━━━━━━━━\u001b[0m \u001b[32m1.2/1.2 MB\u001b[0m \u001b[31m47.3 MB/s\u001b[0m eta \u001b[36m0:00:00\u001b[0m\n",
            "\u001b[2K   \u001b[90m━━━━━━━━━━━━━━━━━━━━━━━━━━━━━━━━━━━━━━━━\u001b[0m \u001b[32m4.0/4.0 MB\u001b[0m \u001b[31m68.9 MB/s\u001b[0m eta \u001b[36m0:00:00\u001b[0m\n",
            "\u001b[2K   \u001b[90m━━━━━━━━━━━━━━━━━━━━━━━━━━━━━━━━━━━━━━━━\u001b[0m \u001b[32m452.6/452.6 kB\u001b[0m \u001b[31m23.3 MB/s\u001b[0m eta \u001b[36m0:00:00\u001b[0m\n",
            "\u001b[2K   \u001b[90m━━━━━━━━━━━━━━━━━━━━━━━━━━━━━━━━━━━━━━━━\u001b[0m \u001b[32m46.0/46.0 kB\u001b[0m \u001b[31m2.9 MB/s\u001b[0m eta \u001b[36m0:00:00\u001b[0m\n",
            "\u001b[2K   \u001b[90m━━━━━━━━━━━━━━━━━━━━━━━━━━━━━━━━━━━━━━━━\u001b[0m \u001b[32m86.8/86.8 kB\u001b[0m \u001b[31m5.6 MB/s\u001b[0m eta \u001b[36m0:00:00\u001b[0m\n",
            "\u001b[2K   \u001b[90m━━━━━━━━━━━━━━━━━━━━━━━━━━━━━━━━━━━━━━━━\u001b[0m \u001b[32m50.9/50.9 kB\u001b[0m \u001b[31m3.1 MB/s\u001b[0m eta \u001b[36m0:00:00\u001b[0m\n",
            "\u001b[?25h  Building wheel for pypika (pyproject.toml) ... \u001b[?25l\u001b[?25hdone\n",
            "\u001b[31mERROR: pip's dependency resolver does not currently take into account all the packages that are installed. This behaviour is the source of the following dependency conflicts.\n",
            "tf-keras 2.18.0 requires tensorflow<2.19,>=2.18, but you have tensorflow 2.17.1 which is incompatible.\n",
            "tensorflow-text 2.18.1 requires tensorflow<2.19,>=2.18.0, but you have tensorflow 2.17.1 which is incompatible.\u001b[0m\u001b[31m\n",
            "\u001b[0m"
          ]
        }
      ],
      "source": [
        "!pip install -q llama-index==0.10.57 openai==1.59.8 chromadb==0.5.5 pydantic==2.10.5 llama-index-vector-stores-chroma==0.1.10 jsonlines==4.0.0 tensorflow==2.17.1"
      ]
    },
    {
      "cell_type": "code",
      "execution_count": 2,
      "metadata": {
        "id": "xtfOgVDAzw9p"
      },
      "outputs": [],
      "source": [
        "import os\n",
        "\n",
        "# Set the following API Keys in the Python environment. Will be used later.\n",
        "os.environ[\"OPENAI_API_KEY\"] = \"<YOUR_OPENAI_API_KEY>\"\n",
        "\n",
        "# from google.colab import userdata\n",
        "# os.environ[\"OPENAI_API_KEY\"] = userdata.get('OPENAI_API_KEY1')"
      ]
    },
    {
      "cell_type": "code",
      "execution_count": 3,
      "metadata": {
        "id": "6fniKCbv0Gf0"
      },
      "outputs": [],
      "source": [
        "# Allows running asyncio in environments with an existing event loop, like Jupyter notebooks.\n",
        "import nest_asyncio\n",
        "\n",
        "nest_asyncio.apply()"
      ]
    },
    {
      "cell_type": "markdown",
      "metadata": {
        "id": "zG_jfHx20Kwh"
      },
      "source": [
        "## Create Vector Store"
      ]
    },
    {
      "cell_type": "code",
      "execution_count": 4,
      "metadata": {
        "colab": {
          "base_uri": "https://localhost:8080/",
          "height": 49,
          "referenced_widgets": [
            "e2409c8a621943a0a7b899e0cdf0424a",
            "7df57205644f49928fc94e8ec96079f5",
            "2c4a3839ec8944a9964b18df64b71c00",
            "8984babe9711412a83e7d776747b1314",
            "c90313837646483199dd7656f74b8387",
            "ee7019c2516045e98c73368d19baeabf",
            "1d7a070286d14d8cb93491cefd622c35",
            "db3b627d63f242e7a53cc03fc9f53731",
            "089d7cbeb3b04bd69c655b3ee70dae76",
            "7d8252e249fd4719b411c222c0292b58",
            "d215227ac61a4fcb9c2488a88b4e8847"
          ]
        },
        "id": "52Q9jvWz0JG1",
        "outputId": "d882d968-8e24-459c-b5bc-814ea43d9f0d"
      },
      "outputs": [
        {
          "output_type": "display_data",
          "data": {
            "text/plain": [
              "vectorstore.zip:   0%|          | 0.00/97.2M [00:00<?, ?B/s]"
            ],
            "application/vnd.jupyter.widget-view+json": {
              "version_major": 2,
              "version_minor": 0,
              "model_id": "e2409c8a621943a0a7b899e0cdf0424a"
            }
          },
          "metadata": {}
        }
      ],
      "source": [
        "# Downloading Vector store from Hugging face hub\n",
        "from huggingface_hub import hf_hub_download\n",
        "vectorstore = hf_hub_download(repo_id=\"jaiganesan/ai_tutor_knowledge\", filename=\"vectorstore.zip\",repo_type=\"dataset\",local_dir=\"/content\")"
      ]
    },
    {
      "cell_type": "code",
      "execution_count": 5,
      "metadata": {
        "colab": {
          "base_uri": "https://localhost:8080/"
        },
        "id": "MvIkYZTq0Sjw",
        "outputId": "62f37860-7c1f-4986-ae2c-dd908777d370"
      },
      "outputs": [
        {
          "output_type": "stream",
          "name": "stdout",
          "text": [
            "Archive:  vectorstore.zip\n",
            "   creating: ai_tutor_knowledge/\n",
            "   creating: ai_tutor_knowledge/684af133-f877-4230-bde4-575cf53b6688/\n",
            "  inflating: ai_tutor_knowledge/684af133-f877-4230-bde4-575cf53b6688/length.bin  \n",
            "  inflating: ai_tutor_knowledge/684af133-f877-4230-bde4-575cf53b6688/index_metadata.pickle  \n",
            "  inflating: ai_tutor_knowledge/684af133-f877-4230-bde4-575cf53b6688/link_lists.bin  \n",
            "  inflating: ai_tutor_knowledge/684af133-f877-4230-bde4-575cf53b6688/header.bin  \n",
            "  inflating: ai_tutor_knowledge/684af133-f877-4230-bde4-575cf53b6688/data_level0.bin  \n",
            "  inflating: ai_tutor_knowledge/chroma.sqlite3  \n"
          ]
        }
      ],
      "source": [
        "!unzip vectorstore.zip"
      ]
    },
    {
      "cell_type": "code",
      "execution_count": 6,
      "metadata": {
        "id": "7JKjU64s18XQ"
      },
      "outputs": [],
      "source": [
        "# Setup an Embedding Model\n",
        "\n",
        "from llama_index.embeddings.openai import OpenAIEmbedding\n",
        "from llama_index.core import Settings\n",
        "\n",
        "# Default Embedding model\n",
        "Settings.embed_model = OpenAIEmbedding(model=\"text-embedding-3-small\")"
      ]
    },
    {
      "cell_type": "code",
      "execution_count": 7,
      "metadata": {
        "id": "F2IwHF0c0U_Z"
      },
      "outputs": [],
      "source": [
        "import chromadb\n",
        "from llama_index.vector_stores.chroma import ChromaVectorStore\n",
        "from llama_index.core import VectorStoreIndex\n",
        "\n",
        "# Create your index\n",
        "db = chromadb.PersistentClient(path=\"./ai_tutor_knowledge\")\n",
        "chroma_collection = db.get_or_create_collection(\"ai_tutor_knowledge\")\n",
        "vector_store = ChromaVectorStore(chroma_collection=chroma_collection)\n",
        "\n",
        "# Create your index\n",
        "\n",
        "vector_index = VectorStoreIndex.from_vector_store(vector_store)"
      ]
    },
    {
      "cell_type": "markdown",
      "metadata": {
        "id": "pgom6yv60x8c"
      },
      "source": [
        "### GPT-4o"
      ]
    },
    {
      "cell_type": "code",
      "execution_count": 8,
      "metadata": {
        "id": "IJ_AK9bD010r"
      },
      "outputs": [],
      "source": [
        "from llama_index.llms.openai import OpenAI\n",
        "\n",
        "llm_gpt_4o = OpenAI(temperature=1, model=\"gpt-4o\")"
      ]
    },
    {
      "cell_type": "code",
      "execution_count": 9,
      "metadata": {
        "colab": {
          "base_uri": "https://localhost:8080/",
          "height": 174
        },
        "id": "kIe78uYz0uGt",
        "outputId": "4d6a50f6-43ce-429c-8f39-37f99fe45d65"
      },
      "outputs": [
        {
          "output_type": "execute_result",
          "data": {
            "text/plain": [
              "'The knowledge retention abilities of a RAG model and a BERT-based model fine-tuned with PEFT techniques differ primarily in their reliance on external versus internalized knowledge. A RAG model is designed to combine retrieval and generation, using a dense vector index for accessing knowledge dynamically. This model excels in generating outputs that are specific and diverse, particularly in knowledge-intensive tasks, because it can access real-time information from the index, effectively \"augmenting\" its responses with external data.\\n\\nOn the other hand, a BERT-based model fine-tuned using PEFT techniques relies more on the knowledge embedded in its parameters. When fine-tuned extensively, it can perform well on specific tasks using the knowledge it has learned during training. However, its ability to adapt to new or unseen data without external information is limited compared to the RAG model. \\n\\nIn scenarios where the knowledge source is removed, a RAG model would likely struggle more since its effectiveness hinges on accessing external data. Conversely, the BERT-based model would revert to generating responses based solely on its learned internal parameters, which may lead to less specific or outdated outputs if the task requires current or detailed knowledge.'"
            ],
            "application/vnd.google.colaboratory.intrinsic+json": {
              "type": "string"
            }
          },
          "metadata": {},
          "execution_count": 9
        }
      ],
      "source": [
        "# Query Engine\n",
        "query_engine_0 = vector_index.as_query_engine(llm= llm_gpt_4o , similarity_top_k=5)\n",
        "\n",
        "response_gpt_4o = query_engine_0.query(\"Compare the knowledge retention abilities of a RAG model versus a BERT-based model that has been extensively fine-tuned using PEFT techniques. How do their outputs differ when the knowledge source is removed?\")\n",
        "\n",
        "response_gpt_4o.response"
      ]
    },
    {
      "cell_type": "code",
      "execution_count": 10,
      "metadata": {
        "colab": {
          "base_uri": "https://localhost:8080/"
        },
        "id": "BVJEEMYO1dWc",
        "outputId": "151df818-860b-4175-a8e7-487080eaac73"
      },
      "outputs": [
        {
          "output_type": "stream",
          "name": "stdout",
          "text": [
            "Node ID\t 727ac73b-1bfd-4782-8523-fa38b48cec50\n",
            "Title\t Adaptive Retrieval-Augmented Generation for Conversational Systems:Model Training and Evaluation Setups\n",
            "Text\t We evaluate the performance of introducing RAGate according to its binary classification performance and the effectiveness of the resulting response generation. Specifically, we use the KE-TOD dataset (Chen et al., 2022), which has fully annotated 5,324 dialogues and 52,063 turns of conversations. In particular, it is associated with 33,761 knowledge snippets to be retrieved and augmented. In addition, KETOD was developed with human labels on turns of conversations (around 12.1% of turns) about the need for augmenting with retrieved knowledge snippets for a natural and informative system response. Hence, we use these human labels as natural ground truths when evaluating RAGate. It is worth indicating that many current knowledge-augmented conversational datasets often ground their conversations on the knowledge snippet, such as Wizard of Wikipedia (Dinan et al., 2018) and CMU_DoG (Zhou et al., 2018), which makes them not a natural fit to be investigated in this study. Due to the limited computational resource availability, we explore the use of Llama-v2-7B and Llama-v2-13B to implement RAGate-prompt andfine-tune Llama-v2-7B for RAGate-PEFT. We implement QLoRA using the PEFT library (Mangrulkar et al., 2022) and set the lower rank to 16. As discussed in Section 3, we have various input features to be combined for performance optimisation. We begin with the use of context only, then concatenate the context with the real response (contx-resp), with the synthetic response and recognised entities (contx-syn-resp-ner) and further extend with the use of retrieved knowledge (contx-syn-resp-ner-know) or the source of knowledge (contx-syn-resp-ner-source). Specifically, we retrieve the relevant knowledge by exploring the use of TF-IDF and a learned BERT ranker. We evaluate their performance with the classic Recall@1 and Recall@3 on the test collection. We use a shallow cutoff because we only use top-relevant knowledge snippets for augmentation. Table 1 shows their retrieval performance. According to the leading performance of BERT-Ranker, we augment knowledge with its retrieved top 3 relevant knowledge snippets (i.e., k = 3). Regarding the\n",
            "Score\t 0.48171326649853313\n",
            "Metadata\t {'url': 'http://arxiv.org/pdf/2407.21712v1', 'title': 'Adaptive Retrieval-Augmented Generation for Conversational Systems:Model Training and Evaluation Setups', 'tokens': 781, 'source': 'Arxiv: 2407.21712', 'questions_this_excerpt_can_answer': 'Based on the provided context, here are two specific questions that can be answered using the information given, which are unlikely to be found elsewhere:\\n\\n1. **What dataset is used to evaluate the performance of RAGate, and what specific features does it include for assessing the need for knowledge augmentation in conversational responses?**\\n   - This question targets the specific dataset (KE-TOD) and its features, including the percentage of annotated turns that require knowledge snippets, which is detailed in the context.\\n\\n2. **What methods are employed to retrieve relevant knowledge snippets for augmenting responses in the RAGate framework, and how is their performance evaluated?**\\n   - This question focuses on the retrieval methods (TF-IDF and BERT ranker) and the evaluation metrics (Recall@1 and Recall@3) mentioned in the context, providing insights into the technical aspects of the RAGate implementation.', 'prev_section_summary': \"The section discusses the RAGate-MHA model, which incorporates a multi-head attention mechanism to enhance conversational systems by assessing the necessity of augmentation. It outlines the model's structure, emphasizing the interaction between queries (Q), keys (K), and values (V) in the attention mechanism, defined by the formula Attention(Q, K, V) = softmax(QK^T / sqrt(d_k))V. The context and retrieved knowledge are integrated into these roles to evaluate augmentation needs. Additionally, the section references the encoder construction of a transformer model, which includes input embedding and position encoding layers to process the input data effectively. Key topics include multi-head attention, augmentation necessity, and transformer model architecture.\", 'section_summary': \"The section discusses the evaluation of the RAGate framework for conversational systems, focusing on its performance in binary classification and response generation. Key topics include:\\n\\n1. **Dataset**: The KE-TOD dataset, which consists of 5,324 dialogues and 52,063 conversation turns, is used for evaluation. It includes 33,761 knowledge snippets and human annotations indicating that approximately 12.1% of the conversation turns require knowledge augmentation for more informative responses.\\n\\n2. **Knowledge Augmentation**: The study emphasizes the importance of knowledge snippets in enhancing conversational responses, contrasting KE-TOD with other datasets that are not suitable for this investigation.\\n\\n3. **Model Implementation**: The RAGate framework is implemented using Llama-v2-7B and Llama-v2-13B models, with fine-tuning performed on Llama-v2-7B using QLoRA and the PEFT library.\\n\\n4. **Input Features**: Various input features are combined for performance optimization, including context, real responses, synthetic responses, recognized entities, and retrieved knowledge snippets.\\n\\n5. **Retrieval Methods**: Knowledge snippets are retrieved using TF-IDF and a learned BERT ranker, with performance evaluated using Recall@1 and Recall@3 metrics.\\n\\n6. **Performance Evaluation**: The evaluation focuses on the retrieval performance of knowledge snippets, with the BERT ranker showing superior results, leading to the augmentation of responses with the top 3 relevant knowledge snippets.\\n\\nOverall, the section highlights the methodology and evaluation strategies employed in assessing the RAGate framework's effectiveness in conversational systems.\", 'excerpt_keywords': 'Keywords: RAGate, KE-TOD, knowledge augmentation, conversational systems, TF-IDF, BERT ranker, response generation, binary classification, Llama-v2, performance evaluation'}\n",
            "-_-_-_-_-_-_-_-_-_-_-_-_-_-_-_-_-_-_-_-_\n",
            "Node ID\t e791eaf2-3cdf-477a-8602-1cbb30a3d48c\n",
            "Title\t RAG\n",
            "Text\t # RAG<div class=\"flex flex-wrap space-x-1\"><a href=\"https://huggingface.co/models?filter=rag\"><img alt=\"Models\" src=\"https://img.shields.io/badge/All_model_pages-rag-blueviolet\"></a></div>## OverviewRetrieval-augmented generation (\"RAG\") models combine the powers of pretrained dense retrieval (DPR) andsequence-to-sequence models. RAG models retrieve documents, pass them to a seq2seq model, then marginalize to generateoutputs. The retriever and seq2seq modules are initialized from pretrained models, and fine-tuned jointly, allowingboth retrieval and generation to adapt to downstream tasks.It is based on the paper [Retrieval-Augmented Generation for Knowledge-Intensive NLP Tasks](https://arxiv.org/abs/2005.11401) by Patrick Lewis, Ethan Perez, Aleksandara Piktus, Fabio Petroni, VladimirKarpukhin, Naman Goyal, Heinrich Küttler, Mike Lewis, Wen-tau Yih, Tim Rocktäschel, Sebastian Riedel, Douwe Kiela.The abstract from the paper is the following:*Large pre-trained language models have been shown to store factual knowledge in their parameters, and achievestate-of-the-art results when fine-tuned on downstream NLP tasks. However, their ability to access and preciselymanipulate knowledge is still limited, and hence on knowledge-intensive tasks, their performance lags behindtask-specific architectures. Additionally, providing provenance for their decisions and updating their world knowledgeremain open research problems. Pre-trained models with a differentiable access mechanism to explicit nonparametricmemory can overcome this issue, but have so far been only investigated for extractive downstream tasks. We explore ageneral-purpose fine-tuning recipe for retrieval-augmented generation (RAG) — models which combine pre-trainedparametric and non-parametric memory for language generation. We introduce RAG models where the parametric memory is apre-trained seq2seq model and the non-parametric memory is a dense vector index of Wikipedia, accessed with apre-trained neural retriever. We compare two RAG formulations, one which conditions on the same retrieved passagesacross the whole generated sequence, the other can use different passages per token. We fine-tune and evaluate ourmodels on a wide range of knowledge-intensive\n",
            "Score\t 0.4736500042177129\n",
            "Metadata\t {'url': 'https://huggingface.co/docs/transformers/model_doc/rag', 'title': 'RAG', 'tokens': 933, 'source': 'transformers', 'questions_this_excerpt_can_answer': '1. What are the key components of Retrieval-Augmented Generation (RAG) models, and how do they work together to improve performance on knowledge-intensive NLP tasks?\\n\\n2. How does the RAG model differ from traditional pre-trained language models in terms of accessing and manipulating knowledge for language generation?', 'prev_section_summary': \"The section discusses the use of the BLIP-2 model for visual question answering (VQA) tasks. Key topics include:\\n\\n1. **Model Loading**: Instructions on how to load the BLIP-2 model and processor, with a focus on utilizing GPU resources for improved performance.\\n\\n2. **Input Handling**: The process of preparing input data, which includes loading an image and a corresponding question from a dataset.\\n\\n3. **Textual Prompt Format**: The specific format required for the textual prompt when using the model, which is `Question: {} Answer:`.\\n\\n4. **Preprocessing and Model Inference**: Steps to preprocess the image and prompt, pass them through the model, and decode the generated output.\\n\\n5. **Example Output**: An example of the model's output, demonstrating its ability to recognize elements in the image and respond to the question, albeit with some limitations in accuracy.\\n\\nEntities mentioned include the BLIP-2 model, the Salesforce repository for the model, and the use of the `AutoProcessor` and `Blip2ForConditionalGeneration` classes from the Transformers library.\", 'section_summary': \"The section discusses Retrieval-Augmented Generation (RAG) models, which integrate pretrained dense retrieval (DPR) and sequence-to-sequence (seq2seq) models to enhance performance on knowledge-intensive natural language processing (NLP) tasks. Key components of RAG include:\\n\\n1. **Retrieval Mechanism**: RAG models retrieve relevant documents from a dense vector index (e.g., Wikipedia) using a pretrained neural retriever.\\n2. **Generation Mechanism**: The retrieved documents are then passed to a seq2seq model, which generates outputs based on the retrieved information.\\n3. **Joint Fine-Tuning**: Both the retriever and seq2seq modules are initialized from pretrained models and fine-tuned together, allowing them to adapt to specific downstream tasks.\\n\\nThe excerpt highlights the limitations of traditional pre-trained language models in accessing and manipulating knowledge, particularly in knowledge-intensive tasks. RAG models address these limitations by combining parametric memory (the seq2seq model) with non-parametric memory (the dense vector index), enabling better knowledge retrieval and generation. The section references the foundational paper on RAG, which explores the model's architecture and its effectiveness in various NLP tasks.\", 'excerpt_keywords': 'Keywords: RAG, Retrieval-Augmented Generation, dense retrieval, sequence-to-sequence, knowledge-intensive NLP, parametric memory, non-parametric memory, fine-tuning, neural retriever, document retrieval'}\n",
            "-_-_-_-_-_-_-_-_-_-_-_-_-_-_-_-_-_-_-_-_\n",
            "Node ID\t 9f09a477-cb92-4520-a3fa-cfd9cef07b1d\n",
            "Title\t Adaptive Retrieval-Augmented Generation for Conversational Systems:Model Training and Evaluation Setups\n",
            "Text\t (contx-syn-resp-ner-know) or the source of knowledge (contx-syn-resp-ner-source). Specifically, we retrieve the relevant knowledge by exploring the use of TF-IDF and a learned BERT ranker. We evaluate their performance with the classic Recall@1 and Recall@3 on the test collection. We use a shallow cutoff because we only use top-relevant knowledge snippets for augmentation. Table 1 shows their retrieval performance. According to the leading performance of BERT-Ranker, we augment knowledge with its retrieved top 3 relevant knowledge snippets (i.e., k = 3). Regarding the development of RAGate-MHA, we explore the combinations of 2 to 8 layers, 2 or 4 heads and the embedding size in [64, 128, 256] for the best classification accuracy. We report the precision, recall, F1, Area Under Curve (AUC) and the False Discovery Rate (FDR) as the main measures to show the classification effectiveness. Next, we further deploy the best-performing RAGate gate function to update the KETOD dialogue system (Chen et al., 2022), which uses GPT-2 (Radford et al., 2019) as the backbone model. To highlight the effect of various augmentation setups, we use the context with the gold action without extra prediction as input to KETOD. Then, we compare the resulting performance to the KETOD model without knowledge augmentation and augmenting every system response as baselines. To report the response generation effectiveness, we report how close the response is to the ground truth via BLEU, ROUGE-1/2/L and BERTScores and the confidence score calculated by the minimum probabilities of individual tokens that compose the responses. As argued by Varshney et al. (2023), this calculated confidence score can highly correlate with a language model’s likelihood of generating hallucinated responses. We trained our models and conducted the evaluations on one machine with one NVIDIA 4090 GPU.\n",
            "Score\t 0.4578917912378002\n",
            "Metadata\t {'url': 'http://arxiv.org/pdf/2407.21712v1', 'title': 'Adaptive Retrieval-Augmented Generation for Conversational Systems:Model Training and Evaluation Setups', 'tokens': 781, 'source': 'Arxiv: 2407.21712', 'questions_this_excerpt_can_answer': 'Based on the provided context, here are two specific questions that can be answered using the information given:\\n\\n1. **What retrieval methods were explored for augmenting knowledge in the RAGate-MHA model, and how was their performance evaluated?**\\n   - This question targets the specific retrieval techniques (TF-IDF and BERT ranker) mentioned in the context, as well as the evaluation metrics (Recall@1 and Recall@3) used to assess their performance.\\n\\n2. **What measures were reported to evaluate the classification effectiveness of the RAGate gate function in the KETOD dialogue system?**\\n   - This question focuses on the specific metrics (precision, recall, F1, AUC, and FDR) that were used to demonstrate the classification effectiveness of the RAGate gate function, which is a unique aspect of the study.', 'prev_section_summary': \"The section discusses the evaluation of the RAGate framework for conversational systems, focusing on its performance in binary classification and response generation. Key topics include:\\n\\n1. **Dataset**: The KE-TOD dataset, which consists of 5,324 dialogues and 52,063 conversation turns, is used for evaluation. It includes 33,761 knowledge snippets and human annotations indicating that approximately 12.1% of the conversation turns require knowledge augmentation for more informative responses.\\n\\n2. **Knowledge Augmentation**: The study emphasizes the importance of knowledge snippets in enhancing conversational responses, contrasting KE-TOD with other datasets that are not suitable for this investigation.\\n\\n3. **Model Implementation**: The RAGate framework is implemented using Llama-v2-7B and Llama-v2-13B models, with fine-tuning performed on Llama-v2-7B using QLoRA and the PEFT library.\\n\\n4. **Input Features**: Various input features are combined for performance optimization, including context, real responses, synthetic responses, recognized entities, and retrieved knowledge snippets.\\n\\n5. **Retrieval Methods**: Knowledge snippets are retrieved using TF-IDF and a learned BERT ranker, with performance evaluated using Recall@1 and Recall@3 metrics.\\n\\n6. **Performance Evaluation**: The evaluation focuses on the retrieval performance of knowledge snippets, with the BERT ranker showing superior results, leading to the augmentation of responses with the top 3 relevant knowledge snippets.\\n\\nOverall, the section highlights the methodology and evaluation strategies employed in assessing the RAGate framework's effectiveness in conversational systems.\", 'section_summary': \"The section discusses the methodologies and evaluation metrics used in the development of the RAGate-MHA model for conversational systems, specifically focusing on knowledge retrieval and classification effectiveness. Key topics include:\\n\\n1. **Retrieval Methods**: The exploration of TF-IDF and a learned BERT ranker for retrieving relevant knowledge snippets, with performance evaluated using Recall@1 and Recall@3 metrics.\\n\\n2. **Knowledge Augmentation**: The model augments knowledge by utilizing the top 3 relevant snippets retrieved by the BERT ranker.\\n\\n3. **Model Development**: The RAGate-MHA model's architecture is optimized by experimenting with different configurations, including layer counts, head counts, and embedding sizes to achieve the best classification accuracy.\\n\\n4. **Classification Effectiveness**: The effectiveness of the RAGate gate function is assessed using precision, recall, F1 score, Area Under Curve (AUC), and False Discovery Rate (FDR).\\n\\n5. **KETOD Dialogue System**: The RAGate gate function is integrated into the KETOD dialogue system, which uses GPT-2 as its backbone model. The performance of this augmented system is compared against a baseline without knowledge augmentation.\\n\\n6. **Response Generation Evaluation**: The effectiveness of response generation is measured using BLEU, ROUGE-1/2/L, BERTScores, and a confidence score based on token probabilities, which indicates the likelihood of generating accurate responses.\\n\\n7. **Training and Evaluation Setup**: The models were trained and evaluated on a single machine equipped with an NVIDIA 4090 GPU.\\n\\nOverall, the section highlights the integration of retrieval-augmented generation techniques in conversational AI, focusing on performance metrics and system evaluation.\", 'excerpt_keywords': 'Keywords: RAGate-MHA, knowledge retrieval, TF-IDF, BERT ranker, classification metrics, KE-TOD dataset, conversational systems, response generation, BLEU, AUC'}\n",
            "-_-_-_-_-_-_-_-_-_-_-_-_-_-_-_-_-_-_-_-_\n",
            "Node ID\t daa9740c-f77c-4829-a545-c76da1446dae\n",
            "Title\t Adaptive Retrieval-Augmented Generation for Conversational Systems:Introduction\n",
            "Text\t Table 2 presents a classification accuracy analysis for adaptive augmentation aimed at system response. The terms \"contx\", \"resp\", and \"know\" are used to denote context, initial system response, and retrieved knowledge snippets as inputs, respectively. \"syn-resp\" and \"ner\" refer to additional synthetic response and named entity recognition steps in the model fine-tuning prompts. The variables h, l, and emb are utilized to specify optimal configurations of the number of heads, layers, and embedding size. In reviewing RA-Gate performance alongside LLM prompting versus fine-tuning, the corresponding performance reported in Table 2 indicates that fine-tuning a Llama-2-7B with QLoRA (RA-Gate-PEFT) can significantly outperform the RA-Gate-Prompt approach. Notably, the RA-Gate-PEFT with context-only input, devoid of extra input features and instruction updates, outperforms. A significant performance leap is witnessed by a large margin (e.g., 0.4082 was the highest score compared to 0.1230 F1). This highlights challenges in adaptive knowledge augmentation tasks, which cannot be effectively handled by prompting a generalized pre-trained language model. Larger language models with in-context learning often yield improved performance. However, RA-Gate-PEFT approaches improve precision (0.5203 to 0.6818) but reduce recall (0.3359 to 0.2321). When retrieved knowledge is incorporated into input features, a notable drop in performance is observed across all evaluated aspects, suggesting complexities induced by incorporated knowledge snippets. The exploration of the impact of the knowledge source, such as wikiHow, demonstrates RA-Gate's strengthened prediction and augmentative abilities. Detailed RA-Gate analysis between fine-tuned LLM and MHA classification reveals superior RA-Gate-MHA performance. Table 2 illustrates a wide-margin recall increase using RA-Gate-MHA, with maximum recall of 0.52, although exhibiting lower precision accuracy. When context and initial response are used as inputs, a higher precision is observed but without recall improvement. Hence, the observed trade-off mandates careful RA-Gate strategy consideration. In exploring classification efficiency, Appendix B provides related discussions to validate observed data using RA-Gate for retrieval augmentation predictions.\n",
            "Score\t 0.4455507673208287\n",
            "Metadata\t {'url': 'http://arxiv.org/pdf/2407.21712v1', 'title': 'Adaptive Retrieval-Augmented Generation for Conversational Systems:Introduction', 'tokens': 463, 'source': 'Arxiv: 2407.21712', 'questions_this_excerpt_can_answer': '1. How does the performance of the RA-Gate-PEFT approach compare to the RA-Gate-Prompt approach in terms of classification accuracy when using context-only input?\\n\\n2. What trade-offs are observed in precision and recall when incorporating retrieved knowledge snippets into the RA-Gate model, and how does this impact the overall performance of the system?', 'prev_section_summary': 'The section discusses the evaluation of RAGate methods for adaptive retrieval-augmented generation (RAG) in conversational systems. It highlights the classification accuracy of these methods, specifically focusing on their performance as assessed using the KETOD dataset, which provides detailed human labels for RAG response generation. The excerpt identifies three variants of the RAGate methods explored in the study: RAGate-Prompt (using LLM prompting), RAGate-PEFT (parameter-efficient fine-tuned LLMs), and RAGate-MHA (a neural classifier with a Multi-Head Attention structure).', 'section_summary': \"The section discusses the performance analysis of the RA-Gate model in the context of adaptive retrieval-augmented generation for conversational systems. Key topics include:\\n\\n1. **Classification Accuracy**: The comparison between two approaches—RA-Gate-PEFT (fine-tuned with QLoRA) and RA-Gate-Prompt—indicates that RA-Gate-PEFT significantly outperforms RA-Gate-Prompt, especially when using context-only input. The highest classification accuracy score for RA-Gate-PEFT is noted as 0.4082, compared to 0.1230 for RA-Gate-Prompt.\\n\\n2. **Input Features**: The analysis distinguishes between different input types: context (contx), initial system response (resp), and retrieved knowledge snippets (know). The impact of these inputs on model performance is emphasized.\\n\\n3. **Precision and Recall Trade-offs**: The incorporation of retrieved knowledge snippets into the RA-Gate model improves precision (from 0.5203 to 0.6818) but reduces recall (from 0.3359 to 0.2321). This trade-off highlights the complexities of adaptive knowledge augmentation tasks.\\n\\n4. **Performance Metrics**: The section references specific performance metrics, including F1 scores, precision, and recall, to illustrate the effectiveness of different configurations and approaches.\\n\\n5. **Model Configurations**: The variables h, l, and emb are mentioned as optimal configurations for the number of heads, layers, and embedding size in the model fine-tuning process.\\n\\n6. **Knowledge Source Impact**: The exploration of knowledge sources, such as wikiHow, is noted to enhance RA-Gate's predictive and augmentative capabilities.\\n\\n7. **RA-Gate-MHA Performance**: A comparison between fine-tuned LLM and multi-head attention (MHA) classification reveals that RA-Gate-MHA exhibits superior recall but lower precision, indicating a need for strategic consideration in model design.\\n\\nOverall, the section emphasizes the importance of careful consideration of input features and model configurations to optimize performance in conversational systems.\", 'excerpt_keywords': 'Keywords: adaptive retrieval, augmented generation, conversational systems, classification accuracy, RA-Gate, fine-tuning, precision, recall, knowledge snippets, LLM prompting'}\n",
            "-_-_-_-_-_-_-_-_-_-_-_-_-_-_-_-_-_-_-_-_\n",
            "Node ID\t 40f472bb-265c-438a-bb45-25be7c023dc8\n",
            "Title\t RAG\n",
            "Text\t extractive downstream tasks. We explore ageneral-purpose fine-tuning recipe for retrieval-augmented generation (RAG) — models which combine pre-trainedparametric and non-parametric memory for language generation. We introduce RAG models where the parametric memory is apre-trained seq2seq model and the non-parametric memory is a dense vector index of Wikipedia, accessed with apre-trained neural retriever. We compare two RAG formulations, one which conditions on the same retrieved passagesacross the whole generated sequence, the other can use different passages per token. We fine-tune and evaluate ourmodels on a wide range of knowledge-intensive NLP tasks and set the state-of-the-art on three open domain QA tasks,outperforming parametric seq2seq models and task-specific retrieve-and-extract architectures. For language generationtasks, we find that RAG models generate more specific, diverse and factual language than a state-of-the-artparametric-only seq2seq baseline.*This model was contributed by [ola13](https://huggingface.co/ola13).## Usage tipsRetrieval-augmented generation (\"RAG\") models combine the powers of pretrained dense retrieval (DPR) and Seq2Seq models. RAG models retrieve docs, pass them to a seq2seq model, then marginalize to generate outputs. The retriever and seq2seq modules are initialized from pretrained models, and fine-tuned jointly, allowing both retrieval and generation to adapt to downstream tasks.## RagConfig[[autodoc]] RagConfig## RagTokenizer[[autodoc]] RagTokenizer## Rag specific outputs[[autodoc]] models.rag.modeling_rag.RetrievAugLMMarginOutput[[autodoc]] models.rag.modeling_rag.RetrievAugLMOutput## RagRetriever[[autodoc]] RagRetriever<frameworkcontent><pt>## RagModel[[autodoc]] RagModel    - forward## RagSequenceForGeneration[[autodoc]] RagSequenceForGeneration    - forward    - generate## RagTokenForGeneration[[autodoc]] RagTokenForGeneration    - forward    - generate</pt><tf>## TFRagModel[[autodoc]] TFRagModel    - call## TFRagSequenceForGeneration[[autodoc]] TFRagSequenceForGeneration    - call\n",
            "Score\t 0.44296462279829923\n",
            "Metadata\t {'url': 'https://huggingface.co/docs/transformers/model_doc/rag', 'title': 'RAG', 'tokens': 933, 'source': 'transformers', 'questions_this_excerpt_can_answer': '1. What are the two formulations of RAG models discussed in the context, and how do they differ in terms of passage retrieval during language generation?\\n\\n2. How do RAG models improve upon traditional parametric seq2seq models in terms of language generation, particularly in knowledge-intensive NLP tasks?', 'prev_section_summary': \"The section discusses Retrieval-Augmented Generation (RAG) models, which integrate pretrained dense retrieval (DPR) and sequence-to-sequence (seq2seq) models to enhance performance on knowledge-intensive natural language processing (NLP) tasks. Key components of RAG include:\\n\\n1. **Retrieval Mechanism**: RAG models retrieve relevant documents from a dense vector index (e.g., Wikipedia) using a pretrained neural retriever.\\n2. **Generation Mechanism**: The retrieved documents are then passed to a seq2seq model, which generates outputs based on the retrieved information.\\n3. **Joint Fine-Tuning**: Both the retriever and seq2seq modules are initialized from pretrained models and fine-tuned together, allowing them to adapt to specific downstream tasks.\\n\\nThe excerpt highlights the limitations of traditional pre-trained language models in accessing and manipulating knowledge, particularly in knowledge-intensive tasks. RAG models address these limitations by combining parametric memory (the seq2seq model) with non-parametric memory (the dense vector index), enabling better knowledge retrieval and generation. The section references the foundational paper on RAG, which explores the model's architecture and its effectiveness in various NLP tasks.\", 'section_summary': 'The section discusses Retrieval-Augmented Generation (RAG) models, which integrate pre-trained parametric and non-parametric memory for enhanced language generation. Key topics include:\\n\\n1. **RAG Model Formulations**: Two formulations of RAG models are compared:\\n   - One formulation conditions on the same retrieved passages throughout the entire generated sequence.\\n   - The other formulation allows for different passages to be used for each token in the sequence.\\n\\n2. **Improvements Over Traditional Models**: RAG models outperform traditional parametric sequence-to-sequence (seq2seq) models and task-specific retrieve-and-extract architectures, particularly in knowledge-intensive NLP tasks. They generate more specific, diverse, and factual language compared to state-of-the-art parametric-only seq2seq baselines.\\n\\n3. **Architecture**: RAG models utilize a dense vector index of Wikipedia as non-parametric memory, accessed via a pre-trained neural retriever, while the parametric memory is based on a pre-trained seq2seq model. Both components are fine-tuned jointly to adapt to downstream tasks.\\n\\n4. **Performance**: The models have set state-of-the-art results on three open-domain question-answering tasks.\\n\\nEntities mentioned include:\\n- RAG models\\n- Pre-trained seq2seq models\\n- Dense vector index of Wikipedia\\n- Neural retriever\\n- Knowledge-intensive NLP tasks\\n- Open-domain QA tasks\\n\\nOverall, the section highlights the innovative approach of RAG models in combining retrieval and generation for improved performance in language tasks.', 'excerpt_keywords': 'Keywords: RAG, retrieval-augmented generation, seq2seq models, dense vector index, knowledge-intensive NLP, neural retriever, language generation, fine-tuning, open-domain QA, parametric memory'}\n",
            "-_-_-_-_-_-_-_-_-_-_-_-_-_-_-_-_-_-_-_-_\n"
          ]
        }
      ],
      "source": [
        "for src in response_gpt_4o.source_nodes:\n",
        "    print(\"Node ID\\t\", src.node_id)\n",
        "    print(\"Title\\t\", src.metadata[\"title\"])\n",
        "    print(\"Text\\t\", src.text)\n",
        "    print(\"Score\\t\", src.score)\n",
        "    print(\"Metadata\\t\", src.metadata)\n",
        "    print(\"-_\" * 20)"
      ]
    },
    {
      "cell_type": "code",
      "execution_count": 10,
      "metadata": {
        "id": "LJAuFSPi1el8"
      },
      "outputs": [],
      "source": []
    },
    {
      "cell_type": "markdown",
      "metadata": {
        "id": "gS9rqJsL2FXs"
      },
      "source": [
        "### GPT-4o-mini"
      ]
    },
    {
      "cell_type": "code",
      "execution_count": 11,
      "metadata": {
        "id": "ofd1gaLd2IuW"
      },
      "outputs": [],
      "source": [
        "from llama_index.llms.openai import OpenAI\n",
        "\n",
        "llm_gpt_4o_mini = OpenAI(temperature=1, model=\"gpt-4o-mini\")"
      ]
    },
    {
      "cell_type": "code",
      "execution_count": 12,
      "metadata": {
        "colab": {
          "base_uri": "https://localhost:8080/",
          "height": 174
        },
        "id": "Yoeq2JO42Odz",
        "outputId": "0cb0e9b9-0851-4c6f-9b62-ddba6eade636"
      },
      "outputs": [
        {
          "output_type": "execute_result",
          "data": {
            "text/plain": [
              "\"The knowledge retention abilities of a RAG model and a BERT-based model fine-tuned with parameter-efficient fine-tuning (PEFT) techniques differ significantly, particularly when the knowledge source is removed. \\n\\nRAG models integrate a retrieval mechanism that utilizes non-parametric memory, such as a dense vector index of external knowledge (e.g., Wikipedia), to enhance their outputs. When the knowledge source is available, RAG models retrieve relevant information to generate responses that are more specific, diverse, and factually accurate, which is particularly beneficial for knowledge-intensive tasks.\\n\\nIn contrast, a BERT-based model, even one that has been well fine-tuned with PEFT techniques, primarily relies on its internal parameters for knowledge. Without an external knowledge source, it may struggle to provide accurate or contextually rich responses, as it doesn't have the same direct access to external information that RAG models utilize for generation. The outputs from the BERT model in the absence of additional knowledge sources often lack the specificity and factual grounding present in the RAG model's outputs, making them potentially less informative and more generic.\""
            ],
            "application/vnd.google.colaboratory.intrinsic+json": {
              "type": "string"
            }
          },
          "metadata": {},
          "execution_count": 12
        }
      ],
      "source": [
        "# Query Engine\n",
        "query_engine_1 = vector_index.as_query_engine(llm= llm_gpt_4o_mini , similarity_top_k=5)\n",
        "\n",
        "response_gpt_4o_mini = query_engine_1.query(\"Compare the knowledge retention abilities of a RAG model versus a BERT-based model that has been extensively fine-tuned using PEFT techniques. How do their outputs differ when the knowledge source is removed?\")\n",
        "\n",
        "response_gpt_4o_mini.response"
      ]
    },
    {
      "cell_type": "code",
      "execution_count": 13,
      "metadata": {
        "colab": {
          "base_uri": "https://localhost:8080/"
        },
        "id": "eZBv86WZ2XWw",
        "outputId": "4efc23cf-1573-4672-f933-f6359562dc1a"
      },
      "outputs": [
        {
          "output_type": "stream",
          "name": "stdout",
          "text": [
            "Node ID\t 727ac73b-1bfd-4782-8523-fa38b48cec50\n",
            "Title\t Adaptive Retrieval-Augmented Generation for Conversational Systems:Model Training and Evaluation Setups\n",
            "Text\t We evaluate the performance of introducing RAGate according to its binary classification performance and the effectiveness of the resulting response generation. Specifically, we use the KE-TOD dataset (Chen et al., 2022), which has fully annotated 5,324 dialogues and 52,063 turns of conversations. In particular, it is associated with 33,761 knowledge snippets to be retrieved and augmented. In addition, KETOD was developed with human labels on turns of conversations (around 12.1% of turns) about the need for augmenting with retrieved knowledge snippets for a natural and informative system response. Hence, we use these human labels as natural ground truths when evaluating RAGate. It is worth indicating that many current knowledge-augmented conversational datasets often ground their conversations on the knowledge snippet, such as Wizard of Wikipedia (Dinan et al., 2018) and CMU_DoG (Zhou et al., 2018), which makes them not a natural fit to be investigated in this study. Due to the limited computational resource availability, we explore the use of Llama-v2-7B and Llama-v2-13B to implement RAGate-prompt andfine-tune Llama-v2-7B for RAGate-PEFT. We implement QLoRA using the PEFT library (Mangrulkar et al., 2022) and set the lower rank to 16. As discussed in Section 3, we have various input features to be combined for performance optimisation. We begin with the use of context only, then concatenate the context with the real response (contx-resp), with the synthetic response and recognised entities (contx-syn-resp-ner) and further extend with the use of retrieved knowledge (contx-syn-resp-ner-know) or the source of knowledge (contx-syn-resp-ner-source). Specifically, we retrieve the relevant knowledge by exploring the use of TF-IDF and a learned BERT ranker. We evaluate their performance with the classic Recall@1 and Recall@3 on the test collection. We use a shallow cutoff because we only use top-relevant knowledge snippets for augmentation. Table 1 shows their retrieval performance. According to the leading performance of BERT-Ranker, we augment knowledge with its retrieved top 3 relevant knowledge snippets (i.e., k = 3). Regarding the\n",
            "Score\t 0.48171326649853313\n",
            "Metadata\t {'url': 'http://arxiv.org/pdf/2407.21712v1', 'title': 'Adaptive Retrieval-Augmented Generation for Conversational Systems:Model Training and Evaluation Setups', 'tokens': 781, 'source': 'Arxiv: 2407.21712', 'questions_this_excerpt_can_answer': 'Based on the provided context, here are two specific questions that can be answered using the information given, which are unlikely to be found elsewhere:\\n\\n1. **What dataset is used to evaluate the performance of RAGate, and what specific features does it include for assessing the need for knowledge augmentation in conversational responses?**\\n   - This question targets the specific dataset (KE-TOD) and its features, including the percentage of annotated turns that require knowledge snippets, which is detailed in the context.\\n\\n2. **What methods are employed to retrieve relevant knowledge snippets for augmenting responses in the RAGate framework, and how is their performance evaluated?**\\n   - This question focuses on the retrieval methods (TF-IDF and BERT ranker) and the evaluation metrics (Recall@1 and Recall@3) mentioned in the context, providing insights into the technical aspects of the RAGate implementation.', 'prev_section_summary': \"The section discusses the RAGate-MHA model, which incorporates a multi-head attention mechanism to enhance conversational systems by assessing the necessity of augmentation. It outlines the model's structure, emphasizing the interaction between queries (Q), keys (K), and values (V) in the attention mechanism, defined by the formula Attention(Q, K, V) = softmax(QK^T / sqrt(d_k))V. The context and retrieved knowledge are integrated into these roles to evaluate augmentation needs. Additionally, the section references the encoder construction of a transformer model, which includes input embedding and position encoding layers to process the input data effectively. Key topics include multi-head attention, augmentation necessity, and transformer model architecture.\", 'section_summary': \"The section discusses the evaluation of the RAGate framework for conversational systems, focusing on its performance in binary classification and response generation. Key topics include:\\n\\n1. **Dataset**: The KE-TOD dataset, which consists of 5,324 dialogues and 52,063 conversation turns, is used for evaluation. It includes 33,761 knowledge snippets and human annotations indicating that approximately 12.1% of the conversation turns require knowledge augmentation for more informative responses.\\n\\n2. **Knowledge Augmentation**: The study emphasizes the importance of knowledge snippets in enhancing conversational responses, contrasting KE-TOD with other datasets that are not suitable for this investigation.\\n\\n3. **Model Implementation**: The RAGate framework is implemented using Llama-v2-7B and Llama-v2-13B models, with fine-tuning performed on Llama-v2-7B using QLoRA and the PEFT library.\\n\\n4. **Input Features**: Various input features are combined for performance optimization, including context, real responses, synthetic responses, recognized entities, and retrieved knowledge snippets.\\n\\n5. **Retrieval Methods**: Knowledge snippets are retrieved using TF-IDF and a learned BERT ranker, with performance evaluated using Recall@1 and Recall@3 metrics.\\n\\n6. **Performance Evaluation**: The evaluation focuses on the retrieval performance of knowledge snippets, with the BERT ranker showing superior results, leading to the augmentation of responses with the top 3 relevant knowledge snippets.\\n\\nOverall, the section highlights the methodology and evaluation strategies employed in assessing the RAGate framework's effectiveness in conversational systems.\", 'excerpt_keywords': 'Keywords: RAGate, KE-TOD, knowledge augmentation, conversational systems, TF-IDF, BERT ranker, response generation, binary classification, Llama-v2, performance evaluation'}\n",
            "-_-_-_-_-_-_-_-_-_-_-_-_-_-_-_-_-_-_-_-_\n",
            "Node ID\t e791eaf2-3cdf-477a-8602-1cbb30a3d48c\n",
            "Title\t RAG\n",
            "Text\t # RAG<div class=\"flex flex-wrap space-x-1\"><a href=\"https://huggingface.co/models?filter=rag\"><img alt=\"Models\" src=\"https://img.shields.io/badge/All_model_pages-rag-blueviolet\"></a></div>## OverviewRetrieval-augmented generation (\"RAG\") models combine the powers of pretrained dense retrieval (DPR) andsequence-to-sequence models. RAG models retrieve documents, pass them to a seq2seq model, then marginalize to generateoutputs. The retriever and seq2seq modules are initialized from pretrained models, and fine-tuned jointly, allowingboth retrieval and generation to adapt to downstream tasks.It is based on the paper [Retrieval-Augmented Generation for Knowledge-Intensive NLP Tasks](https://arxiv.org/abs/2005.11401) by Patrick Lewis, Ethan Perez, Aleksandara Piktus, Fabio Petroni, VladimirKarpukhin, Naman Goyal, Heinrich Küttler, Mike Lewis, Wen-tau Yih, Tim Rocktäschel, Sebastian Riedel, Douwe Kiela.The abstract from the paper is the following:*Large pre-trained language models have been shown to store factual knowledge in their parameters, and achievestate-of-the-art results when fine-tuned on downstream NLP tasks. However, their ability to access and preciselymanipulate knowledge is still limited, and hence on knowledge-intensive tasks, their performance lags behindtask-specific architectures. Additionally, providing provenance for their decisions and updating their world knowledgeremain open research problems. Pre-trained models with a differentiable access mechanism to explicit nonparametricmemory can overcome this issue, but have so far been only investigated for extractive downstream tasks. We explore ageneral-purpose fine-tuning recipe for retrieval-augmented generation (RAG) — models which combine pre-trainedparametric and non-parametric memory for language generation. We introduce RAG models where the parametric memory is apre-trained seq2seq model and the non-parametric memory is a dense vector index of Wikipedia, accessed with apre-trained neural retriever. We compare two RAG formulations, one which conditions on the same retrieved passagesacross the whole generated sequence, the other can use different passages per token. We fine-tune and evaluate ourmodels on a wide range of knowledge-intensive\n",
            "Score\t 0.4736500042177129\n",
            "Metadata\t {'url': 'https://huggingface.co/docs/transformers/model_doc/rag', 'title': 'RAG', 'tokens': 933, 'source': 'transformers', 'questions_this_excerpt_can_answer': '1. What are the key components of Retrieval-Augmented Generation (RAG) models, and how do they work together to improve performance on knowledge-intensive NLP tasks?\\n\\n2. How does the RAG model differ from traditional pre-trained language models in terms of accessing and manipulating knowledge for language generation?', 'prev_section_summary': \"The section discusses the use of the BLIP-2 model for visual question answering (VQA) tasks. Key topics include:\\n\\n1. **Model Loading**: Instructions on how to load the BLIP-2 model and processor, with a focus on utilizing GPU resources for improved performance.\\n\\n2. **Input Handling**: The process of preparing input data, which includes loading an image and a corresponding question from a dataset.\\n\\n3. **Textual Prompt Format**: The specific format required for the textual prompt when using the model, which is `Question: {} Answer:`.\\n\\n4. **Preprocessing and Model Inference**: Steps to preprocess the image and prompt, pass them through the model, and decode the generated output.\\n\\n5. **Example Output**: An example of the model's output, demonstrating its ability to recognize elements in the image and respond to the question, albeit with some limitations in accuracy.\\n\\nEntities mentioned include the BLIP-2 model, the Salesforce repository for the model, and the use of the `AutoProcessor` and `Blip2ForConditionalGeneration` classes from the Transformers library.\", 'section_summary': \"The section discusses Retrieval-Augmented Generation (RAG) models, which integrate pretrained dense retrieval (DPR) and sequence-to-sequence (seq2seq) models to enhance performance on knowledge-intensive natural language processing (NLP) tasks. Key components of RAG include:\\n\\n1. **Retrieval Mechanism**: RAG models retrieve relevant documents from a dense vector index (e.g., Wikipedia) using a pretrained neural retriever.\\n2. **Generation Mechanism**: The retrieved documents are then passed to a seq2seq model, which generates outputs based on the retrieved information.\\n3. **Joint Fine-Tuning**: Both the retriever and seq2seq modules are initialized from pretrained models and fine-tuned together, allowing them to adapt to specific downstream tasks.\\n\\nThe excerpt highlights the limitations of traditional pre-trained language models in accessing and manipulating knowledge, particularly in knowledge-intensive tasks. RAG models address these limitations by combining parametric memory (the seq2seq model) with non-parametric memory (the dense vector index), enabling better knowledge retrieval and generation. The section references the foundational paper on RAG, which explores the model's architecture and its effectiveness in various NLP tasks.\", 'excerpt_keywords': 'Keywords: RAG, Retrieval-Augmented Generation, dense retrieval, sequence-to-sequence, knowledge-intensive NLP, parametric memory, non-parametric memory, fine-tuning, neural retriever, document retrieval'}\n",
            "-_-_-_-_-_-_-_-_-_-_-_-_-_-_-_-_-_-_-_-_\n",
            "Node ID\t 9f09a477-cb92-4520-a3fa-cfd9cef07b1d\n",
            "Title\t Adaptive Retrieval-Augmented Generation for Conversational Systems:Model Training and Evaluation Setups\n",
            "Text\t (contx-syn-resp-ner-know) or the source of knowledge (contx-syn-resp-ner-source). Specifically, we retrieve the relevant knowledge by exploring the use of TF-IDF and a learned BERT ranker. We evaluate their performance with the classic Recall@1 and Recall@3 on the test collection. We use a shallow cutoff because we only use top-relevant knowledge snippets for augmentation. Table 1 shows their retrieval performance. According to the leading performance of BERT-Ranker, we augment knowledge with its retrieved top 3 relevant knowledge snippets (i.e., k = 3). Regarding the development of RAGate-MHA, we explore the combinations of 2 to 8 layers, 2 or 4 heads and the embedding size in [64, 128, 256] for the best classification accuracy. We report the precision, recall, F1, Area Under Curve (AUC) and the False Discovery Rate (FDR) as the main measures to show the classification effectiveness. Next, we further deploy the best-performing RAGate gate function to update the KETOD dialogue system (Chen et al., 2022), which uses GPT-2 (Radford et al., 2019) as the backbone model. To highlight the effect of various augmentation setups, we use the context with the gold action without extra prediction as input to KETOD. Then, we compare the resulting performance to the KETOD model without knowledge augmentation and augmenting every system response as baselines. To report the response generation effectiveness, we report how close the response is to the ground truth via BLEU, ROUGE-1/2/L and BERTScores and the confidence score calculated by the minimum probabilities of individual tokens that compose the responses. As argued by Varshney et al. (2023), this calculated confidence score can highly correlate with a language model’s likelihood of generating hallucinated responses. We trained our models and conducted the evaluations on one machine with one NVIDIA 4090 GPU.\n",
            "Score\t 0.4578917912378002\n",
            "Metadata\t {'url': 'http://arxiv.org/pdf/2407.21712v1', 'title': 'Adaptive Retrieval-Augmented Generation for Conversational Systems:Model Training and Evaluation Setups', 'tokens': 781, 'source': 'Arxiv: 2407.21712', 'questions_this_excerpt_can_answer': 'Based on the provided context, here are two specific questions that can be answered using the information given:\\n\\n1. **What retrieval methods were explored for augmenting knowledge in the RAGate-MHA model, and how was their performance evaluated?**\\n   - This question targets the specific retrieval techniques (TF-IDF and BERT ranker) mentioned in the context, as well as the evaluation metrics (Recall@1 and Recall@3) used to assess their performance.\\n\\n2. **What measures were reported to evaluate the classification effectiveness of the RAGate gate function in the KETOD dialogue system?**\\n   - This question focuses on the specific metrics (precision, recall, F1, AUC, and FDR) that were used to demonstrate the classification effectiveness of the RAGate gate function, which is a unique aspect of the study.', 'prev_section_summary': \"The section discusses the evaluation of the RAGate framework for conversational systems, focusing on its performance in binary classification and response generation. Key topics include:\\n\\n1. **Dataset**: The KE-TOD dataset, which consists of 5,324 dialogues and 52,063 conversation turns, is used for evaluation. It includes 33,761 knowledge snippets and human annotations indicating that approximately 12.1% of the conversation turns require knowledge augmentation for more informative responses.\\n\\n2. **Knowledge Augmentation**: The study emphasizes the importance of knowledge snippets in enhancing conversational responses, contrasting KE-TOD with other datasets that are not suitable for this investigation.\\n\\n3. **Model Implementation**: The RAGate framework is implemented using Llama-v2-7B and Llama-v2-13B models, with fine-tuning performed on Llama-v2-7B using QLoRA and the PEFT library.\\n\\n4. **Input Features**: Various input features are combined for performance optimization, including context, real responses, synthetic responses, recognized entities, and retrieved knowledge snippets.\\n\\n5. **Retrieval Methods**: Knowledge snippets are retrieved using TF-IDF and a learned BERT ranker, with performance evaluated using Recall@1 and Recall@3 metrics.\\n\\n6. **Performance Evaluation**: The evaluation focuses on the retrieval performance of knowledge snippets, with the BERT ranker showing superior results, leading to the augmentation of responses with the top 3 relevant knowledge snippets.\\n\\nOverall, the section highlights the methodology and evaluation strategies employed in assessing the RAGate framework's effectiveness in conversational systems.\", 'section_summary': \"The section discusses the methodologies and evaluation metrics used in the development of the RAGate-MHA model for conversational systems, specifically focusing on knowledge retrieval and classification effectiveness. Key topics include:\\n\\n1. **Retrieval Methods**: The exploration of TF-IDF and a learned BERT ranker for retrieving relevant knowledge snippets, with performance evaluated using Recall@1 and Recall@3 metrics.\\n\\n2. **Knowledge Augmentation**: The model augments knowledge by utilizing the top 3 relevant snippets retrieved by the BERT ranker.\\n\\n3. **Model Development**: The RAGate-MHA model's architecture is optimized by experimenting with different configurations, including layer counts, head counts, and embedding sizes to achieve the best classification accuracy.\\n\\n4. **Classification Effectiveness**: The effectiveness of the RAGate gate function is assessed using precision, recall, F1 score, Area Under Curve (AUC), and False Discovery Rate (FDR).\\n\\n5. **KETOD Dialogue System**: The RAGate gate function is integrated into the KETOD dialogue system, which uses GPT-2 as its backbone model. The performance of this augmented system is compared against a baseline without knowledge augmentation.\\n\\n6. **Response Generation Evaluation**: The effectiveness of response generation is measured using BLEU, ROUGE-1/2/L, BERTScores, and a confidence score based on token probabilities, which indicates the likelihood of generating accurate responses.\\n\\n7. **Training and Evaluation Setup**: The models were trained and evaluated on a single machine equipped with an NVIDIA 4090 GPU.\\n\\nOverall, the section highlights the integration of retrieval-augmented generation techniques in conversational AI, focusing on performance metrics and system evaluation.\", 'excerpt_keywords': 'Keywords: RAGate-MHA, knowledge retrieval, TF-IDF, BERT ranker, classification metrics, KE-TOD dataset, conversational systems, response generation, BLEU, AUC'}\n",
            "-_-_-_-_-_-_-_-_-_-_-_-_-_-_-_-_-_-_-_-_\n",
            "Node ID\t daa9740c-f77c-4829-a545-c76da1446dae\n",
            "Title\t Adaptive Retrieval-Augmented Generation for Conversational Systems:Introduction\n",
            "Text\t Table 2 presents a classification accuracy analysis for adaptive augmentation aimed at system response. The terms \"contx\", \"resp\", and \"know\" are used to denote context, initial system response, and retrieved knowledge snippets as inputs, respectively. \"syn-resp\" and \"ner\" refer to additional synthetic response and named entity recognition steps in the model fine-tuning prompts. The variables h, l, and emb are utilized to specify optimal configurations of the number of heads, layers, and embedding size. In reviewing RA-Gate performance alongside LLM prompting versus fine-tuning, the corresponding performance reported in Table 2 indicates that fine-tuning a Llama-2-7B with QLoRA (RA-Gate-PEFT) can significantly outperform the RA-Gate-Prompt approach. Notably, the RA-Gate-PEFT with context-only input, devoid of extra input features and instruction updates, outperforms. A significant performance leap is witnessed by a large margin (e.g., 0.4082 was the highest score compared to 0.1230 F1). This highlights challenges in adaptive knowledge augmentation tasks, which cannot be effectively handled by prompting a generalized pre-trained language model. Larger language models with in-context learning often yield improved performance. However, RA-Gate-PEFT approaches improve precision (0.5203 to 0.6818) but reduce recall (0.3359 to 0.2321). When retrieved knowledge is incorporated into input features, a notable drop in performance is observed across all evaluated aspects, suggesting complexities induced by incorporated knowledge snippets. The exploration of the impact of the knowledge source, such as wikiHow, demonstrates RA-Gate's strengthened prediction and augmentative abilities. Detailed RA-Gate analysis between fine-tuned LLM and MHA classification reveals superior RA-Gate-MHA performance. Table 2 illustrates a wide-margin recall increase using RA-Gate-MHA, with maximum recall of 0.52, although exhibiting lower precision accuracy. When context and initial response are used as inputs, a higher precision is observed but without recall improvement. Hence, the observed trade-off mandates careful RA-Gate strategy consideration. In exploring classification efficiency, Appendix B provides related discussions to validate observed data using RA-Gate for retrieval augmentation predictions.\n",
            "Score\t 0.4455507673208287\n",
            "Metadata\t {'url': 'http://arxiv.org/pdf/2407.21712v1', 'title': 'Adaptive Retrieval-Augmented Generation for Conversational Systems:Introduction', 'tokens': 463, 'source': 'Arxiv: 2407.21712', 'questions_this_excerpt_can_answer': '1. How does the performance of the RA-Gate-PEFT approach compare to the RA-Gate-Prompt approach in terms of classification accuracy when using context-only input?\\n\\n2. What trade-offs are observed in precision and recall when incorporating retrieved knowledge snippets into the RA-Gate model, and how does this impact the overall performance of the system?', 'prev_section_summary': 'The section discusses the evaluation of RAGate methods for adaptive retrieval-augmented generation (RAG) in conversational systems. It highlights the classification accuracy of these methods, specifically focusing on their performance as assessed using the KETOD dataset, which provides detailed human labels for RAG response generation. The excerpt identifies three variants of the RAGate methods explored in the study: RAGate-Prompt (using LLM prompting), RAGate-PEFT (parameter-efficient fine-tuned LLMs), and RAGate-MHA (a neural classifier with a Multi-Head Attention structure).', 'section_summary': \"The section discusses the performance analysis of the RA-Gate model in the context of adaptive retrieval-augmented generation for conversational systems. Key topics include:\\n\\n1. **Classification Accuracy**: The comparison between two approaches—RA-Gate-PEFT (fine-tuned with QLoRA) and RA-Gate-Prompt—indicates that RA-Gate-PEFT significantly outperforms RA-Gate-Prompt, especially when using context-only input. The highest classification accuracy score for RA-Gate-PEFT is noted as 0.4082, compared to 0.1230 for RA-Gate-Prompt.\\n\\n2. **Input Features**: The analysis distinguishes between different input types: context (contx), initial system response (resp), and retrieved knowledge snippets (know). The impact of these inputs on model performance is emphasized.\\n\\n3. **Precision and Recall Trade-offs**: The incorporation of retrieved knowledge snippets into the RA-Gate model improves precision (from 0.5203 to 0.6818) but reduces recall (from 0.3359 to 0.2321). This trade-off highlights the complexities of adaptive knowledge augmentation tasks.\\n\\n4. **Performance Metrics**: The section references specific performance metrics, including F1 scores, precision, and recall, to illustrate the effectiveness of different configurations and approaches.\\n\\n5. **Model Configurations**: The variables h, l, and emb are mentioned as optimal configurations for the number of heads, layers, and embedding size in the model fine-tuning process.\\n\\n6. **Knowledge Source Impact**: The exploration of knowledge sources, such as wikiHow, is noted to enhance RA-Gate's predictive and augmentative capabilities.\\n\\n7. **RA-Gate-MHA Performance**: A comparison between fine-tuned LLM and multi-head attention (MHA) classification reveals that RA-Gate-MHA exhibits superior recall but lower precision, indicating a need for strategic consideration in model design.\\n\\nOverall, the section emphasizes the importance of careful consideration of input features and model configurations to optimize performance in conversational systems.\", 'excerpt_keywords': 'Keywords: adaptive retrieval, augmented generation, conversational systems, classification accuracy, RA-Gate, fine-tuning, precision, recall, knowledge snippets, LLM prompting'}\n",
            "-_-_-_-_-_-_-_-_-_-_-_-_-_-_-_-_-_-_-_-_\n",
            "Node ID\t 40f472bb-265c-438a-bb45-25be7c023dc8\n",
            "Title\t RAG\n",
            "Text\t extractive downstream tasks. We explore ageneral-purpose fine-tuning recipe for retrieval-augmented generation (RAG) — models which combine pre-trainedparametric and non-parametric memory for language generation. We introduce RAG models where the parametric memory is apre-trained seq2seq model and the non-parametric memory is a dense vector index of Wikipedia, accessed with apre-trained neural retriever. We compare two RAG formulations, one which conditions on the same retrieved passagesacross the whole generated sequence, the other can use different passages per token. We fine-tune and evaluate ourmodels on a wide range of knowledge-intensive NLP tasks and set the state-of-the-art on three open domain QA tasks,outperforming parametric seq2seq models and task-specific retrieve-and-extract architectures. For language generationtasks, we find that RAG models generate more specific, diverse and factual language than a state-of-the-artparametric-only seq2seq baseline.*This model was contributed by [ola13](https://huggingface.co/ola13).## Usage tipsRetrieval-augmented generation (\"RAG\") models combine the powers of pretrained dense retrieval (DPR) and Seq2Seq models. RAG models retrieve docs, pass them to a seq2seq model, then marginalize to generate outputs. The retriever and seq2seq modules are initialized from pretrained models, and fine-tuned jointly, allowing both retrieval and generation to adapt to downstream tasks.## RagConfig[[autodoc]] RagConfig## RagTokenizer[[autodoc]] RagTokenizer## Rag specific outputs[[autodoc]] models.rag.modeling_rag.RetrievAugLMMarginOutput[[autodoc]] models.rag.modeling_rag.RetrievAugLMOutput## RagRetriever[[autodoc]] RagRetriever<frameworkcontent><pt>## RagModel[[autodoc]] RagModel    - forward## RagSequenceForGeneration[[autodoc]] RagSequenceForGeneration    - forward    - generate## RagTokenForGeneration[[autodoc]] RagTokenForGeneration    - forward    - generate</pt><tf>## TFRagModel[[autodoc]] TFRagModel    - call## TFRagSequenceForGeneration[[autodoc]] TFRagSequenceForGeneration    - call\n",
            "Score\t 0.44296462279829923\n",
            "Metadata\t {'url': 'https://huggingface.co/docs/transformers/model_doc/rag', 'title': 'RAG', 'tokens': 933, 'source': 'transformers', 'questions_this_excerpt_can_answer': '1. What are the two formulations of RAG models discussed in the context, and how do they differ in terms of passage retrieval during language generation?\\n\\n2. How do RAG models improve upon traditional parametric seq2seq models in terms of language generation, particularly in knowledge-intensive NLP tasks?', 'prev_section_summary': \"The section discusses Retrieval-Augmented Generation (RAG) models, which integrate pretrained dense retrieval (DPR) and sequence-to-sequence (seq2seq) models to enhance performance on knowledge-intensive natural language processing (NLP) tasks. Key components of RAG include:\\n\\n1. **Retrieval Mechanism**: RAG models retrieve relevant documents from a dense vector index (e.g., Wikipedia) using a pretrained neural retriever.\\n2. **Generation Mechanism**: The retrieved documents are then passed to a seq2seq model, which generates outputs based on the retrieved information.\\n3. **Joint Fine-Tuning**: Both the retriever and seq2seq modules are initialized from pretrained models and fine-tuned together, allowing them to adapt to specific downstream tasks.\\n\\nThe excerpt highlights the limitations of traditional pre-trained language models in accessing and manipulating knowledge, particularly in knowledge-intensive tasks. RAG models address these limitations by combining parametric memory (the seq2seq model) with non-parametric memory (the dense vector index), enabling better knowledge retrieval and generation. The section references the foundational paper on RAG, which explores the model's architecture and its effectiveness in various NLP tasks.\", 'section_summary': 'The section discusses Retrieval-Augmented Generation (RAG) models, which integrate pre-trained parametric and non-parametric memory for enhanced language generation. Key topics include:\\n\\n1. **RAG Model Formulations**: Two formulations of RAG models are compared:\\n   - One formulation conditions on the same retrieved passages throughout the entire generated sequence.\\n   - The other formulation allows for different passages to be used for each token in the sequence.\\n\\n2. **Improvements Over Traditional Models**: RAG models outperform traditional parametric sequence-to-sequence (seq2seq) models and task-specific retrieve-and-extract architectures, particularly in knowledge-intensive NLP tasks. They generate more specific, diverse, and factual language compared to state-of-the-art parametric-only seq2seq baselines.\\n\\n3. **Architecture**: RAG models utilize a dense vector index of Wikipedia as non-parametric memory, accessed via a pre-trained neural retriever, while the parametric memory is based on a pre-trained seq2seq model. Both components are fine-tuned jointly to adapt to downstream tasks.\\n\\n4. **Performance**: The models have set state-of-the-art results on three open-domain question-answering tasks.\\n\\nEntities mentioned include:\\n- RAG models\\n- Pre-trained seq2seq models\\n- Dense vector index of Wikipedia\\n- Neural retriever\\n- Knowledge-intensive NLP tasks\\n- Open-domain QA tasks\\n\\nOverall, the section highlights the innovative approach of RAG models in combining retrieval and generation for improved performance in language tasks.', 'excerpt_keywords': 'Keywords: RAG, retrieval-augmented generation, seq2seq models, dense vector index, knowledge-intensive NLP, neural retriever, language generation, fine-tuning, open-domain QA, parametric memory'}\n",
            "-_-_-_-_-_-_-_-_-_-_-_-_-_-_-_-_-_-_-_-_\n"
          ]
        }
      ],
      "source": [
        "for src in response_gpt_4o_mini.source_nodes:\n",
        "    print(\"Node ID\\t\", src.node_id)\n",
        "    print(\"Title\\t\", src.metadata[\"title\"])\n",
        "    print(\"Text\\t\", src.text)\n",
        "    print(\"Score\\t\", src.score)\n",
        "    print(\"Metadata\\t\", src.metadata)\n",
        "    print(\"-_\" * 20)"
      ]
    },
    {
      "cell_type": "markdown",
      "metadata": {
        "id": "Sdr5WHyY7SMU"
      },
      "source": [
        "### Dataset Format validation & Number of tokens in training data"
      ]
    },
    {
      "cell_type": "code",
      "execution_count": 14,
      "metadata": {
        "id": "iretUMT97R92"
      },
      "outputs": [],
      "source": [
        "# Format error checks\n",
        "\n",
        "# https://cookbook.openai.com/examples/chat_finetuning_data_prep\n",
        "\n",
        "from collections import defaultdict\n",
        "format_errors = defaultdict(int)\n",
        "\n",
        "def validate_dataset(output_data):\n",
        "\n",
        "  for ex in output_data:\n",
        "      if not isinstance(ex, dict):\n",
        "          format_errors[\"data_type\"] += 1\n",
        "          continue\n",
        "\n",
        "      messages = ex.get(\"messages\", None)\n",
        "      if not messages:\n",
        "          format_errors[\"missing_messages_list\"] += 1\n",
        "          continue\n",
        "\n",
        "      for message in messages:\n",
        "          if \"role\" not in message or \"content\" not in message:\n",
        "              format_errors[\"message_missing_key\"] += 1\n",
        "\n",
        "          if any(k not in (\"role\", \"content\", \"name\", \"function_call\", \"weight\") for k in message):\n",
        "              format_errors[\"message_unrecognized_key\"] += 1\n",
        "\n",
        "          if message.get(\"role\", None) not in (\"system\", \"user\", \"assistant\", \"function\"):\n",
        "              format_errors[\"unrecognized_role\"] += 1\n",
        "\n",
        "          content = message.get(\"content\", None)\n",
        "          function_call = message.get(\"function_call\", None)\n",
        "\n",
        "          if (not content and not function_call) or not isinstance(content, str):\n",
        "              format_errors[\"missing_content\"] += 1\n",
        "\n",
        "      if not any(message.get(\"role\", None) == \"assistant\" for message in messages):\n",
        "          format_errors[\"example_missing_assistant_message\"] += 1\n",
        "\n",
        "  if format_errors:\n",
        "      print(\"Found errors:\")\n",
        "      for k, v in format_errors.items():\n",
        "          print(f\"{k}: {v}\")\n",
        "  else:\n",
        "      print(\"\\nNo errors found in the Formatted dataset \\n\")"
      ]
    },
    {
      "cell_type": "code",
      "execution_count": 15,
      "metadata": {
        "id": "jpWFk33gI7Vy"
      },
      "outputs": [],
      "source": [
        "import tiktoken\n",
        "\n",
        "def counting_no_tokens(output_data):\n",
        "\n",
        "  tokenizer = tiktoken.encoding_for_model(\"gpt-4o-mini\")\n",
        "\n",
        "  total_tokens = sum(len(tokenizer.encode(\" \".join(message['content'] for message in entry['messages']))) for entry in output_data)\n",
        "\n",
        "  print(f\"Total number of tokens in the Dataset: {total_tokens} \\n\")"
      ]
    },
    {
      "cell_type": "code",
      "execution_count": 16,
      "metadata": {
        "id": "b1ZDGaCoQW0M"
      },
      "outputs": [],
      "source": [
        "from huggingface_hub import hf_hub_download\n",
        "import json\n",
        "import jsonlines\n",
        "from pprint import pprint\n",
        "\n",
        "def dataset_preparation(file_name):\n",
        "    file_path = hf_hub_download(\n",
        "        repo_id=\"jaiganesan/GPT_4o_mini_Fine_tune\",\n",
        "        filename=file_name,\n",
        "        repo_type=\"dataset\",\n",
        "        local_dir=\"/content\"\n",
        "    )\n",
        "\n",
        "    with open(file_path, \"r\") as file:\n",
        "        data = [json.loads(line) for line in file]\n",
        "\n",
        "    print(\"Total entries in the dataset:\", len(data))\n",
        "    print(\"-_\"*30)\n",
        "    print(data[4])\n",
        "\n",
        "    output_data = []\n",
        "\n",
        "    for entry in data:\n",
        "        formatted_entry = {\n",
        "            \"messages\": [\n",
        "                {\"role\": \"system\", \"content\": \"As AI Tutor, answer questions related to AI topics in an in-depth and factual manner.\"},\n",
        "                {\"role\": \"user\", \"content\": entry['question']},\n",
        "                {\"role\": \"assistant\", \"content\": entry['answer']}\n",
        "            ]\n",
        "        }\n",
        "        output_data.append(formatted_entry)\n",
        "\n",
        "    # Validate and analyze the output data\n",
        "    validate_dataset(output_data)\n",
        "    counting_no_tokens(output_data)\n",
        "\n",
        "    print(\"-_\"*30)\n",
        "    print(output_data[4])\n",
        "\n",
        "    base_file_name = os.path.splitext(file_name)[0]\n",
        "    output_file_path = f'formatted_{base_file_name}.jsonl'\n",
        "\n",
        "    with jsonlines.open(output_file_path, mode='w') as writer:\n",
        "        writer.write_all(output_data)\n",
        "\n",
        "    print(f\"\\nFormatted dataset has been saved to {output_file_path}.\")\n"
      ]
    },
    {
      "cell_type": "code",
      "execution_count": 17,
      "metadata": {
        "colab": {
          "base_uri": "https://localhost:8080/",
          "height": 277,
          "referenced_widgets": [
            "eb919faff397466f937c7f537b66205b",
            "24db46d07d774afa8f6941e483c22dae",
            "e5c0cb52bc4f4dcc8c43114fe5cb8322",
            "d26c5efdb3dd4d36b486dcae6ae47a6f",
            "8b88b2cf18954671a9ee65425cf7b02e",
            "b8b6dedcde0c49ec8101725bea0eeb43",
            "c4809f5761b3447d849305bb3e619915",
            "037bb6c5cf504b4bbdb9630eed39b1da",
            "fd7ec394ca794c34bd1f2bf527cf1fa7",
            "f2a8e3d4d3af4925b8be7074ee7b8e34",
            "11bcdf2dce584f4b934951649253c409"
          ]
        },
        "collapsed": true,
        "id": "LIQ34EWCp3n1",
        "outputId": "b2226793-78c4-4ece-9ff1-28f20fd25fc0"
      },
      "outputs": [
        {
          "output_type": "display_data",
          "data": {
            "text/plain": [
              "question_answers_data_100.jsonl:   0%|          | 0.00/276k [00:00<?, ?B/s]"
            ],
            "application/vnd.jupyter.widget-view+json": {
              "version_major": 2,
              "version_minor": 0,
              "model_id": "eb919faff397466f937c7f537b66205b"
            }
          },
          "metadata": {}
        },
        {
          "output_type": "stream",
          "name": "stdout",
          "text": [
            "Total entries in the dataset: 100\n",
            "-_-_-_-_-_-_-_-_-_-_-_-_-_-_-_-_-_-_-_-_-_-_-_-_-_-_-_-_-_-_\n",
            "{'source': 'tai_blog', 'question': 'What are the key advantages of using BiFPN in object detection compared to conventional methods?', 'answer': \"BiFPN, or Bi-directional Feature Pyramid Network, offers several advantages in object detection when compared to conventional methods. It's part of the EfficientDet family of object detectors developed by Google Research and is designed to enhance the efficiency and scalability of object detection models.\\n\\n### Key Advantages of BiFPN:\\n\\n1. **Weighted Feature Fusion:**\\n   Unlike conventional methods that simply sum up input features during feature fusion, BiFPN introduces learnable weights to adjust the importance of different input features. This means that during multi-scale fusion, input features are not merely combined indiscriminately but are weighted according to their relevance, which enhances the accuracy of the fusion process.\\n\\n2. **Bidirectional Information Flow:**\\n   Traditional Feature Pyramid Networks (FPN) typically allow one-way information flow, either bottom-up or top-down. BiFPN, however, combines these approaches by introducing a bi-directional path that incorporates both bottom-up and top-down pathways. This design maximizes the use of high-level and low-level features for better object detection across scales.\\n\\n3. **Efficiency and Scalable Design:**\\n   By incorporating compound scaling and EfficientNet as the backbone, BiFPN allows for efficient scaling up of network dimensions such as depth, width, and resolution. This results in better accuracy with significantly fewer parameters and reduced computation needs (FLOPS) in comparison to previous state-of-the-art detectors.\\n\\n### Comparison with Conventional Methods:\\n\\n- **Conventional Methods:** Traditional object detection methods such as Faster R-CNN, SSD, and YOLO have their own strengths and limitations. For instance, Faster R-CNN is known for its high accuracy but at the cost of speed due to its region proposal network. YOLO, on the other hand, is faster but may struggle with detecting smaller objects due to its single shot approach. Each method applies different strategies, including layered CNNs, feature fusion, and multi-stage processing, but might not handle multi-scale features as effectively as BiFPN.\\n\\n- **Performance:** BiFPN outperforms traditional methods by effectively utilizing available computation resources with a simplified yet potent architecture, allowing real-time uses in applications requiring high precision with a smaller model footprint.\\n\\nIn summary, BiFPN's ability to fuse features more intelligently and its bi-directional design make it a superior choice in scenarios demanding high computational efficiency and scalability, like mobile applications or real-time systems.\\n\\nIf you have deeper questions about any specific aspect of BiFPN or related technologies, feel free to ask!\"}\n",
            "\n",
            "No errors found in the Formatted dataset \n",
            "\n",
            "Total number of tokens in the Dataset: 50425 \n",
            "\n",
            "-_-_-_-_-_-_-_-_-_-_-_-_-_-_-_-_-_-_-_-_-_-_-_-_-_-_-_-_-_-_\n",
            "{'messages': [{'role': 'system', 'content': 'As AI Tutor, answer questions related to AI topics in an in-depth and factual manner.'}, {'role': 'user', 'content': 'What are the key advantages of using BiFPN in object detection compared to conventional methods?'}, {'role': 'assistant', 'content': \"BiFPN, or Bi-directional Feature Pyramid Network, offers several advantages in object detection when compared to conventional methods. It's part of the EfficientDet family of object detectors developed by Google Research and is designed to enhance the efficiency and scalability of object detection models.\\n\\n### Key Advantages of BiFPN:\\n\\n1. **Weighted Feature Fusion:**\\n   Unlike conventional methods that simply sum up input features during feature fusion, BiFPN introduces learnable weights to adjust the importance of different input features. This means that during multi-scale fusion, input features are not merely combined indiscriminately but are weighted according to their relevance, which enhances the accuracy of the fusion process.\\n\\n2. **Bidirectional Information Flow:**\\n   Traditional Feature Pyramid Networks (FPN) typically allow one-way information flow, either bottom-up or top-down. BiFPN, however, combines these approaches by introducing a bi-directional path that incorporates both bottom-up and top-down pathways. This design maximizes the use of high-level and low-level features for better object detection across scales.\\n\\n3. **Efficiency and Scalable Design:**\\n   By incorporating compound scaling and EfficientNet as the backbone, BiFPN allows for efficient scaling up of network dimensions such as depth, width, and resolution. This results in better accuracy with significantly fewer parameters and reduced computation needs (FLOPS) in comparison to previous state-of-the-art detectors.\\n\\n### Comparison with Conventional Methods:\\n\\n- **Conventional Methods:** Traditional object detection methods such as Faster R-CNN, SSD, and YOLO have their own strengths and limitations. For instance, Faster R-CNN is known for its high accuracy but at the cost of speed due to its region proposal network. YOLO, on the other hand, is faster but may struggle with detecting smaller objects due to its single shot approach. Each method applies different strategies, including layered CNNs, feature fusion, and multi-stage processing, but might not handle multi-scale features as effectively as BiFPN.\\n\\n- **Performance:** BiFPN outperforms traditional methods by effectively utilizing available computation resources with a simplified yet potent architecture, allowing real-time uses in applications requiring high precision with a smaller model footprint.\\n\\nIn summary, BiFPN's ability to fuse features more intelligently and its bi-directional design make it a superior choice in scenarios demanding high computational efficiency and scalability, like mobile applications or real-time systems.\\n\\nIf you have deeper questions about any specific aspect of BiFPN or related technologies, feel free to ask!\"}]}\n",
            "\n",
            "Formatted dataset has been saved to formatted_question_answers_data_100.jsonl.\n"
          ]
        }
      ],
      "source": [
        "# Training Dataset\n",
        "dataset_preparation(\"question_answers_data_100.jsonl\")"
      ]
    },
    {
      "cell_type": "code",
      "execution_count": 18,
      "metadata": {
        "colab": {
          "base_uri": "https://localhost:8080/",
          "height": 277,
          "referenced_widgets": [
            "00a96292e968419580bf1b240b878747",
            "60cfaa9d2fdd47bea593995cbb1db7b8",
            "84599349c9724461b07c213c82cc4759",
            "22b536e1ea4f48d2891147004a7c9095",
            "a9f04da765ef4a4fb1b49265f5880cd0",
            "ee565b761de742e0a787f818deec3775",
            "b8fee1c435414bc1bf8667039b93fc96",
            "6cfec04926e44a9194cf2105e6221e4b",
            "a110ea411bd64557bd0122b7d026e2ca",
            "5d216eb4db9f442f9f650f837e3e12f7",
            "cec9b882b2514363aaaa654be99e2bde"
          ]
        },
        "collapsed": true,
        "id": "ecqVH0tXp3kk",
        "outputId": "4cb9e0d9-96e7-4ef8-dbe2-841d10b5a505"
      },
      "outputs": [
        {
          "output_type": "display_data",
          "data": {
            "text/plain": [
              "question_answers_data_30.jsonl:   0%|          | 0.00/81.6k [00:00<?, ?B/s]"
            ],
            "application/vnd.jupyter.widget-view+json": {
              "version_major": 2,
              "version_minor": 0,
              "model_id": "00a96292e968419580bf1b240b878747"
            }
          },
          "metadata": {}
        },
        {
          "output_type": "stream",
          "name": "stdout",
          "text": [
            "Total entries in the dataset: 30\n",
            "-_-_-_-_-_-_-_-_-_-_-_-_-_-_-_-_-_-_-_-_-_-_-_-_-_-_-_-_-_-_\n",
            "{'source': 'openai_cookbooks', 'question': 'How can creating high-quality evaluations for large language models like GPT-4 improve the stability and reliability of AI applications?', 'answer': \"Creating high-quality evaluations for large language models (LLMs), like GPT-4, significantly enhances the stability and reliability of AI applications. Evaluations serve as a robust mechanism to monitor and assess how well these models perform across various scenarios, ultimately leading to improvements in model robustness and reliability.\\n\\nFirstly, high-quality evaluations can help identify and address areas where models may be underperforming. For instance, systematic evaluations can uncover issues such as drifting performance or deteriorating accuracy over time. By regularly evaluating LLMs against a comprehensive set of benchmarks, developers can detect and correct potential degradation in model performance, as seen with concerns over GPT-4's variations in specific tasks and formatting errors.\\n\\nMoreover, evaluations allow developers to monitor model performance in real-world applications and compare them against alternative solutions. For example, tools like LangSmith enable post-deployment monitoring of LLMs, offering functions to analyze and track model outputs, accuracy, and engagement over time. Such continuous assessment ensures models maintain an acceptable level of performance and reliability and facilitates swift intervention if issues arise.\\n\\nAdditionally, evaluations can assist in optimizing specific applications by providing insights into how models respond to different inputs and contexts. By leveraging structured testing frameworks like those designed to evaluate multi-round conversations or coding tasks, developers can fine-tune models to meet specific application needs better. This iterative process of evaluation and refinement helps in aligning model outputs with desired outcomes more effectively.\\n\\nUltimately, thorough evaluations contribute to the development of LLMs that are more consistent and reliable, thereby offering stability to applications relying on these models. By providing frameworks to continuously test and improve models, developers can ensure higher performance standards, thus enhancing the trustworthiness of AI solutions deployed in various industries.\\n\\nFeel free to ask more questions if you wish to explore any particular aspects further!\"}\n",
            "\n",
            "No errors found in the Formatted dataset \n",
            "\n",
            "Total number of tokens in the Dataset: 14811 \n",
            "\n",
            "-_-_-_-_-_-_-_-_-_-_-_-_-_-_-_-_-_-_-_-_-_-_-_-_-_-_-_-_-_-_\n",
            "{'messages': [{'role': 'system', 'content': 'As AI Tutor, answer questions related to AI topics in an in-depth and factual manner.'}, {'role': 'user', 'content': 'How can creating high-quality evaluations for large language models like GPT-4 improve the stability and reliability of AI applications?'}, {'role': 'assistant', 'content': \"Creating high-quality evaluations for large language models (LLMs), like GPT-4, significantly enhances the stability and reliability of AI applications. Evaluations serve as a robust mechanism to monitor and assess how well these models perform across various scenarios, ultimately leading to improvements in model robustness and reliability.\\n\\nFirstly, high-quality evaluations can help identify and address areas where models may be underperforming. For instance, systematic evaluations can uncover issues such as drifting performance or deteriorating accuracy over time. By regularly evaluating LLMs against a comprehensive set of benchmarks, developers can detect and correct potential degradation in model performance, as seen with concerns over GPT-4's variations in specific tasks and formatting errors.\\n\\nMoreover, evaluations allow developers to monitor model performance in real-world applications and compare them against alternative solutions. For example, tools like LangSmith enable post-deployment monitoring of LLMs, offering functions to analyze and track model outputs, accuracy, and engagement over time. Such continuous assessment ensures models maintain an acceptable level of performance and reliability and facilitates swift intervention if issues arise.\\n\\nAdditionally, evaluations can assist in optimizing specific applications by providing insights into how models respond to different inputs and contexts. By leveraging structured testing frameworks like those designed to evaluate multi-round conversations or coding tasks, developers can fine-tune models to meet specific application needs better. This iterative process of evaluation and refinement helps in aligning model outputs with desired outcomes more effectively.\\n\\nUltimately, thorough evaluations contribute to the development of LLMs that are more consistent and reliable, thereby offering stability to applications relying on these models. By providing frameworks to continuously test and improve models, developers can ensure higher performance standards, thus enhancing the trustworthiness of AI solutions deployed in various industries.\\n\\nFeel free to ask more questions if you wish to explore any particular aspects further!\"}]}\n",
            "\n",
            "Formatted dataset has been saved to formatted_question_answers_data_30.jsonl.\n"
          ]
        }
      ],
      "source": [
        "# Evaluation Dataset\n",
        "dataset_preparation(\"question_answers_data_30.jsonl\")"
      ]
    },
    {
      "cell_type": "markdown",
      "metadata": {
        "id": "BKm-7AlirgPn"
      },
      "source": [
        "**This Formatted Training and Evaluation Datasets are being used in the OpenAI Models Fine tuning**"
      ]
    },
    {
      "cell_type": "markdown",
      "metadata": {
        "id": "BVgfxd4Jog5H"
      },
      "source": [
        "**Up until now, we have explored response generation in RAG System using GPT-4o and GPT-4o-mini and Formatting Training data. Moving forward, we will focus on response generation using a newly fine-tuned model. In our lesson, we explored the process of fine-tuning through the OpenAI UI. However, if you want to learn about Fine tuning OpenAI Models using Code, You can explore the code sections in the notebook.**"
      ]
    },
    {
      "cell_type": "markdown",
      "metadata": {
        "id": "01KnnngWoabW"
      },
      "source": [
        "## Response Generation Using New Fine Tuned Model"
      ]
    },
    {
      "cell_type": "code",
      "execution_count": 22,
      "metadata": {
        "id": "eeH_oG6KoQ36"
      },
      "outputs": [],
      "source": [
        "# Fine Tuned Model\n",
        "\n",
        "from llama_index.llms.openai import OpenAI\n",
        "\n",
        "llm_gpt_fine_tuned_model = OpenAI(temperature=1, model=\"ft:gpt-4o-mini-2024-07-18:towards-ai:ai-tutor:AIc6MRSB\")"
      ]
    },
    {
      "cell_type": "code",
      "execution_count": 23,
      "metadata": {
        "colab": {
          "base_uri": "https://localhost:8080/",
          "height": 226
        },
        "id": "ZLnn76-aoQ1I",
        "outputId": "5557444d-a1e7-46a3-85c5-eabb2ae0a948"
      },
      "outputs": [
        {
          "output_type": "execute_result",
          "data": {
            "text/plain": [
              "'The performance of a RAG model in terms of knowledge retention abilities shows a significant improvement over a BERT-based model that is extensively fine-tuned using PEFT techniques, especially in knowledge-intensive tasks. RAG models are designed to integrate both parametric and non-parametric memory components, utilizing a dense vector index of external knowledge (like Wikipedia) and enhancing their outputs with this retrieved information. This feature allows RAG models to accurately recall and generate specific, diverse, and factual content, resulting in superior performance on tasks requiring up-to-date knowledge.\\n\\nBERT-based models, even when fine-tuned with PEFT techniques, tend to retain knowledge primarily through their model parameters but cannot dynamically access external knowledge bases. This lack of an external knowledge link means that BERT models face limitations in accessing real-time or extensive domain knowledge, leading to outdated or generalized generative outputs when the knowledge source is removed.\\n\\nWhen the knowledge source is removed, outputs from a RAG model that relies on external knowledge will likely be less factually accurate and decrease in diversity and specificity. In contrast, a BERT-based model may still produce coherent text but its content quality is significantly affected, leading to generic responses lacking in recent or domain-specific insights. Thus, while BERT models can generate decent outputs from their training data, RAG models excel because they combine stored knowledge with timely data, and without access to this external source, their output will lack the necessary detail and accuracy expected in knowledge-intensive contexts.'"
            ],
            "application/vnd.google.colaboratory.intrinsic+json": {
              "type": "string"
            }
          },
          "metadata": {},
          "execution_count": 23
        }
      ],
      "source": [
        "# Query Engine\n",
        "query_engine_2 = vector_index.as_query_engine(llm= llm_gpt_fine_tuned_model , similarity_top_k=5)\n",
        "\n",
        "response_fine_tuned_model = query_engine_2.query(\"Compare the knowledge retention abilities of a RAG model versus a BERT-based model that has been extensively fine-tuned using PEFT techniques. How do their outputs differ when the knowledge source is removed?\")\n",
        "\n",
        "response_fine_tuned_model.response"
      ]
    },
    {
      "cell_type": "code",
      "execution_count": 21,
      "metadata": {
        "colab": {
          "base_uri": "https://localhost:8080/"
        },
        "id": "ZqYZION6oQyp",
        "outputId": "b8f940b9-7e35-4539-864b-e88cb31a1ad2"
      },
      "outputs": [
        {
          "output_type": "stream",
          "name": "stdout",
          "text": [
            "Node ID\t 727ac73b-1bfd-4782-8523-fa38b48cec50\n",
            "Title\t Adaptive Retrieval-Augmented Generation for Conversational Systems:Model Training and Evaluation Setups\n",
            "Text\t We evaluate the performance of introducing RAGate according to its binary classification performance and the effectiveness of the resulting response generation. Specifically, we use the KE-TOD dataset (Chen et al., 2022), which has fully annotated 5,324 dialogues and 52,063 turns of conversations. In particular, it is associated with 33,761 knowledge snippets to be retrieved and augmented. In addition, KETOD was developed with human labels on turns of conversations (around 12.1% of turns) about the need for augmenting with retrieved knowledge snippets for a natural and informative system response. Hence, we use these human labels as natural ground truths when evaluating RAGate. It is worth indicating that many current knowledge-augmented conversational datasets often ground their conversations on the knowledge snippet, such as Wizard of Wikipedia (Dinan et al., 2018) and CMU_DoG (Zhou et al., 2018), which makes them not a natural fit to be investigated in this study. Due to the limited computational resource availability, we explore the use of Llama-v2-7B and Llama-v2-13B to implement RAGate-prompt andfine-tune Llama-v2-7B for RAGate-PEFT. We implement QLoRA using the PEFT library (Mangrulkar et al., 2022) and set the lower rank to 16. As discussed in Section 3, we have various input features to be combined for performance optimisation. We begin with the use of context only, then concatenate the context with the real response (contx-resp), with the synthetic response and recognised entities (contx-syn-resp-ner) and further extend with the use of retrieved knowledge (contx-syn-resp-ner-know) or the source of knowledge (contx-syn-resp-ner-source). Specifically, we retrieve the relevant knowledge by exploring the use of TF-IDF and a learned BERT ranker. We evaluate their performance with the classic Recall@1 and Recall@3 on the test collection. We use a shallow cutoff because we only use top-relevant knowledge snippets for augmentation. Table 1 shows their retrieval performance. According to the leading performance of BERT-Ranker, we augment knowledge with its retrieved top 3 relevant knowledge snippets (i.e., k = 3). Regarding the\n",
            "Score\t 0.48171326649853313\n",
            "Metadata\t {'url': 'http://arxiv.org/pdf/2407.21712v1', 'title': 'Adaptive Retrieval-Augmented Generation for Conversational Systems:Model Training and Evaluation Setups', 'tokens': 781, 'source': 'Arxiv: 2407.21712', 'questions_this_excerpt_can_answer': 'Based on the provided context, here are two specific questions that can be answered using the information given, which are unlikely to be found elsewhere:\\n\\n1. **What dataset is used to evaluate the performance of RAGate, and what specific features does it include for assessing the need for knowledge augmentation in conversational responses?**\\n   - This question targets the specific dataset (KE-TOD) and its features, including the percentage of annotated turns that require knowledge snippets, which is detailed in the context.\\n\\n2. **What methods are employed to retrieve relevant knowledge snippets for augmenting responses in the RAGate framework, and how is their performance evaluated?**\\n   - This question focuses on the retrieval methods (TF-IDF and BERT ranker) and the evaluation metrics (Recall@1 and Recall@3) mentioned in the context, providing insights into the technical aspects of the RAGate implementation.', 'prev_section_summary': \"The section discusses the RAGate-MHA model, which incorporates a multi-head attention mechanism to enhance conversational systems by assessing the necessity of augmentation. It outlines the model's structure, emphasizing the interaction between queries (Q), keys (K), and values (V) in the attention mechanism, defined by the formula Attention(Q, K, V) = softmax(QK^T / sqrt(d_k))V. The context and retrieved knowledge are integrated into these roles to evaluate augmentation needs. Additionally, the section references the encoder construction of a transformer model, which includes input embedding and position encoding layers to process the input data effectively. Key topics include multi-head attention, augmentation necessity, and transformer model architecture.\", 'section_summary': \"The section discusses the evaluation of the RAGate framework for conversational systems, focusing on its performance in binary classification and response generation. Key topics include:\\n\\n1. **Dataset**: The KE-TOD dataset, which consists of 5,324 dialogues and 52,063 conversation turns, is used for evaluation. It includes 33,761 knowledge snippets and human annotations indicating that approximately 12.1% of the conversation turns require knowledge augmentation for more informative responses.\\n\\n2. **Knowledge Augmentation**: The study emphasizes the importance of knowledge snippets in enhancing conversational responses, contrasting KE-TOD with other datasets that are not suitable for this investigation.\\n\\n3. **Model Implementation**: The RAGate framework is implemented using Llama-v2-7B and Llama-v2-13B models, with fine-tuning performed on Llama-v2-7B using QLoRA and the PEFT library.\\n\\n4. **Input Features**: Various input features are combined for performance optimization, including context, real responses, synthetic responses, recognized entities, and retrieved knowledge snippets.\\n\\n5. **Retrieval Methods**: Knowledge snippets are retrieved using TF-IDF and a learned BERT ranker, with performance evaluated using Recall@1 and Recall@3 metrics.\\n\\n6. **Performance Evaluation**: The evaluation focuses on the retrieval performance of knowledge snippets, with the BERT ranker showing superior results, leading to the augmentation of responses with the top 3 relevant knowledge snippets.\\n\\nOverall, the section highlights the methodology and evaluation strategies employed in assessing the RAGate framework's effectiveness in conversational systems.\", 'excerpt_keywords': 'Keywords: RAGate, KE-TOD, knowledge augmentation, conversational systems, TF-IDF, BERT ranker, response generation, binary classification, Llama-v2, performance evaluation'}\n",
            "-_-_-_-_-_-_-_-_-_-_-_-_-_-_-_-_-_-_-_-_\n",
            "Node ID\t e791eaf2-3cdf-477a-8602-1cbb30a3d48c\n",
            "Title\t RAG\n",
            "Text\t # RAG<div class=\"flex flex-wrap space-x-1\"><a href=\"https://huggingface.co/models?filter=rag\"><img alt=\"Models\" src=\"https://img.shields.io/badge/All_model_pages-rag-blueviolet\"></a></div>## OverviewRetrieval-augmented generation (\"RAG\") models combine the powers of pretrained dense retrieval (DPR) andsequence-to-sequence models. RAG models retrieve documents, pass them to a seq2seq model, then marginalize to generateoutputs. The retriever and seq2seq modules are initialized from pretrained models, and fine-tuned jointly, allowingboth retrieval and generation to adapt to downstream tasks.It is based on the paper [Retrieval-Augmented Generation for Knowledge-Intensive NLP Tasks](https://arxiv.org/abs/2005.11401) by Patrick Lewis, Ethan Perez, Aleksandara Piktus, Fabio Petroni, VladimirKarpukhin, Naman Goyal, Heinrich Küttler, Mike Lewis, Wen-tau Yih, Tim Rocktäschel, Sebastian Riedel, Douwe Kiela.The abstract from the paper is the following:*Large pre-trained language models have been shown to store factual knowledge in their parameters, and achievestate-of-the-art results when fine-tuned on downstream NLP tasks. However, their ability to access and preciselymanipulate knowledge is still limited, and hence on knowledge-intensive tasks, their performance lags behindtask-specific architectures. Additionally, providing provenance for their decisions and updating their world knowledgeremain open research problems. Pre-trained models with a differentiable access mechanism to explicit nonparametricmemory can overcome this issue, but have so far been only investigated for extractive downstream tasks. We explore ageneral-purpose fine-tuning recipe for retrieval-augmented generation (RAG) — models which combine pre-trainedparametric and non-parametric memory for language generation. We introduce RAG models where the parametric memory is apre-trained seq2seq model and the non-parametric memory is a dense vector index of Wikipedia, accessed with apre-trained neural retriever. We compare two RAG formulations, one which conditions on the same retrieved passagesacross the whole generated sequence, the other can use different passages per token. We fine-tune and evaluate ourmodels on a wide range of knowledge-intensive\n",
            "Score\t 0.4736500042177129\n",
            "Metadata\t {'url': 'https://huggingface.co/docs/transformers/model_doc/rag', 'title': 'RAG', 'tokens': 933, 'source': 'transformers', 'questions_this_excerpt_can_answer': '1. What are the key components of Retrieval-Augmented Generation (RAG) models, and how do they work together to improve performance on knowledge-intensive NLP tasks?\\n\\n2. How does the RAG model differ from traditional pre-trained language models in terms of accessing and manipulating knowledge for language generation?', 'prev_section_summary': \"The section discusses the use of the BLIP-2 model for visual question answering (VQA) tasks. Key topics include:\\n\\n1. **Model Loading**: Instructions on how to load the BLIP-2 model and processor, with a focus on utilizing GPU resources for improved performance.\\n\\n2. **Input Handling**: The process of preparing input data, which includes loading an image and a corresponding question from a dataset.\\n\\n3. **Textual Prompt Format**: The specific format required for the textual prompt when using the model, which is `Question: {} Answer:`.\\n\\n4. **Preprocessing and Model Inference**: Steps to preprocess the image and prompt, pass them through the model, and decode the generated output.\\n\\n5. **Example Output**: An example of the model's output, demonstrating its ability to recognize elements in the image and respond to the question, albeit with some limitations in accuracy.\\n\\nEntities mentioned include the BLIP-2 model, the Salesforce repository for the model, and the use of the `AutoProcessor` and `Blip2ForConditionalGeneration` classes from the Transformers library.\", 'section_summary': \"The section discusses Retrieval-Augmented Generation (RAG) models, which integrate pretrained dense retrieval (DPR) and sequence-to-sequence (seq2seq) models to enhance performance on knowledge-intensive natural language processing (NLP) tasks. Key components of RAG include:\\n\\n1. **Retrieval Mechanism**: RAG models retrieve relevant documents from a dense vector index (e.g., Wikipedia) using a pretrained neural retriever.\\n2. **Generation Mechanism**: The retrieved documents are then passed to a seq2seq model, which generates outputs based on the retrieved information.\\n3. **Joint Fine-Tuning**: Both the retriever and seq2seq modules are initialized from pretrained models and fine-tuned together, allowing them to adapt to specific downstream tasks.\\n\\nThe excerpt highlights the limitations of traditional pre-trained language models in accessing and manipulating knowledge, particularly in knowledge-intensive tasks. RAG models address these limitations by combining parametric memory (the seq2seq model) with non-parametric memory (the dense vector index), enabling better knowledge retrieval and generation. The section references the foundational paper on RAG, which explores the model's architecture and its effectiveness in various NLP tasks.\", 'excerpt_keywords': 'Keywords: RAG, Retrieval-Augmented Generation, dense retrieval, sequence-to-sequence, knowledge-intensive NLP, parametric memory, non-parametric memory, fine-tuning, neural retriever, document retrieval'}\n",
            "-_-_-_-_-_-_-_-_-_-_-_-_-_-_-_-_-_-_-_-_\n",
            "Node ID\t 9f09a477-cb92-4520-a3fa-cfd9cef07b1d\n",
            "Title\t Adaptive Retrieval-Augmented Generation for Conversational Systems:Model Training and Evaluation Setups\n",
            "Text\t (contx-syn-resp-ner-know) or the source of knowledge (contx-syn-resp-ner-source). Specifically, we retrieve the relevant knowledge by exploring the use of TF-IDF and a learned BERT ranker. We evaluate their performance with the classic Recall@1 and Recall@3 on the test collection. We use a shallow cutoff because we only use top-relevant knowledge snippets for augmentation. Table 1 shows their retrieval performance. According to the leading performance of BERT-Ranker, we augment knowledge with its retrieved top 3 relevant knowledge snippets (i.e., k = 3). Regarding the development of RAGate-MHA, we explore the combinations of 2 to 8 layers, 2 or 4 heads and the embedding size in [64, 128, 256] for the best classification accuracy. We report the precision, recall, F1, Area Under Curve (AUC) and the False Discovery Rate (FDR) as the main measures to show the classification effectiveness. Next, we further deploy the best-performing RAGate gate function to update the KETOD dialogue system (Chen et al., 2022), which uses GPT-2 (Radford et al., 2019) as the backbone model. To highlight the effect of various augmentation setups, we use the context with the gold action without extra prediction as input to KETOD. Then, we compare the resulting performance to the KETOD model without knowledge augmentation and augmenting every system response as baselines. To report the response generation effectiveness, we report how close the response is to the ground truth via BLEU, ROUGE-1/2/L and BERTScores and the confidence score calculated by the minimum probabilities of individual tokens that compose the responses. As argued by Varshney et al. (2023), this calculated confidence score can highly correlate with a language model’s likelihood of generating hallucinated responses. We trained our models and conducted the evaluations on one machine with one NVIDIA 4090 GPU.\n",
            "Score\t 0.4578917912378002\n",
            "Metadata\t {'url': 'http://arxiv.org/pdf/2407.21712v1', 'title': 'Adaptive Retrieval-Augmented Generation for Conversational Systems:Model Training and Evaluation Setups', 'tokens': 781, 'source': 'Arxiv: 2407.21712', 'questions_this_excerpt_can_answer': 'Based on the provided context, here are two specific questions that can be answered using the information given:\\n\\n1. **What retrieval methods were explored for augmenting knowledge in the RAGate-MHA model, and how was their performance evaluated?**\\n   - This question targets the specific retrieval techniques (TF-IDF and BERT ranker) mentioned in the context, as well as the evaluation metrics (Recall@1 and Recall@3) used to assess their performance.\\n\\n2. **What measures were reported to evaluate the classification effectiveness of the RAGate gate function in the KETOD dialogue system?**\\n   - This question focuses on the specific metrics (precision, recall, F1, AUC, and FDR) that were used to demonstrate the classification effectiveness of the RAGate gate function, which is a unique aspect of the study.', 'prev_section_summary': \"The section discusses the evaluation of the RAGate framework for conversational systems, focusing on its performance in binary classification and response generation. Key topics include:\\n\\n1. **Dataset**: The KE-TOD dataset, which consists of 5,324 dialogues and 52,063 conversation turns, is used for evaluation. It includes 33,761 knowledge snippets and human annotations indicating that approximately 12.1% of the conversation turns require knowledge augmentation for more informative responses.\\n\\n2. **Knowledge Augmentation**: The study emphasizes the importance of knowledge snippets in enhancing conversational responses, contrasting KE-TOD with other datasets that are not suitable for this investigation.\\n\\n3. **Model Implementation**: The RAGate framework is implemented using Llama-v2-7B and Llama-v2-13B models, with fine-tuning performed on Llama-v2-7B using QLoRA and the PEFT library.\\n\\n4. **Input Features**: Various input features are combined for performance optimization, including context, real responses, synthetic responses, recognized entities, and retrieved knowledge snippets.\\n\\n5. **Retrieval Methods**: Knowledge snippets are retrieved using TF-IDF and a learned BERT ranker, with performance evaluated using Recall@1 and Recall@3 metrics.\\n\\n6. **Performance Evaluation**: The evaluation focuses on the retrieval performance of knowledge snippets, with the BERT ranker showing superior results, leading to the augmentation of responses with the top 3 relevant knowledge snippets.\\n\\nOverall, the section highlights the methodology and evaluation strategies employed in assessing the RAGate framework's effectiveness in conversational systems.\", 'section_summary': \"The section discusses the methodologies and evaluation metrics used in the development of the RAGate-MHA model for conversational systems, specifically focusing on knowledge retrieval and classification effectiveness. Key topics include:\\n\\n1. **Retrieval Methods**: The exploration of TF-IDF and a learned BERT ranker for retrieving relevant knowledge snippets, with performance evaluated using Recall@1 and Recall@3 metrics.\\n\\n2. **Knowledge Augmentation**: The model augments knowledge by utilizing the top 3 relevant snippets retrieved by the BERT ranker.\\n\\n3. **Model Development**: The RAGate-MHA model's architecture is optimized by experimenting with different configurations, including layer counts, head counts, and embedding sizes to achieve the best classification accuracy.\\n\\n4. **Classification Effectiveness**: The effectiveness of the RAGate gate function is assessed using precision, recall, F1 score, Area Under Curve (AUC), and False Discovery Rate (FDR).\\n\\n5. **KETOD Dialogue System**: The RAGate gate function is integrated into the KETOD dialogue system, which uses GPT-2 as its backbone model. The performance of this augmented system is compared against a baseline without knowledge augmentation.\\n\\n6. **Response Generation Evaluation**: The effectiveness of response generation is measured using BLEU, ROUGE-1/2/L, BERTScores, and a confidence score based on token probabilities, which indicates the likelihood of generating accurate responses.\\n\\n7. **Training and Evaluation Setup**: The models were trained and evaluated on a single machine equipped with an NVIDIA 4090 GPU.\\n\\nOverall, the section highlights the integration of retrieval-augmented generation techniques in conversational AI, focusing on performance metrics and system evaluation.\", 'excerpt_keywords': 'Keywords: RAGate-MHA, knowledge retrieval, TF-IDF, BERT ranker, classification metrics, KE-TOD dataset, conversational systems, response generation, BLEU, AUC'}\n",
            "-_-_-_-_-_-_-_-_-_-_-_-_-_-_-_-_-_-_-_-_\n",
            "Node ID\t daa9740c-f77c-4829-a545-c76da1446dae\n",
            "Title\t Adaptive Retrieval-Augmented Generation for Conversational Systems:Introduction\n",
            "Text\t Table 2 presents a classification accuracy analysis for adaptive augmentation aimed at system response. The terms \"contx\", \"resp\", and \"know\" are used to denote context, initial system response, and retrieved knowledge snippets as inputs, respectively. \"syn-resp\" and \"ner\" refer to additional synthetic response and named entity recognition steps in the model fine-tuning prompts. The variables h, l, and emb are utilized to specify optimal configurations of the number of heads, layers, and embedding size. In reviewing RA-Gate performance alongside LLM prompting versus fine-tuning, the corresponding performance reported in Table 2 indicates that fine-tuning a Llama-2-7B with QLoRA (RA-Gate-PEFT) can significantly outperform the RA-Gate-Prompt approach. Notably, the RA-Gate-PEFT with context-only input, devoid of extra input features and instruction updates, outperforms. A significant performance leap is witnessed by a large margin (e.g., 0.4082 was the highest score compared to 0.1230 F1). This highlights challenges in adaptive knowledge augmentation tasks, which cannot be effectively handled by prompting a generalized pre-trained language model. Larger language models with in-context learning often yield improved performance. However, RA-Gate-PEFT approaches improve precision (0.5203 to 0.6818) but reduce recall (0.3359 to 0.2321). When retrieved knowledge is incorporated into input features, a notable drop in performance is observed across all evaluated aspects, suggesting complexities induced by incorporated knowledge snippets. The exploration of the impact of the knowledge source, such as wikiHow, demonstrates RA-Gate's strengthened prediction and augmentative abilities. Detailed RA-Gate analysis between fine-tuned LLM and MHA classification reveals superior RA-Gate-MHA performance. Table 2 illustrates a wide-margin recall increase using RA-Gate-MHA, with maximum recall of 0.52, although exhibiting lower precision accuracy. When context and initial response are used as inputs, a higher precision is observed but without recall improvement. Hence, the observed trade-off mandates careful RA-Gate strategy consideration. In exploring classification efficiency, Appendix B provides related discussions to validate observed data using RA-Gate for retrieval augmentation predictions.\n",
            "Score\t 0.4455507673208287\n",
            "Metadata\t {'url': 'http://arxiv.org/pdf/2407.21712v1', 'title': 'Adaptive Retrieval-Augmented Generation for Conversational Systems:Introduction', 'tokens': 463, 'source': 'Arxiv: 2407.21712', 'questions_this_excerpt_can_answer': '1. How does the performance of the RA-Gate-PEFT approach compare to the RA-Gate-Prompt approach in terms of classification accuracy when using context-only input?\\n\\n2. What trade-offs are observed in precision and recall when incorporating retrieved knowledge snippets into the RA-Gate model, and how does this impact the overall performance of the system?', 'prev_section_summary': 'The section discusses the evaluation of RAGate methods for adaptive retrieval-augmented generation (RAG) in conversational systems. It highlights the classification accuracy of these methods, specifically focusing on their performance as assessed using the KETOD dataset, which provides detailed human labels for RAG response generation. The excerpt identifies three variants of the RAGate methods explored in the study: RAGate-Prompt (using LLM prompting), RAGate-PEFT (parameter-efficient fine-tuned LLMs), and RAGate-MHA (a neural classifier with a Multi-Head Attention structure).', 'section_summary': \"The section discusses the performance analysis of the RA-Gate model in the context of adaptive retrieval-augmented generation for conversational systems. Key topics include:\\n\\n1. **Classification Accuracy**: The comparison between two approaches—RA-Gate-PEFT (fine-tuned with QLoRA) and RA-Gate-Prompt—indicates that RA-Gate-PEFT significantly outperforms RA-Gate-Prompt, especially when using context-only input. The highest classification accuracy score for RA-Gate-PEFT is noted as 0.4082, compared to 0.1230 for RA-Gate-Prompt.\\n\\n2. **Input Features**: The analysis distinguishes between different input types: context (contx), initial system response (resp), and retrieved knowledge snippets (know). The impact of these inputs on model performance is emphasized.\\n\\n3. **Precision and Recall Trade-offs**: The incorporation of retrieved knowledge snippets into the RA-Gate model improves precision (from 0.5203 to 0.6818) but reduces recall (from 0.3359 to 0.2321). This trade-off highlights the complexities of adaptive knowledge augmentation tasks.\\n\\n4. **Performance Metrics**: The section references specific performance metrics, including F1 scores, precision, and recall, to illustrate the effectiveness of different configurations and approaches.\\n\\n5. **Model Configurations**: The variables h, l, and emb are mentioned as optimal configurations for the number of heads, layers, and embedding size in the model fine-tuning process.\\n\\n6. **Knowledge Source Impact**: The exploration of knowledge sources, such as wikiHow, is noted to enhance RA-Gate's predictive and augmentative capabilities.\\n\\n7. **RA-Gate-MHA Performance**: A comparison between fine-tuned LLM and multi-head attention (MHA) classification reveals that RA-Gate-MHA exhibits superior recall but lower precision, indicating a need for strategic consideration in model design.\\n\\nOverall, the section emphasizes the importance of careful consideration of input features and model configurations to optimize performance in conversational systems.\", 'excerpt_keywords': 'Keywords: adaptive retrieval, augmented generation, conversational systems, classification accuracy, RA-Gate, fine-tuning, precision, recall, knowledge snippets, LLM prompting'}\n",
            "-_-_-_-_-_-_-_-_-_-_-_-_-_-_-_-_-_-_-_-_\n",
            "Node ID\t 40f472bb-265c-438a-bb45-25be7c023dc8\n",
            "Title\t RAG\n",
            "Text\t extractive downstream tasks. We explore ageneral-purpose fine-tuning recipe for retrieval-augmented generation (RAG) — models which combine pre-trainedparametric and non-parametric memory for language generation. We introduce RAG models where the parametric memory is apre-trained seq2seq model and the non-parametric memory is a dense vector index of Wikipedia, accessed with apre-trained neural retriever. We compare two RAG formulations, one which conditions on the same retrieved passagesacross the whole generated sequence, the other can use different passages per token. We fine-tune and evaluate ourmodels on a wide range of knowledge-intensive NLP tasks and set the state-of-the-art on three open domain QA tasks,outperforming parametric seq2seq models and task-specific retrieve-and-extract architectures. For language generationtasks, we find that RAG models generate more specific, diverse and factual language than a state-of-the-artparametric-only seq2seq baseline.*This model was contributed by [ola13](https://huggingface.co/ola13).## Usage tipsRetrieval-augmented generation (\"RAG\") models combine the powers of pretrained dense retrieval (DPR) and Seq2Seq models. RAG models retrieve docs, pass them to a seq2seq model, then marginalize to generate outputs. The retriever and seq2seq modules are initialized from pretrained models, and fine-tuned jointly, allowing both retrieval and generation to adapt to downstream tasks.## RagConfig[[autodoc]] RagConfig## RagTokenizer[[autodoc]] RagTokenizer## Rag specific outputs[[autodoc]] models.rag.modeling_rag.RetrievAugLMMarginOutput[[autodoc]] models.rag.modeling_rag.RetrievAugLMOutput## RagRetriever[[autodoc]] RagRetriever<frameworkcontent><pt>## RagModel[[autodoc]] RagModel    - forward## RagSequenceForGeneration[[autodoc]] RagSequenceForGeneration    - forward    - generate## RagTokenForGeneration[[autodoc]] RagTokenForGeneration    - forward    - generate</pt><tf>## TFRagModel[[autodoc]] TFRagModel    - call## TFRagSequenceForGeneration[[autodoc]] TFRagSequenceForGeneration    - call\n",
            "Score\t 0.44296462279829923\n",
            "Metadata\t {'url': 'https://huggingface.co/docs/transformers/model_doc/rag', 'title': 'RAG', 'tokens': 933, 'source': 'transformers', 'questions_this_excerpt_can_answer': '1. What are the two formulations of RAG models discussed in the context, and how do they differ in terms of passage retrieval during language generation?\\n\\n2. How do RAG models improve upon traditional parametric seq2seq models in terms of language generation, particularly in knowledge-intensive NLP tasks?', 'prev_section_summary': \"The section discusses Retrieval-Augmented Generation (RAG) models, which integrate pretrained dense retrieval (DPR) and sequence-to-sequence (seq2seq) models to enhance performance on knowledge-intensive natural language processing (NLP) tasks. Key components of RAG include:\\n\\n1. **Retrieval Mechanism**: RAG models retrieve relevant documents from a dense vector index (e.g., Wikipedia) using a pretrained neural retriever.\\n2. **Generation Mechanism**: The retrieved documents are then passed to a seq2seq model, which generates outputs based on the retrieved information.\\n3. **Joint Fine-Tuning**: Both the retriever and seq2seq modules are initialized from pretrained models and fine-tuned together, allowing them to adapt to specific downstream tasks.\\n\\nThe excerpt highlights the limitations of traditional pre-trained language models in accessing and manipulating knowledge, particularly in knowledge-intensive tasks. RAG models address these limitations by combining parametric memory (the seq2seq model) with non-parametric memory (the dense vector index), enabling better knowledge retrieval and generation. The section references the foundational paper on RAG, which explores the model's architecture and its effectiveness in various NLP tasks.\", 'section_summary': 'The section discusses Retrieval-Augmented Generation (RAG) models, which integrate pre-trained parametric and non-parametric memory for enhanced language generation. Key topics include:\\n\\n1. **RAG Model Formulations**: Two formulations of RAG models are compared:\\n   - One formulation conditions on the same retrieved passages throughout the entire generated sequence.\\n   - The other formulation allows for different passages to be used for each token in the sequence.\\n\\n2. **Improvements Over Traditional Models**: RAG models outperform traditional parametric sequence-to-sequence (seq2seq) models and task-specific retrieve-and-extract architectures, particularly in knowledge-intensive NLP tasks. They generate more specific, diverse, and factual language compared to state-of-the-art parametric-only seq2seq baselines.\\n\\n3. **Architecture**: RAG models utilize a dense vector index of Wikipedia as non-parametric memory, accessed via a pre-trained neural retriever, while the parametric memory is based on a pre-trained seq2seq model. Both components are fine-tuned jointly to adapt to downstream tasks.\\n\\n4. **Performance**: The models have set state-of-the-art results on three open-domain question-answering tasks.\\n\\nEntities mentioned include:\\n- RAG models\\n- Pre-trained seq2seq models\\n- Dense vector index of Wikipedia\\n- Neural retriever\\n- Knowledge-intensive NLP tasks\\n- Open-domain QA tasks\\n\\nOverall, the section highlights the innovative approach of RAG models in combining retrieval and generation for improved performance in language tasks.', 'excerpt_keywords': 'Keywords: RAG, retrieval-augmented generation, seq2seq models, dense vector index, knowledge-intensive NLP, neural retriever, language generation, fine-tuning, open-domain QA, parametric memory'}\n",
            "-_-_-_-_-_-_-_-_-_-_-_-_-_-_-_-_-_-_-_-_\n"
          ]
        }
      ],
      "source": [
        "for src in response_fine_tuned_model.source_nodes:\n",
        "    print(\"Node ID\\t\", src.node_id)\n",
        "    print(\"Title\\t\", src.metadata[\"title\"])\n",
        "    print(\"Text\\t\", src.text)\n",
        "    print(\"Score\\t\", src.score)\n",
        "    print(\"Metadata\\t\", src.metadata)\n",
        "    print(\"-_\" * 20)"
      ]
    },
    {
      "cell_type": "code",
      "execution_count": null,
      "metadata": {
        "id": "-p3iWDxXxzBN"
      },
      "outputs": [],
      "source": []
    },
    {
      "cell_type": "markdown",
      "metadata": {
        "id": "5qf4QFayot91"
      },
      "source": [
        "# Fine Tuning OpenAI Models Using OpenAI API (Code)"
      ]
    },
    {
      "cell_type": "markdown",
      "metadata": {
        "id": "vgyEIgPw5kB_"
      },
      "source": [
        "### Upload file"
      ]
    },
    {
      "cell_type": "code",
      "execution_count": null,
      "metadata": {
        "id": "8ROsKdZ25f5x"
      },
      "outputs": [],
      "source": [
        "from openai import OpenAI\n",
        "client = OpenAI()\n",
        "\n",
        "fine_tune_file = client.files.create(\n",
        "    file=open(\"/content/formatted_training_data.json\", \"rb\"),\n",
        "    purpose=\"fine-tune\"\n",
        ")"
      ]
    },
    {
      "cell_type": "code",
      "execution_count": null,
      "metadata": {
        "colab": {
          "base_uri": "https://localhost:8080/"
        },
        "id": "f6mM5Ns2Asd2",
        "outputId": "577e2023-8e7c-4b63-f2fb-3c107ee76627"
      },
      "outputs": [
        {
          "name": "stdout",
          "output_type": "stream",
          "text": [
            "FileObject(id='file-yjrbFrpGxfte1fIrnwgAX12A', bytes=291689, created_at=1728892283, filename='formatted_training_data.json', object='file', purpose='fine-tune', status='processed', status_details=None)\n"
          ]
        }
      ],
      "source": [
        "pprint(fine_tune_file)"
      ]
    },
    {
      "cell_type": "code",
      "execution_count": null,
      "metadata": {
        "colab": {
          "base_uri": "https://localhost:8080/"
        },
        "id": "7M3rzu895f22",
        "outputId": "63a46bcb-ed2b-49b6-bf6c-98c453b17978"
      },
      "outputs": [
        {
          "name": "stdout",
          "output_type": "stream",
          "text": [
            "'file-yjrbFrpGxfte1fIrnwgAX12A'\n"
          ]
        }
      ],
      "source": [
        "param_training_file_name = fine_tune_file.id\n",
        "pprint(param_training_file_name)"
      ]
    },
    {
      "cell_type": "markdown",
      "metadata": {
        "id": "ZyxzpFPi6o-H"
      },
      "source": [
        "### Create Fine tune model"
      ]
    },
    {
      "cell_type": "code",
      "execution_count": null,
      "metadata": {
        "id": "XsGRmaH05fz2"
      },
      "outputs": [],
      "source": [
        "result_job = client.fine_tuning.jobs.create(\n",
        "    training_file=param_training_file_name,\n",
        "    model=\"gpt-4o-mini-2024-07-18\",\n",
        "    hyperparameters={ \"n_epochs\":2 }\n",
        ")\n",
        "\n",
        "pprint(result_job)"
      ]
    },
    {
      "cell_type": "code",
      "execution_count": null,
      "metadata": {
        "id": "1qLwQ1Cv6wjF"
      },
      "outputs": [],
      "source": [
        "param_file_tune_job_id = result_job.id\n",
        "pprint(param_file_tune_job_id)"
      ]
    },
    {
      "cell_type": "markdown",
      "metadata": {
        "id": "4y0X_JtpKQ3E"
      },
      "source": [
        "### Model Fine tuning"
      ]
    },
    {
      "cell_type": "code",
      "execution_count": null,
      "metadata": {
        "id": "iKeR0YMm6wXl"
      },
      "outputs": [],
      "source": [
        "# Retrieve the state of a fine-tune\n",
        "client.fine_tuning.jobs.retrieve(param_file_tune_job_id)"
      ]
    },
    {
      "cell_type": "code",
      "execution_count": null,
      "metadata": {
        "id": "9IQwsfQj62vU"
      },
      "outputs": [],
      "source": [
        "# Retrieve the status of a fine-tune\n",
        "client.fine_tuning.jobs.retrieve(param_file_tune_job_id).status"
      ]
    },
    {
      "cell_type": "code",
      "execution_count": null,
      "metadata": {
        "id": "mPbk02BWDoU3"
      },
      "outputs": [],
      "source": [
        "import time\n",
        "from datetime import datetime\n",
        "\n",
        "while True:\n",
        "  time.sleep(20)\n",
        "  try:\n",
        "      job_status = client.fine_tuning.jobs.retrieve(param_file_tune_job_id)\n",
        "      print(f\"------------ Job Status: {job_status.status} --------------\")\n",
        "\n",
        "      if job_status.status in [\"failed\", \"succeeded\", \"cancelled\"]:\n",
        "          print(\"Job Completed. Detailed Events list:\")\n",
        "          events = client.fine_tuning.jobs.list_events(fine_tuning_job_id=param_file_tune_job_id)\n",
        "          for event in events:\n",
        "              print(f'{datetime.fromtimestamp(event.created_at)} {event.message}')\n",
        "\n",
        "          print(\"######## Fine-tuned model ###########\")\n",
        "          print(f\"{job_status.fine_tuned_model}\")\n",
        "          print(\"#####################################\")\n",
        "          break\n",
        "  except Exception as e:\n",
        "      print(f\"Error monitoring job: {e}\")\n",
        "      break"
      ]
    },
    {
      "cell_type": "code",
      "execution_count": null,
      "metadata": {
        "id": "4QQLnxMH62r-"
      },
      "outputs": [],
      "source": [
        "# # Retrieve the state of a fine-tune\n",
        "\n",
        "# while client.fine_tuning.jobs.retrieve(param_file_tune_job_id).status != 'succeeded':\n",
        "#   sleep(10)"
      ]
    },
    {
      "cell_type": "code",
      "execution_count": null,
      "metadata": {
        "id": "RYlpT2WN62pV"
      },
      "outputs": [],
      "source": [
        "# Retrieve the state of a fine-tune\n",
        "client.fine_tuning.jobs.retrieve(param_file_tune_job_id).status"
      ]
    },
    {
      "cell_type": "code",
      "execution_count": null,
      "metadata": {
        "id": "WWuCemUD8dEu"
      },
      "outputs": [],
      "source": [
        "param_file_tune_model = client.fine_tuning.jobs.retrieve(param_file_tune_job_id).fine_tuned_model\n",
        "pprint(param_file_tune_model)"
      ]
    },
    {
      "cell_type": "markdown",
      "metadata": {
        "id": "W4n4o0CA9cMv"
      },
      "source": [
        "### We can delete the fine tuned model"
      ]
    },
    {
      "cell_type": "code",
      "execution_count": null,
      "metadata": {
        "id": "pgM96Teu9Zi_"
      },
      "outputs": [],
      "source": [
        "# Delete a fine-tuned model (must be an owner of the org the model was created in)\n",
        "# result_delete = client.models.delete(param_file_tune_model)\n",
        "# pprint(result_delete)"
      ]
    }
  ],
  "metadata": {
    "colab": {
      "provenance": []
    },
    "kernelspec": {
      "display_name": "Python 3",
      "name": "python3"
    },
    "language_info": {
      "name": "python"
    },
    "widgets": {
      "application/vnd.jupyter.widget-state+json": {
        "e2409c8a621943a0a7b899e0cdf0424a": {
          "model_module": "@jupyter-widgets/controls",
          "model_name": "HBoxModel",
          "model_module_version": "1.5.0",
          "state": {
            "_dom_classes": [],
            "_model_module": "@jupyter-widgets/controls",
            "_model_module_version": "1.5.0",
            "_model_name": "HBoxModel",
            "_view_count": null,
            "_view_module": "@jupyter-widgets/controls",
            "_view_module_version": "1.5.0",
            "_view_name": "HBoxView",
            "box_style": "",
            "children": [
              "IPY_MODEL_7df57205644f49928fc94e8ec96079f5",
              "IPY_MODEL_2c4a3839ec8944a9964b18df64b71c00",
              "IPY_MODEL_8984babe9711412a83e7d776747b1314"
            ],
            "layout": "IPY_MODEL_c90313837646483199dd7656f74b8387"
          }
        },
        "7df57205644f49928fc94e8ec96079f5": {
          "model_module": "@jupyter-widgets/controls",
          "model_name": "HTMLModel",
          "model_module_version": "1.5.0",
          "state": {
            "_dom_classes": [],
            "_model_module": "@jupyter-widgets/controls",
            "_model_module_version": "1.5.0",
            "_model_name": "HTMLModel",
            "_view_count": null,
            "_view_module": "@jupyter-widgets/controls",
            "_view_module_version": "1.5.0",
            "_view_name": "HTMLView",
            "description": "",
            "description_tooltip": null,
            "layout": "IPY_MODEL_ee7019c2516045e98c73368d19baeabf",
            "placeholder": "​",
            "style": "IPY_MODEL_1d7a070286d14d8cb93491cefd622c35",
            "value": "vectorstore.zip: 100%"
          }
        },
        "2c4a3839ec8944a9964b18df64b71c00": {
          "model_module": "@jupyter-widgets/controls",
          "model_name": "FloatProgressModel",
          "model_module_version": "1.5.0",
          "state": {
            "_dom_classes": [],
            "_model_module": "@jupyter-widgets/controls",
            "_model_module_version": "1.5.0",
            "_model_name": "FloatProgressModel",
            "_view_count": null,
            "_view_module": "@jupyter-widgets/controls",
            "_view_module_version": "1.5.0",
            "_view_name": "ProgressView",
            "bar_style": "success",
            "description": "",
            "description_tooltip": null,
            "layout": "IPY_MODEL_db3b627d63f242e7a53cc03fc9f53731",
            "max": 97198458,
            "min": 0,
            "orientation": "horizontal",
            "style": "IPY_MODEL_089d7cbeb3b04bd69c655b3ee70dae76",
            "value": 97198458
          }
        },
        "8984babe9711412a83e7d776747b1314": {
          "model_module": "@jupyter-widgets/controls",
          "model_name": "HTMLModel",
          "model_module_version": "1.5.0",
          "state": {
            "_dom_classes": [],
            "_model_module": "@jupyter-widgets/controls",
            "_model_module_version": "1.5.0",
            "_model_name": "HTMLModel",
            "_view_count": null,
            "_view_module": "@jupyter-widgets/controls",
            "_view_module_version": "1.5.0",
            "_view_name": "HTMLView",
            "description": "",
            "description_tooltip": null,
            "layout": "IPY_MODEL_7d8252e249fd4719b411c222c0292b58",
            "placeholder": "​",
            "style": "IPY_MODEL_d215227ac61a4fcb9c2488a88b4e8847",
            "value": " 97.2M/97.2M [00:02&lt;00:00, 42.1MB/s]"
          }
        },
        "c90313837646483199dd7656f74b8387": {
          "model_module": "@jupyter-widgets/base",
          "model_name": "LayoutModel",
          "model_module_version": "1.2.0",
          "state": {
            "_model_module": "@jupyter-widgets/base",
            "_model_module_version": "1.2.0",
            "_model_name": "LayoutModel",
            "_view_count": null,
            "_view_module": "@jupyter-widgets/base",
            "_view_module_version": "1.2.0",
            "_view_name": "LayoutView",
            "align_content": null,
            "align_items": null,
            "align_self": null,
            "border": null,
            "bottom": null,
            "display": null,
            "flex": null,
            "flex_flow": null,
            "grid_area": null,
            "grid_auto_columns": null,
            "grid_auto_flow": null,
            "grid_auto_rows": null,
            "grid_column": null,
            "grid_gap": null,
            "grid_row": null,
            "grid_template_areas": null,
            "grid_template_columns": null,
            "grid_template_rows": null,
            "height": null,
            "justify_content": null,
            "justify_items": null,
            "left": null,
            "margin": null,
            "max_height": null,
            "max_width": null,
            "min_height": null,
            "min_width": null,
            "object_fit": null,
            "object_position": null,
            "order": null,
            "overflow": null,
            "overflow_x": null,
            "overflow_y": null,
            "padding": null,
            "right": null,
            "top": null,
            "visibility": null,
            "width": null
          }
        },
        "ee7019c2516045e98c73368d19baeabf": {
          "model_module": "@jupyter-widgets/base",
          "model_name": "LayoutModel",
          "model_module_version": "1.2.0",
          "state": {
            "_model_module": "@jupyter-widgets/base",
            "_model_module_version": "1.2.0",
            "_model_name": "LayoutModel",
            "_view_count": null,
            "_view_module": "@jupyter-widgets/base",
            "_view_module_version": "1.2.0",
            "_view_name": "LayoutView",
            "align_content": null,
            "align_items": null,
            "align_self": null,
            "border": null,
            "bottom": null,
            "display": null,
            "flex": null,
            "flex_flow": null,
            "grid_area": null,
            "grid_auto_columns": null,
            "grid_auto_flow": null,
            "grid_auto_rows": null,
            "grid_column": null,
            "grid_gap": null,
            "grid_row": null,
            "grid_template_areas": null,
            "grid_template_columns": null,
            "grid_template_rows": null,
            "height": null,
            "justify_content": null,
            "justify_items": null,
            "left": null,
            "margin": null,
            "max_height": null,
            "max_width": null,
            "min_height": null,
            "min_width": null,
            "object_fit": null,
            "object_position": null,
            "order": null,
            "overflow": null,
            "overflow_x": null,
            "overflow_y": null,
            "padding": null,
            "right": null,
            "top": null,
            "visibility": null,
            "width": null
          }
        },
        "1d7a070286d14d8cb93491cefd622c35": {
          "model_module": "@jupyter-widgets/controls",
          "model_name": "DescriptionStyleModel",
          "model_module_version": "1.5.0",
          "state": {
            "_model_module": "@jupyter-widgets/controls",
            "_model_module_version": "1.5.0",
            "_model_name": "DescriptionStyleModel",
            "_view_count": null,
            "_view_module": "@jupyter-widgets/base",
            "_view_module_version": "1.2.0",
            "_view_name": "StyleView",
            "description_width": ""
          }
        },
        "db3b627d63f242e7a53cc03fc9f53731": {
          "model_module": "@jupyter-widgets/base",
          "model_name": "LayoutModel",
          "model_module_version": "1.2.0",
          "state": {
            "_model_module": "@jupyter-widgets/base",
            "_model_module_version": "1.2.0",
            "_model_name": "LayoutModel",
            "_view_count": null,
            "_view_module": "@jupyter-widgets/base",
            "_view_module_version": "1.2.0",
            "_view_name": "LayoutView",
            "align_content": null,
            "align_items": null,
            "align_self": null,
            "border": null,
            "bottom": null,
            "display": null,
            "flex": null,
            "flex_flow": null,
            "grid_area": null,
            "grid_auto_columns": null,
            "grid_auto_flow": null,
            "grid_auto_rows": null,
            "grid_column": null,
            "grid_gap": null,
            "grid_row": null,
            "grid_template_areas": null,
            "grid_template_columns": null,
            "grid_template_rows": null,
            "height": null,
            "justify_content": null,
            "justify_items": null,
            "left": null,
            "margin": null,
            "max_height": null,
            "max_width": null,
            "min_height": null,
            "min_width": null,
            "object_fit": null,
            "object_position": null,
            "order": null,
            "overflow": null,
            "overflow_x": null,
            "overflow_y": null,
            "padding": null,
            "right": null,
            "top": null,
            "visibility": null,
            "width": null
          }
        },
        "089d7cbeb3b04bd69c655b3ee70dae76": {
          "model_module": "@jupyter-widgets/controls",
          "model_name": "ProgressStyleModel",
          "model_module_version": "1.5.0",
          "state": {
            "_model_module": "@jupyter-widgets/controls",
            "_model_module_version": "1.5.0",
            "_model_name": "ProgressStyleModel",
            "_view_count": null,
            "_view_module": "@jupyter-widgets/base",
            "_view_module_version": "1.2.0",
            "_view_name": "StyleView",
            "bar_color": null,
            "description_width": ""
          }
        },
        "7d8252e249fd4719b411c222c0292b58": {
          "model_module": "@jupyter-widgets/base",
          "model_name": "LayoutModel",
          "model_module_version": "1.2.0",
          "state": {
            "_model_module": "@jupyter-widgets/base",
            "_model_module_version": "1.2.0",
            "_model_name": "LayoutModel",
            "_view_count": null,
            "_view_module": "@jupyter-widgets/base",
            "_view_module_version": "1.2.0",
            "_view_name": "LayoutView",
            "align_content": null,
            "align_items": null,
            "align_self": null,
            "border": null,
            "bottom": null,
            "display": null,
            "flex": null,
            "flex_flow": null,
            "grid_area": null,
            "grid_auto_columns": null,
            "grid_auto_flow": null,
            "grid_auto_rows": null,
            "grid_column": null,
            "grid_gap": null,
            "grid_row": null,
            "grid_template_areas": null,
            "grid_template_columns": null,
            "grid_template_rows": null,
            "height": null,
            "justify_content": null,
            "justify_items": null,
            "left": null,
            "margin": null,
            "max_height": null,
            "max_width": null,
            "min_height": null,
            "min_width": null,
            "object_fit": null,
            "object_position": null,
            "order": null,
            "overflow": null,
            "overflow_x": null,
            "overflow_y": null,
            "padding": null,
            "right": null,
            "top": null,
            "visibility": null,
            "width": null
          }
        },
        "d215227ac61a4fcb9c2488a88b4e8847": {
          "model_module": "@jupyter-widgets/controls",
          "model_name": "DescriptionStyleModel",
          "model_module_version": "1.5.0",
          "state": {
            "_model_module": "@jupyter-widgets/controls",
            "_model_module_version": "1.5.0",
            "_model_name": "DescriptionStyleModel",
            "_view_count": null,
            "_view_module": "@jupyter-widgets/base",
            "_view_module_version": "1.2.0",
            "_view_name": "StyleView",
            "description_width": ""
          }
        },
        "eb919faff397466f937c7f537b66205b": {
          "model_module": "@jupyter-widgets/controls",
          "model_name": "HBoxModel",
          "model_module_version": "1.5.0",
          "state": {
            "_dom_classes": [],
            "_model_module": "@jupyter-widgets/controls",
            "_model_module_version": "1.5.0",
            "_model_name": "HBoxModel",
            "_view_count": null,
            "_view_module": "@jupyter-widgets/controls",
            "_view_module_version": "1.5.0",
            "_view_name": "HBoxView",
            "box_style": "",
            "children": [
              "IPY_MODEL_24db46d07d774afa8f6941e483c22dae",
              "IPY_MODEL_e5c0cb52bc4f4dcc8c43114fe5cb8322",
              "IPY_MODEL_d26c5efdb3dd4d36b486dcae6ae47a6f"
            ],
            "layout": "IPY_MODEL_8b88b2cf18954671a9ee65425cf7b02e"
          }
        },
        "24db46d07d774afa8f6941e483c22dae": {
          "model_module": "@jupyter-widgets/controls",
          "model_name": "HTMLModel",
          "model_module_version": "1.5.0",
          "state": {
            "_dom_classes": [],
            "_model_module": "@jupyter-widgets/controls",
            "_model_module_version": "1.5.0",
            "_model_name": "HTMLModel",
            "_view_count": null,
            "_view_module": "@jupyter-widgets/controls",
            "_view_module_version": "1.5.0",
            "_view_name": "HTMLView",
            "description": "",
            "description_tooltip": null,
            "layout": "IPY_MODEL_b8b6dedcde0c49ec8101725bea0eeb43",
            "placeholder": "​",
            "style": "IPY_MODEL_c4809f5761b3447d849305bb3e619915",
            "value": "question_answers_data_100.jsonl: 100%"
          }
        },
        "e5c0cb52bc4f4dcc8c43114fe5cb8322": {
          "model_module": "@jupyter-widgets/controls",
          "model_name": "FloatProgressModel",
          "model_module_version": "1.5.0",
          "state": {
            "_dom_classes": [],
            "_model_module": "@jupyter-widgets/controls",
            "_model_module_version": "1.5.0",
            "_model_name": "FloatProgressModel",
            "_view_count": null,
            "_view_module": "@jupyter-widgets/controls",
            "_view_module_version": "1.5.0",
            "_view_name": "ProgressView",
            "bar_style": "success",
            "description": "",
            "description_tooltip": null,
            "layout": "IPY_MODEL_037bb6c5cf504b4bbdb9630eed39b1da",
            "max": 276493,
            "min": 0,
            "orientation": "horizontal",
            "style": "IPY_MODEL_fd7ec394ca794c34bd1f2bf527cf1fa7",
            "value": 276493
          }
        },
        "d26c5efdb3dd4d36b486dcae6ae47a6f": {
          "model_module": "@jupyter-widgets/controls",
          "model_name": "HTMLModel",
          "model_module_version": "1.5.0",
          "state": {
            "_dom_classes": [],
            "_model_module": "@jupyter-widgets/controls",
            "_model_module_version": "1.5.0",
            "_model_name": "HTMLModel",
            "_view_count": null,
            "_view_module": "@jupyter-widgets/controls",
            "_view_module_version": "1.5.0",
            "_view_name": "HTMLView",
            "description": "",
            "description_tooltip": null,
            "layout": "IPY_MODEL_f2a8e3d4d3af4925b8be7074ee7b8e34",
            "placeholder": "​",
            "style": "IPY_MODEL_11bcdf2dce584f4b934951649253c409",
            "value": " 276k/276k [00:00&lt;00:00, 3.55MB/s]"
          }
        },
        "8b88b2cf18954671a9ee65425cf7b02e": {
          "model_module": "@jupyter-widgets/base",
          "model_name": "LayoutModel",
          "model_module_version": "1.2.0",
          "state": {
            "_model_module": "@jupyter-widgets/base",
            "_model_module_version": "1.2.0",
            "_model_name": "LayoutModel",
            "_view_count": null,
            "_view_module": "@jupyter-widgets/base",
            "_view_module_version": "1.2.0",
            "_view_name": "LayoutView",
            "align_content": null,
            "align_items": null,
            "align_self": null,
            "border": null,
            "bottom": null,
            "display": null,
            "flex": null,
            "flex_flow": null,
            "grid_area": null,
            "grid_auto_columns": null,
            "grid_auto_flow": null,
            "grid_auto_rows": null,
            "grid_column": null,
            "grid_gap": null,
            "grid_row": null,
            "grid_template_areas": null,
            "grid_template_columns": null,
            "grid_template_rows": null,
            "height": null,
            "justify_content": null,
            "justify_items": null,
            "left": null,
            "margin": null,
            "max_height": null,
            "max_width": null,
            "min_height": null,
            "min_width": null,
            "object_fit": null,
            "object_position": null,
            "order": null,
            "overflow": null,
            "overflow_x": null,
            "overflow_y": null,
            "padding": null,
            "right": null,
            "top": null,
            "visibility": null,
            "width": null
          }
        },
        "b8b6dedcde0c49ec8101725bea0eeb43": {
          "model_module": "@jupyter-widgets/base",
          "model_name": "LayoutModel",
          "model_module_version": "1.2.0",
          "state": {
            "_model_module": "@jupyter-widgets/base",
            "_model_module_version": "1.2.0",
            "_model_name": "LayoutModel",
            "_view_count": null,
            "_view_module": "@jupyter-widgets/base",
            "_view_module_version": "1.2.0",
            "_view_name": "LayoutView",
            "align_content": null,
            "align_items": null,
            "align_self": null,
            "border": null,
            "bottom": null,
            "display": null,
            "flex": null,
            "flex_flow": null,
            "grid_area": null,
            "grid_auto_columns": null,
            "grid_auto_flow": null,
            "grid_auto_rows": null,
            "grid_column": null,
            "grid_gap": null,
            "grid_row": null,
            "grid_template_areas": null,
            "grid_template_columns": null,
            "grid_template_rows": null,
            "height": null,
            "justify_content": null,
            "justify_items": null,
            "left": null,
            "margin": null,
            "max_height": null,
            "max_width": null,
            "min_height": null,
            "min_width": null,
            "object_fit": null,
            "object_position": null,
            "order": null,
            "overflow": null,
            "overflow_x": null,
            "overflow_y": null,
            "padding": null,
            "right": null,
            "top": null,
            "visibility": null,
            "width": null
          }
        },
        "c4809f5761b3447d849305bb3e619915": {
          "model_module": "@jupyter-widgets/controls",
          "model_name": "DescriptionStyleModel",
          "model_module_version": "1.5.0",
          "state": {
            "_model_module": "@jupyter-widgets/controls",
            "_model_module_version": "1.5.0",
            "_model_name": "DescriptionStyleModel",
            "_view_count": null,
            "_view_module": "@jupyter-widgets/base",
            "_view_module_version": "1.2.0",
            "_view_name": "StyleView",
            "description_width": ""
          }
        },
        "037bb6c5cf504b4bbdb9630eed39b1da": {
          "model_module": "@jupyter-widgets/base",
          "model_name": "LayoutModel",
          "model_module_version": "1.2.0",
          "state": {
            "_model_module": "@jupyter-widgets/base",
            "_model_module_version": "1.2.0",
            "_model_name": "LayoutModel",
            "_view_count": null,
            "_view_module": "@jupyter-widgets/base",
            "_view_module_version": "1.2.0",
            "_view_name": "LayoutView",
            "align_content": null,
            "align_items": null,
            "align_self": null,
            "border": null,
            "bottom": null,
            "display": null,
            "flex": null,
            "flex_flow": null,
            "grid_area": null,
            "grid_auto_columns": null,
            "grid_auto_flow": null,
            "grid_auto_rows": null,
            "grid_column": null,
            "grid_gap": null,
            "grid_row": null,
            "grid_template_areas": null,
            "grid_template_columns": null,
            "grid_template_rows": null,
            "height": null,
            "justify_content": null,
            "justify_items": null,
            "left": null,
            "margin": null,
            "max_height": null,
            "max_width": null,
            "min_height": null,
            "min_width": null,
            "object_fit": null,
            "object_position": null,
            "order": null,
            "overflow": null,
            "overflow_x": null,
            "overflow_y": null,
            "padding": null,
            "right": null,
            "top": null,
            "visibility": null,
            "width": null
          }
        },
        "fd7ec394ca794c34bd1f2bf527cf1fa7": {
          "model_module": "@jupyter-widgets/controls",
          "model_name": "ProgressStyleModel",
          "model_module_version": "1.5.0",
          "state": {
            "_model_module": "@jupyter-widgets/controls",
            "_model_module_version": "1.5.0",
            "_model_name": "ProgressStyleModel",
            "_view_count": null,
            "_view_module": "@jupyter-widgets/base",
            "_view_module_version": "1.2.0",
            "_view_name": "StyleView",
            "bar_color": null,
            "description_width": ""
          }
        },
        "f2a8e3d4d3af4925b8be7074ee7b8e34": {
          "model_module": "@jupyter-widgets/base",
          "model_name": "LayoutModel",
          "model_module_version": "1.2.0",
          "state": {
            "_model_module": "@jupyter-widgets/base",
            "_model_module_version": "1.2.0",
            "_model_name": "LayoutModel",
            "_view_count": null,
            "_view_module": "@jupyter-widgets/base",
            "_view_module_version": "1.2.0",
            "_view_name": "LayoutView",
            "align_content": null,
            "align_items": null,
            "align_self": null,
            "border": null,
            "bottom": null,
            "display": null,
            "flex": null,
            "flex_flow": null,
            "grid_area": null,
            "grid_auto_columns": null,
            "grid_auto_flow": null,
            "grid_auto_rows": null,
            "grid_column": null,
            "grid_gap": null,
            "grid_row": null,
            "grid_template_areas": null,
            "grid_template_columns": null,
            "grid_template_rows": null,
            "height": null,
            "justify_content": null,
            "justify_items": null,
            "left": null,
            "margin": null,
            "max_height": null,
            "max_width": null,
            "min_height": null,
            "min_width": null,
            "object_fit": null,
            "object_position": null,
            "order": null,
            "overflow": null,
            "overflow_x": null,
            "overflow_y": null,
            "padding": null,
            "right": null,
            "top": null,
            "visibility": null,
            "width": null
          }
        },
        "11bcdf2dce584f4b934951649253c409": {
          "model_module": "@jupyter-widgets/controls",
          "model_name": "DescriptionStyleModel",
          "model_module_version": "1.5.0",
          "state": {
            "_model_module": "@jupyter-widgets/controls",
            "_model_module_version": "1.5.0",
            "_model_name": "DescriptionStyleModel",
            "_view_count": null,
            "_view_module": "@jupyter-widgets/base",
            "_view_module_version": "1.2.0",
            "_view_name": "StyleView",
            "description_width": ""
          }
        },
        "00a96292e968419580bf1b240b878747": {
          "model_module": "@jupyter-widgets/controls",
          "model_name": "HBoxModel",
          "model_module_version": "1.5.0",
          "state": {
            "_dom_classes": [],
            "_model_module": "@jupyter-widgets/controls",
            "_model_module_version": "1.5.0",
            "_model_name": "HBoxModel",
            "_view_count": null,
            "_view_module": "@jupyter-widgets/controls",
            "_view_module_version": "1.5.0",
            "_view_name": "HBoxView",
            "box_style": "",
            "children": [
              "IPY_MODEL_60cfaa9d2fdd47bea593995cbb1db7b8",
              "IPY_MODEL_84599349c9724461b07c213c82cc4759",
              "IPY_MODEL_22b536e1ea4f48d2891147004a7c9095"
            ],
            "layout": "IPY_MODEL_a9f04da765ef4a4fb1b49265f5880cd0"
          }
        },
        "60cfaa9d2fdd47bea593995cbb1db7b8": {
          "model_module": "@jupyter-widgets/controls",
          "model_name": "HTMLModel",
          "model_module_version": "1.5.0",
          "state": {
            "_dom_classes": [],
            "_model_module": "@jupyter-widgets/controls",
            "_model_module_version": "1.5.0",
            "_model_name": "HTMLModel",
            "_view_count": null,
            "_view_module": "@jupyter-widgets/controls",
            "_view_module_version": "1.5.0",
            "_view_name": "HTMLView",
            "description": "",
            "description_tooltip": null,
            "layout": "IPY_MODEL_ee565b761de742e0a787f818deec3775",
            "placeholder": "​",
            "style": "IPY_MODEL_b8fee1c435414bc1bf8667039b93fc96",
            "value": "question_answers_data_30.jsonl: 100%"
          }
        },
        "84599349c9724461b07c213c82cc4759": {
          "model_module": "@jupyter-widgets/controls",
          "model_name": "FloatProgressModel",
          "model_module_version": "1.5.0",
          "state": {
            "_dom_classes": [],
            "_model_module": "@jupyter-widgets/controls",
            "_model_module_version": "1.5.0",
            "_model_name": "FloatProgressModel",
            "_view_count": null,
            "_view_module": "@jupyter-widgets/controls",
            "_view_module_version": "1.5.0",
            "_view_name": "ProgressView",
            "bar_style": "success",
            "description": "",
            "description_tooltip": null,
            "layout": "IPY_MODEL_6cfec04926e44a9194cf2105e6221e4b",
            "max": 81643,
            "min": 0,
            "orientation": "horizontal",
            "style": "IPY_MODEL_a110ea411bd64557bd0122b7d026e2ca",
            "value": 81643
          }
        },
        "22b536e1ea4f48d2891147004a7c9095": {
          "model_module": "@jupyter-widgets/controls",
          "model_name": "HTMLModel",
          "model_module_version": "1.5.0",
          "state": {
            "_dom_classes": [],
            "_model_module": "@jupyter-widgets/controls",
            "_model_module_version": "1.5.0",
            "_model_name": "HTMLModel",
            "_view_count": null,
            "_view_module": "@jupyter-widgets/controls",
            "_view_module_version": "1.5.0",
            "_view_name": "HTMLView",
            "description": "",
            "description_tooltip": null,
            "layout": "IPY_MODEL_5d216eb4db9f442f9f650f837e3e12f7",
            "placeholder": "​",
            "style": "IPY_MODEL_cec9b882b2514363aaaa654be99e2bde",
            "value": " 81.6k/81.6k [00:00&lt;00:00, 3.75MB/s]"
          }
        },
        "a9f04da765ef4a4fb1b49265f5880cd0": {
          "model_module": "@jupyter-widgets/base",
          "model_name": "LayoutModel",
          "model_module_version": "1.2.0",
          "state": {
            "_model_module": "@jupyter-widgets/base",
            "_model_module_version": "1.2.0",
            "_model_name": "LayoutModel",
            "_view_count": null,
            "_view_module": "@jupyter-widgets/base",
            "_view_module_version": "1.2.0",
            "_view_name": "LayoutView",
            "align_content": null,
            "align_items": null,
            "align_self": null,
            "border": null,
            "bottom": null,
            "display": null,
            "flex": null,
            "flex_flow": null,
            "grid_area": null,
            "grid_auto_columns": null,
            "grid_auto_flow": null,
            "grid_auto_rows": null,
            "grid_column": null,
            "grid_gap": null,
            "grid_row": null,
            "grid_template_areas": null,
            "grid_template_columns": null,
            "grid_template_rows": null,
            "height": null,
            "justify_content": null,
            "justify_items": null,
            "left": null,
            "margin": null,
            "max_height": null,
            "max_width": null,
            "min_height": null,
            "min_width": null,
            "object_fit": null,
            "object_position": null,
            "order": null,
            "overflow": null,
            "overflow_x": null,
            "overflow_y": null,
            "padding": null,
            "right": null,
            "top": null,
            "visibility": null,
            "width": null
          }
        },
        "ee565b761de742e0a787f818deec3775": {
          "model_module": "@jupyter-widgets/base",
          "model_name": "LayoutModel",
          "model_module_version": "1.2.0",
          "state": {
            "_model_module": "@jupyter-widgets/base",
            "_model_module_version": "1.2.0",
            "_model_name": "LayoutModel",
            "_view_count": null,
            "_view_module": "@jupyter-widgets/base",
            "_view_module_version": "1.2.0",
            "_view_name": "LayoutView",
            "align_content": null,
            "align_items": null,
            "align_self": null,
            "border": null,
            "bottom": null,
            "display": null,
            "flex": null,
            "flex_flow": null,
            "grid_area": null,
            "grid_auto_columns": null,
            "grid_auto_flow": null,
            "grid_auto_rows": null,
            "grid_column": null,
            "grid_gap": null,
            "grid_row": null,
            "grid_template_areas": null,
            "grid_template_columns": null,
            "grid_template_rows": null,
            "height": null,
            "justify_content": null,
            "justify_items": null,
            "left": null,
            "margin": null,
            "max_height": null,
            "max_width": null,
            "min_height": null,
            "min_width": null,
            "object_fit": null,
            "object_position": null,
            "order": null,
            "overflow": null,
            "overflow_x": null,
            "overflow_y": null,
            "padding": null,
            "right": null,
            "top": null,
            "visibility": null,
            "width": null
          }
        },
        "b8fee1c435414bc1bf8667039b93fc96": {
          "model_module": "@jupyter-widgets/controls",
          "model_name": "DescriptionStyleModel",
          "model_module_version": "1.5.0",
          "state": {
            "_model_module": "@jupyter-widgets/controls",
            "_model_module_version": "1.5.0",
            "_model_name": "DescriptionStyleModel",
            "_view_count": null,
            "_view_module": "@jupyter-widgets/base",
            "_view_module_version": "1.2.0",
            "_view_name": "StyleView",
            "description_width": ""
          }
        },
        "6cfec04926e44a9194cf2105e6221e4b": {
          "model_module": "@jupyter-widgets/base",
          "model_name": "LayoutModel",
          "model_module_version": "1.2.0",
          "state": {
            "_model_module": "@jupyter-widgets/base",
            "_model_module_version": "1.2.0",
            "_model_name": "LayoutModel",
            "_view_count": null,
            "_view_module": "@jupyter-widgets/base",
            "_view_module_version": "1.2.0",
            "_view_name": "LayoutView",
            "align_content": null,
            "align_items": null,
            "align_self": null,
            "border": null,
            "bottom": null,
            "display": null,
            "flex": null,
            "flex_flow": null,
            "grid_area": null,
            "grid_auto_columns": null,
            "grid_auto_flow": null,
            "grid_auto_rows": null,
            "grid_column": null,
            "grid_gap": null,
            "grid_row": null,
            "grid_template_areas": null,
            "grid_template_columns": null,
            "grid_template_rows": null,
            "height": null,
            "justify_content": null,
            "justify_items": null,
            "left": null,
            "margin": null,
            "max_height": null,
            "max_width": null,
            "min_height": null,
            "min_width": null,
            "object_fit": null,
            "object_position": null,
            "order": null,
            "overflow": null,
            "overflow_x": null,
            "overflow_y": null,
            "padding": null,
            "right": null,
            "top": null,
            "visibility": null,
            "width": null
          }
        },
        "a110ea411bd64557bd0122b7d026e2ca": {
          "model_module": "@jupyter-widgets/controls",
          "model_name": "ProgressStyleModel",
          "model_module_version": "1.5.0",
          "state": {
            "_model_module": "@jupyter-widgets/controls",
            "_model_module_version": "1.5.0",
            "_model_name": "ProgressStyleModel",
            "_view_count": null,
            "_view_module": "@jupyter-widgets/base",
            "_view_module_version": "1.2.0",
            "_view_name": "StyleView",
            "bar_color": null,
            "description_width": ""
          }
        },
        "5d216eb4db9f442f9f650f837e3e12f7": {
          "model_module": "@jupyter-widgets/base",
          "model_name": "LayoutModel",
          "model_module_version": "1.2.0",
          "state": {
            "_model_module": "@jupyter-widgets/base",
            "_model_module_version": "1.2.0",
            "_model_name": "LayoutModel",
            "_view_count": null,
            "_view_module": "@jupyter-widgets/base",
            "_view_module_version": "1.2.0",
            "_view_name": "LayoutView",
            "align_content": null,
            "align_items": null,
            "align_self": null,
            "border": null,
            "bottom": null,
            "display": null,
            "flex": null,
            "flex_flow": null,
            "grid_area": null,
            "grid_auto_columns": null,
            "grid_auto_flow": null,
            "grid_auto_rows": null,
            "grid_column": null,
            "grid_gap": null,
            "grid_row": null,
            "grid_template_areas": null,
            "grid_template_columns": null,
            "grid_template_rows": null,
            "height": null,
            "justify_content": null,
            "justify_items": null,
            "left": null,
            "margin": null,
            "max_height": null,
            "max_width": null,
            "min_height": null,
            "min_width": null,
            "object_fit": null,
            "object_position": null,
            "order": null,
            "overflow": null,
            "overflow_x": null,
            "overflow_y": null,
            "padding": null,
            "right": null,
            "top": null,
            "visibility": null,
            "width": null
          }
        },
        "cec9b882b2514363aaaa654be99e2bde": {
          "model_module": "@jupyter-widgets/controls",
          "model_name": "DescriptionStyleModel",
          "model_module_version": "1.5.0",
          "state": {
            "_model_module": "@jupyter-widgets/controls",
            "_model_module_version": "1.5.0",
            "_model_name": "DescriptionStyleModel",
            "_view_count": null,
            "_view_module": "@jupyter-widgets/base",
            "_view_module_version": "1.2.0",
            "_view_name": "StyleView",
            "description_width": ""
          }
        }
      }
    }
  },
  "nbformat": 4,
  "nbformat_minor": 0
}