{
  "cells": [
    {
      "cell_type": "markdown",
      "metadata": {
        "id": "4Tw3tvMs6R-Y"
      },
      "source": [
        "# Install Packages and Setup Variables\n"
      ]
    },
    {
      "cell_type": "code",
      "execution_count": 1,
      "metadata": {
        "colab": {
          "base_uri": "https://localhost:8080/"
        },
        "collapsed": true,
        "id": "HaB4G9zr0BYm",
        "outputId": "67c64819-84ca-4a0d-ca9f-ee2d0205cb2b"
      },
      "outputs": [
        {
          "name": "stdout",
          "output_type": "stream",
          "text": [
            "\u001b[?25l   \u001b[90m━━━━━━━━━━━━━━━━━━━━━━━━━━━━━━━━━━━━━━━━\u001b[0m \u001b[32m0.0/455.6 kB\u001b[0m \u001b[31m?\u001b[0m eta \u001b[36m-:--:--\u001b[0m\r\u001b[2K   \u001b[91m━━━━━━━━━━━━━━━━━━━━━━━━━━━━━━━━━━━━━━━\u001b[0m\u001b[91m╸\u001b[0m \u001b[32m450.6/455.6 kB\u001b[0m \u001b[31m15.5 MB/s\u001b[0m eta \u001b[36m0:00:01\u001b[0m\r\u001b[2K   \u001b[90m━━━━━━━━━━━━━━━━━━━━━━━━━━━━━━━━━━━━━━━━\u001b[0m \u001b[32m455.6/455.6 kB\u001b[0m \u001b[31m8.5 MB/s\u001b[0m eta \u001b[36m0:00:00\u001b[0m\n",
            "\u001b[?25h\u001b[?25l   \u001b[90m━━━━━━━━━━━━━━━━━━━━━━━━━━━━━━━━━━━━━━━━\u001b[0m \u001b[32m0.0/251.7 kB\u001b[0m \u001b[31m?\u001b[0m eta \u001b[36m-:--:--\u001b[0m\r\u001b[2K   \u001b[90m━━━━━━━━━━━━━━━━━━━━━━━━━━━━━━━━━━━━━━━━\u001b[0m \u001b[32m251.7/251.7 kB\u001b[0m \u001b[31m9.3 MB/s\u001b[0m eta \u001b[36m0:00:00\u001b[0m\n",
            "\u001b[2K   \u001b[90m━━━━━━━━━━━━━━━━━━━━━━━━━━━━━━━━━━━━━━━━\u001b[0m \u001b[32m1.2/1.2 MB\u001b[0m \u001b[31m23.8 MB/s\u001b[0m eta \u001b[36m0:00:00\u001b[0m\n",
            "\u001b[2K   \u001b[90m━━━━━━━━━━━━━━━━━━━━━━━━━━━━━━━━━━━━━━━━\u001b[0m \u001b[32m3.3/3.3 MB\u001b[0m \u001b[31m21.6 MB/s\u001b[0m eta \u001b[36m0:00:00\u001b[0m\n",
            "\u001b[?25h"
          ]
        }
      ],
      "source": [
        "!pip install -q openai==1.59.8 cohere==5.13.8 tiktoken==0.8.0"
      ]
    },
    {
      "cell_type": "code",
      "execution_count": 2,
      "metadata": {
        "id": "MYvUA6CF2Le6"
      },
      "outputs": [],
      "source": [
        "import os\n",
        "\n",
        "# Set the \"OPENAI_API_KEY\" and \"GOOGLE_API_KEY\" in the Python environment. Will be used by OpenAI client later.\n",
        "\n",
        "os.environ[\"OPENAI_API_KEY\"] = \"<YOUR_OPENAI_API_KEY>\"\n",
        "os.environ[\"GOOGLE_API_KEY\"] = \"<YOUR_GOOGLE_API_KEY>\"\n",
        "\n",
        "\n",
        "# from google.colab import userdata\n",
        "\n",
        "# os.environ[\"OPENAI_API_KEY\"] = userdata.get('openai_api_key')\n",
        "# os.environ[\"GOOGLE_API_KEY\"] =  userdata.get('Google_api_key')"
      ]
    },
    {
      "cell_type": "code",
      "execution_count": 3,
      "metadata": {
        "id": "0ViVXXIqXBai"
      },
      "outputs": [],
      "source": [
        "# False: Generate the embedding for the dataset. (Associated cost with using OpenAI endpoint)\n",
        "# True: Load the dataset that already has the embedding vectors.\n",
        "load_embedding = False"
      ]
    },
    {
      "cell_type": "markdown",
      "metadata": {
        "id": "D8Nzx-cN_bDz"
      },
      "source": [
        "# Load Dataset\n"
      ]
    },
    {
      "cell_type": "markdown",
      "metadata": {
        "id": "5JpI7GiZ--Gw"
      },
      "source": [
        "## Download Dataset (JSON)\n"
      ]
    },
    {
      "cell_type": "markdown",
      "metadata": {
        "id": "NT68BDYt-GkG"
      },
      "source": [
        "The dataset includes several articles from the TowardsAI blog, which provide an in-depth explanation of the LLaMA2 model.\n"
      ]
    },
    {
      "cell_type": "code",
      "execution_count": 4,
      "metadata": {
        "colab": {
          "base_uri": "https://localhost:8080/"
        },
        "id": "p6NEJT9S2OoH",
        "outputId": "4f4df148-ef7e-434a-c2c4-6d108edcdb29"
      },
      "outputs": [
        {
          "name": "stdout",
          "output_type": "stream",
          "text": [
            "--2025-01-20 06:52:05--  https://raw.githubusercontent.com/AlaFalaki/tutorial_notebooks/main/data/mini-llama-articles.csv\n",
            "Resolving raw.githubusercontent.com (raw.githubusercontent.com)... 185.199.110.133, 185.199.111.133, 185.199.108.133, ...\n",
            "Connecting to raw.githubusercontent.com (raw.githubusercontent.com)|185.199.110.133|:443... connected.\n",
            "HTTP request sent, awaiting response... 200 OK\n",
            "Length: 173646 (170K) [text/plain]\n",
            "Saving to: ‘mini-llama-articles.csv’\n",
            "\n",
            "\rmini-llama-articles   0%[                    ]       0  --.-KB/s               \rmini-llama-articles 100%[===================>] 169.58K  --.-KB/s    in 0.03s   \n",
            "\n",
            "2025-01-20 06:52:05 (4.97 MB/s) - ‘mini-llama-articles.csv’ saved [173646/173646]\n",
            "\n",
            "--2025-01-20 06:52:05--  https://raw.githubusercontent.com/AlaFalaki/tutorial_notebooks/main/data/mini-llama-articles-with_embeddings.csv\n",
            "Resolving raw.githubusercontent.com (raw.githubusercontent.com)... 185.199.108.133, 185.199.109.133, 185.199.110.133, ...\n",
            "Connecting to raw.githubusercontent.com (raw.githubusercontent.com)|185.199.108.133|:443... connected.\n",
            "HTTP request sent, awaiting response... 200 OK\n",
            "Length: 6157740 (5.9M) [text/plain]\n",
            "Saving to: ‘mini-llama-articles-with_embeddings.csv’\n",
            "\n",
            "mini-llama-articles 100%[===================>]   5.87M  --.-KB/s    in 0.09s   \n",
            "\n",
            "2025-01-20 06:52:05 (64.7 MB/s) - ‘mini-llama-articles-with_embeddings.csv’ saved [6157740/6157740]\n",
            "\n"
          ]
        }
      ],
      "source": [
        "!wget https://raw.githubusercontent.com/AlaFalaki/tutorial_notebooks/main/data/mini-llama-articles.csv\n",
        "!wget https://raw.githubusercontent.com/AlaFalaki/tutorial_notebooks/main/data/mini-llama-articles-with_embeddings.csv"
      ]
    },
    {
      "cell_type": "markdown",
      "metadata": {
        "id": "oYDd03Qn_clh"
      },
      "source": [
        "## Read File\n"
      ]
    },
    {
      "cell_type": "code",
      "execution_count": 5,
      "metadata": {
        "id": "_bfhs5NMYr4N"
      },
      "outputs": [],
      "source": [
        "# Split the input text into chunks of specified size.\n",
        "def split_into_chunks(text, chunk_size=1024):\n",
        "    chunks = []\n",
        "    for i in range(0, len(text), chunk_size):\n",
        "        chunks.append(text[i : i + chunk_size])\n",
        "\n",
        "    return chunks"
      ]
    },
    {
      "cell_type": "code",
      "execution_count": 6,
      "metadata": {
        "id": "UcQ7Ge_XCuXa"
      },
      "outputs": [],
      "source": [
        "import csv\n",
        "\n",
        "chunks = []\n",
        "\n",
        "# Load the file as a CSV\n",
        "with open(\"./mini-llama-articles.csv\", mode=\"r\", encoding=\"utf-8\") as file:\n",
        "    csv_reader = csv.reader(file)\n",
        "\n",
        "    for idx, row in enumerate(csv_reader):\n",
        "        if idx == 0:\n",
        "            continue\n",
        "            # Skip header row\n",
        "        chunks.extend(split_into_chunks(row[1]))"
      ]
    },
    {
      "cell_type": "code",
      "execution_count": 7,
      "metadata": {
        "colab": {
          "base_uri": "https://localhost:8080/"
        },
        "id": "UyJ_C672cSYs",
        "outputId": "c507130d-de06-4621-9541-710a7ce6a81d"
      },
      "outputs": [
        {
          "name": "stdout",
          "output_type": "stream",
          "text": [
            "number of articles: 14\n",
            "number of chunks: 174\n"
          ]
        }
      ],
      "source": [
        "print(\"number of articles:\", idx)\n",
        "print(\"number of chunks:\", len(chunks))"
      ]
    },
    {
      "cell_type": "code",
      "execution_count": 8,
      "metadata": {
        "colab": {
          "base_uri": "https://localhost:8080/"
        },
        "id": "JKdFSOb0NXjx",
        "outputId": "d41f3eaf-1a78-4469-f35c-b352ee802db2"
      },
      "outputs": [
        {
          "data": {
            "text/plain": [
              "Index(['chunk'], dtype='object')"
            ]
          },
          "execution_count": 8,
          "metadata": {},
          "output_type": "execute_result"
        }
      ],
      "source": [
        "import pandas as pd\n",
        "\n",
        "# Convert the JSON list to a Pandas Dataframe\n",
        "df = pd.DataFrame(chunks, columns=[\"chunk\"])\n",
        "\n",
        "df.keys()"
      ]
    },
    {
      "cell_type": "markdown",
      "metadata": {
        "id": "21pFDgNdW9rO"
      },
      "source": [
        "# Generate Embedding\n"
      ]
    },
    {
      "cell_type": "code",
      "execution_count": 9,
      "metadata": {
        "id": "AfS9w9eQAKyu"
      },
      "outputs": [],
      "source": [
        "from openai import OpenAI\n",
        "\n",
        "client = OpenAI()\n",
        "\n",
        "\n",
        "# Defining a function that converts a text to embedding vector using OpenAI's Ada model.\n",
        "def get_embedding(text):\n",
        "    try:\n",
        "        # Remove newlines\n",
        "        text = text.replace(\"\\n\", \" \")\n",
        "        res = client.embeddings.create(input=[text], model=\"text-embedding-3-small\")\n",
        "\n",
        "        return res.data[0].embedding\n",
        "\n",
        "    except:\n",
        "        return None"
      ]
    },
    {
      "cell_type": "code",
      "execution_count": 10,
      "metadata": {
        "colab": {
          "base_uri": "https://localhost:8080/",
          "height": 66,
          "referenced_widgets": [
            "2f2992f96122410eacc1817930bd889b",
            "c3b1aa9596e34fa89a4325c183bfd46c",
            "9eada47cbac448bfa152466e76f361e5",
            "55d57bd18aac484ca8636c36bedffb66",
            "21beaf687d9e44949bea31da89874ccd",
            "2b96490e49c94301814ca7a587ecc9c4",
            "a11e785a2f654c358aba6636062155f8",
            "cac0bee1dc9f42f3b358b0b5ad658013",
            "3c74547f1d9743258b5ec8bda568beaa",
            "bfdd58541db3411180aba471e4ab01c0",
            "4f06590b51b345299de56b3c7f7b0bb1"
          ]
        },
        "id": "qC6aeFr3Rmi2",
        "outputId": "359bf430-a66c-4274-c480-becdfee325c5"
      },
      "outputs": [
        {
          "name": "stdout",
          "output_type": "stream",
          "text": [
            "Generating embeddings...\n"
          ]
        },
        {
          "data": {
            "application/vnd.jupyter.widget-view+json": {
              "model_id": "2f2992f96122410eacc1817930bd889b",
              "version_major": 2,
              "version_minor": 0
            },
            "text/plain": [
              "0it [00:00, ?it/s]"
            ]
          },
          "metadata": {},
          "output_type": "display_data"
        }
      ],
      "source": [
        "from tqdm.notebook import tqdm\n",
        "import numpy as np\n",
        "\n",
        "# Generate embedding\n",
        "if not load_embedding:\n",
        "    print(\"Generating embeddings...\")\n",
        "    embeddings = []\n",
        "    for index, row in tqdm(df.iterrows()):\n",
        "        # df.at[index, 'embedding'] = get_embedding( row['chunk'] )\n",
        "        embeddings.append(get_embedding(row[\"chunk\"]))\n",
        "\n",
        "    embeddings_values = pd.Series(embeddings)\n",
        "    df.insert(loc=1, column=\"embedding\", value=embeddings_values)\n",
        "\n",
        "# Or, load the embedding from the file.\n",
        "else:\n",
        "    print(\"Loaded the embedding file.\")\n",
        "    # Load the file as a CSV\n",
        "    df = pd.read_csv(\"mini-llama-articles-with_embeddings.csv\")\n",
        "    # Convert embedding column to an array\n",
        "    df[\"embedding\"] = df[\"embedding\"].apply(lambda x: np.array(eval(x)), 0)"
      ]
    },
    {
      "cell_type": "code",
      "execution_count": 11,
      "metadata": {
        "id": "jyX9M_n9o2ve"
      },
      "outputs": [],
      "source": [
        "# df.to_csv('mini-llama-articles-with_embeddings.csv')"
      ]
    },
    {
      "cell_type": "markdown",
      "metadata": {
        "id": "E_qrXwImXrXJ"
      },
      "source": [
        "# User Question\n"
      ]
    },
    {
      "cell_type": "code",
      "execution_count": 12,
      "metadata": {
        "colab": {
          "base_uri": "https://localhost:8080/"
        },
        "id": "xGTa7cqCX97q",
        "outputId": "bbba2f03-763c-4f55-c531-bed77560cd27"
      },
      "outputs": [
        {
          "data": {
            "text/plain": [
              "1536"
            ]
          },
          "execution_count": 12,
          "metadata": {},
          "output_type": "execute_result"
        }
      ],
      "source": [
        "# Define the user question, and convert it to embedding.\n",
        "QUESTION = \"How many parameters LLaMA2 model has?\"\n",
        "QUESTION_emb = get_embedding(QUESTION)\n",
        "\n",
        "len(QUESTION_emb)"
      ]
    },
    {
      "cell_type": "markdown",
      "metadata": {
        "id": "BXNzNWrJYWhU"
      },
      "source": [
        "# Test Cosine Similarity\n"
      ]
    },
    {
      "cell_type": "markdown",
      "metadata": {
        "id": "Vxaq-FgLIhIj"
      },
      "source": [
        "Calculating the similarity of embedding representations can help us to find pieces of text that are close to each other. In the following sample you see how the Cosine Similarity metric can identify which sentence could be a possible answer for the given user question. Obviously, the unrelated answer will score lower.\n"
      ]
    },
    {
      "cell_type": "code",
      "execution_count": 13,
      "metadata": {
        "id": "LqDWcPd4b-ZI"
      },
      "outputs": [],
      "source": [
        "BAD_SOURCE_emb = get_embedding(\"The sky is blue.\")\n",
        "GOOD_SOURCE_emb = get_embedding(\"LLaMA2 model has a total of 2B parameters.\")"
      ]
    },
    {
      "cell_type": "code",
      "execution_count": 14,
      "metadata": {
        "colab": {
          "base_uri": "https://localhost:8080/"
        },
        "id": "OI00eN86YZKB",
        "outputId": "9a86ff36-34bb-418b-9e2f-f416c001a648"
      },
      "outputs": [
        {
          "name": "stdout",
          "output_type": "stream",
          "text": [
            "> Bad Response Score: [[0.02578727]]\n",
            "> Good Response Score: [[0.83154609]]\n"
          ]
        }
      ],
      "source": [
        "from sklearn.metrics.pairwise import cosine_similarity\n",
        "\n",
        "# A sample that how a good piece of text can achieve high similarity score compared\n",
        "# to a completely unrelated text.\n",
        "print(\"> Bad Response Score:\", cosine_similarity([QUESTION_emb], [BAD_SOURCE_emb]))\n",
        "print(\"> Good Response Score:\", cosine_similarity([QUESTION_emb], [GOOD_SOURCE_emb]))"
      ]
    },
    {
      "cell_type": "markdown",
      "metadata": {
        "id": "kdJlEtaaJC4I"
      },
      "source": [
        "# Calculate Cosine Similarities\n"
      ]
    },
    {
      "cell_type": "code",
      "execution_count": 15,
      "metadata": {
        "colab": {
          "base_uri": "https://localhost:8080/"
        },
        "id": "PNPN7OAXemmH",
        "outputId": "a266a5d9-18e6-437e-8de8-93ef4de54615"
      },
      "outputs": [
        {
          "name": "stdout",
          "output_type": "stream",
          "text": [
            "[[0.46767499 0.46912464 0.25982343 0.29374288 0.319654   0.40160312\n",
            "  0.41500898 0.4525136  0.45935869 0.1259955  0.11750504 0.01347259\n",
            "  0.22602134 0.21423916 0.10145219 0.33064027 0.1074138  0.346859\n",
            "  0.16311856 0.08726645 0.3482437  0.22839007 0.19201346 0.26471736\n",
            "  0.24928956 0.34824073 0.24828999 0.3276031  0.41445729 0.41337977\n",
            "  0.46363194 0.38341214 0.46851769 0.35636739 0.35398223 0.3027117\n",
            "  0.29934588 0.29252605 0.40029384 0.4646832  0.39473083 0.41039813\n",
            "  0.4470362  0.43173664 0.35909244 0.33973082 0.51356637 0.20932135\n",
            "  0.40203991 0.32829097 0.42834358 0.48270619 0.450364   0.34256287\n",
            "  0.32083244 0.42588004 0.24622426 0.18089188 0.23648678 0.34272376\n",
            "  0.3437286  0.20476358 0.1975709  0.22448873 0.21110849 0.42298903\n",
            "  0.26382997 0.30438172 0.33609101 0.38368357 0.23536253 0.24351588\n",
            "  0.37074498 0.28025883 0.49047132 0.53044055 0.37817696 0.43770825\n",
            "  0.37750013 0.39255233 0.30081934 0.41710617 0.4674553  0.45420047\n",
            "  0.35169137 0.21222866 0.4262131  0.31600177 0.44059904 0.52726652\n",
            "  0.50597773 0.49750504 0.44281669 0.35109171 0.39478983 0.44126859\n",
            "  0.20327756 0.27925495 0.15406605 0.19138923 0.1591823  0.2410818\n",
            "  0.22525528 0.19943315 0.26228114 0.35059169 0.36222266 0.15316145\n",
            "  0.27644707 0.45339784 0.3342825  0.2945309  0.381719   0.41724067\n",
            "  0.61951453 0.3868869  0.3444073  0.2827669  0.20139546 0.14609842\n",
            "  0.19517217 0.28226397 0.15626344 0.18060334 0.30277618 0.28139129\n",
            "  0.30262487 0.23778126 0.14555983 0.19749257 0.39240676 0.33001271\n",
            "  0.23546332 0.1570049  0.26884917 0.2648088  0.37819181 0.18126\n",
            "  0.13043953 0.18452304 0.26052189 0.35587602 0.33358688 0.23507334\n",
            "  0.37106625 0.19023676 0.18962526 0.20080808 0.16389302 0.3500477\n",
            "  0.25243468 0.33878725 0.18292758 0.30649191 0.24200298 0.13082281\n",
            "  0.18217836 0.19085239 0.41305619 0.16363392 0.26363609 0.20629575\n",
            "  0.30178322 0.24799972 0.41006581 0.21783605 0.22282313 0.27780672\n",
            "  0.14569464 0.19755302 0.35371121 0.1539897  0.32274227 0.30303573]]\n"
          ]
        }
      ],
      "source": [
        "# The similarity between the questions and each part of the essay.\n",
        "cosine_similarities = cosine_similarity([QUESTION_emb], df[\"embedding\"].tolist())\n",
        "\n",
        "print(cosine_similarities)"
      ]
    },
    {
      "cell_type": "code",
      "execution_count": 16,
      "metadata": {
        "colab": {
          "base_uri": "https://localhost:8080/"
        },
        "id": "1-XI1_7mhlw4",
        "outputId": "2ba6e27d-7c17-402a-a587-45ff6c893352"
      },
      "outputs": [
        {
          "name": "stdout",
          "output_type": "stream",
          "text": [
            "[114  75  89]\n"
          ]
        }
      ],
      "source": [
        "import numpy as np\n",
        "\n",
        "number_of_chunks_to_retrieve = 3\n",
        "\n",
        "# Sort the scores\n",
        "highest_index = np.argmax(cosine_similarities)\n",
        "\n",
        "# Pick the N highest scored chunks\n",
        "indices = np.argsort(cosine_similarities[0])[::-1][:number_of_chunks_to_retrieve]\n",
        "print(indices)"
      ]
    },
    {
      "cell_type": "code",
      "execution_count": 17,
      "metadata": {
        "colab": {
          "base_uri": "https://localhost:8080/"
        },
        "id": "JPmhCb9kfB0w",
        "outputId": "8fece913-2165-4eca-c394-9fff7dd81f65"
      },
      "outputs": [
        {
          "name": "stdout",
          "output_type": "stream",
          "text": [
            "> Chunk 1\n",
            "by Meta that ventures into both the AI and academic spaces. The model aims to help researchers, scientists, and engineers advance their work in exploring AI applications. It will be released under a non-commercial license to prevent misuse, and access will be granted to academic researchers, individuals, and organizations affiliated with the government, civil society, academia, and industry research facilities on a selective case-by-case basis. The sharing of codes and weights allows other researchers to test new approaches in LLMs. The LLaMA models have a range of 7 billion to 65 billion parameters. LLaMA-65B can be compared to DeepMind's Chinchilla and Google's PaLM. Publicly available unlabeled data was used to train these models, and training smaller foundational models require less computing power and resources. LLaMA 65B and 33B have been trained on 1.4 trillion tokens in 20 different languages, and according to the Facebook Artificial Intelligence Research (FAIR) team, the model's performance varies ac\n",
            "----\n",
            "> Chunk 2\n",
            "LLaMA: Meta's new AI tool According to the official release, LLaMA is a foundational language model developed to assist 'researchers and academics' in their work (as opposed to the average web user) to understand and study these NLP models. Leveraging AI in such a way could give researchers an edge in terms of time spent. You may not know this, but this would be Meta's third LLM after Blender Bot 3 and Galactica. However, the two LLMs were shut down soon, and Meta stopped their further development, as it produced erroneous results. Before moving further, it is important to emphasize that LLaMA is NOT a chatbot like ChatGPT. As I mentioned before, it is a 'research tool' for researchers. We can expect the initial versions of LLaMA to be a bit more technical and indirect to use as opposed to the case with ChatGPT, which was very direct, interactive, and a lot easy to use. \"Smaller, more performant models such as LLaMA enable ... research community who don't have access to large amounts of infrastructure to stud\n",
            "----\n",
            "> Chunk 3\n",
            "I. Llama 2: Revolutionizing Commercial Use Unlike its predecessor Llama 1, which was limited to research use, Llama 2 represents a major advancement as an open-source commercial model. Businesses can now integrate Llama 2 into products to create AI-powered applications. Availability on Azure and AWS facilitates fine-tuning and adoption. However, restrictions apply to prevent exploitation. Companies with over 700 million active daily users cannot use Llama 2. Additionally, its output cannot be used to improve other language models.  II. Llama 2 Model Flavors Llama 2 is available in four different model sizes: 7 billion, 13 billion, 34 billion, and 70 billion parameters. While 7B, 13B, and 70B have already been released, the 34B model is still awaited. The pretrained variant, trained on a whopping 2 trillion tokens, boasts a context window of 4096 tokens, twice the size of its predecessor Llama 1. Meta also released a Llama 2 fine-tuned model for chat applications that was trained on over 1 million human annota\n",
            "----\n"
          ]
        }
      ],
      "source": [
        "# Look at the highest scored retrieved pieces of text\n",
        "for idx, item in enumerate(df.chunk[indices]):\n",
        "    print(f\"> Chunk {idx+1}\")\n",
        "    print(item)\n",
        "    print(\"----\")"
      ]
    },
    {
      "cell_type": "markdown",
      "metadata": {
        "id": "7uvQACqAkHg4"
      },
      "source": [
        "# Augment the Prompt\n"
      ]
    },
    {
      "cell_type": "code",
      "execution_count": 18,
      "metadata": {
        "id": "sw1lb0dJ6vP7"
      },
      "outputs": [],
      "source": [
        "import google.generativeai as genai\n",
        "\n",
        "# Use the Gemini API to answer the questions based on the retrieved pieces of text.\n",
        "try:\n",
        "    # Formulating the system prompt and condition the model to answer only AI-related questions.\n",
        "    system_prompt = (\n",
        "        \"You are an assistant and expert in answering questions from a chunks of content. \"\n",
        "        \"Only answer AI-related question, else say that you cannot answer this question.\"\n",
        "    )\n",
        "\n",
        "    # Create a user prompt with the user's question\n",
        "    prompt = (\n",
        "        \"Read the following informations that might contain the context you require to answer the question. You can use the informations starting from the <START_OF_CONTEXT> tag and end with the <END_OF_CONTEXT> tag. Here is the content:\\n\\n<START_OF_CONTEXT>\\n{}\\n<END_OF_CONTEXT>\\n\\n\"\n",
        "        \"Please provide an informative and accurate answer to the following question based on the avaiable context. Be concise and take your time. \\nQuestion: {}\\nAnswer:\"\n",
        "    )\n",
        "    # Add the retrieved pieces of text to the prompt.\n",
        "    prompt = prompt.format(\"\".join(df.chunk[indices]), QUESTION)\n",
        "\n",
        "    model = genai.GenerativeModel(\n",
        "        model_name=\"gemini-1.5-flash\", system_instruction=system_prompt\n",
        "    )\n",
        "\n",
        "    result = model.generate_content(\n",
        "        prompt,\n",
        "        request_options={\"timeout\": 1000},\n",
        "    )\n",
        "    res = result.text\n",
        "\n",
        "except Exception as e:\n",
        "    print(f\"An error occurred: {e}\")"
      ]
    },
    {
      "cell_type": "code",
      "execution_count": 19,
      "metadata": {
        "colab": {
          "base_uri": "https://localhost:8080/"
        },
        "id": "9tBvJ8oMucha",
        "outputId": "bc14f419-feda-499b-95d9-120acdd4b8ef"
      },
      "outputs": [
        {
          "name": "stdout",
          "output_type": "stream",
          "text": [
            "LLaMA 2 is available in four sizes: 7 billion, 13 billion, 34 billion, and 70 billion parameters.\n",
            "\n"
          ]
        }
      ],
      "source": [
        "print(res)"
      ]
    },
    {
      "cell_type": "markdown",
      "metadata": {
        "id": "Aamim8n6RZHO"
      },
      "source": [
        "## How Augmenting the Prompt can address knowledge cutoff limitations and hallucinations"
      ]
    },
    {
      "cell_type": "code",
      "execution_count": 20,
      "metadata": {
        "id": "jAPOfX9fSKai"
      },
      "outputs": [],
      "source": [
        "# Consider this as a retrieved chunk\n",
        "# https://ai.meta.com/blog/meta-llama-3-1/\n",
        "Example_chunk = \"\"\"\n",
        "Introducing Llama 3.1 Llama 3.1 405B is the first openly available model that rivals the top AI models when it comes to state-of-the-art capabilities in general knowledge, steerability, math, tool use, and multilingual translation. With the release of the 405B model, we’re poised to supercharge innovation—with unprecedented opportunities for growth and exploration. We believe the latest generation of Llama will ignite new applications and modeling paradigms, including synthetic data generation to enable the improvement and training of smaller models, as well as model distillation—a capability that has never been achieved at this scale in open source.\n",
        "As part of this latest release, we’re introducing upgraded versions of the 8B and 70B models. These are multilingual and have a significantly longer context length of 128K, state-of-the-art tool use, and overall stronger reasoning capabilities. This enables our latest models to support advanced use cases, such as long-form text summarization, multilingual conversational agents, and coding assistants. We’ve also made changes to our license, allowing developers to use the outputs from Llama models—including the 405B—to improve other models. True to our commitment to open source, starting today, we’re making these models available to the community for download on llama.meta.com and Hugging Face and available for immediate development on our broad ecosystem of partner platforms. Model evaluations\n",
        "For this release, we evaluated performance on over 150 benchmark datasets that span a wide range of languages. In addition, we performed extensive human evaluations that compare Llama 3.1 with competing models in real-world scenarios. Our experimental evaluation suggests that our flagship model is competitive with leading foundation models across a range of tasks, including GPT-4, GPT-4o, and Claude 3.5 Sonnet. Additionally, our smaller models are competitive with closed and open models that have a similar number of parameters.\n",
        "Model Architecture As our largest model yet, training Llama 3.1 405B on over 15 trillion tokens was a major challenge. To enable training runs at this scale and achieve the results we have in a reasonable amount of time, we significantly optimized our full training stack and pushed our model training to over 16 thousand H100 GPUs, making the 405B the first Llama model trained at this scale.\n",
        "To address this, we made design choices that focus on keeping the model development process scalable and straightforward. We opted for a standard decoder-only transformer model architecture with minor adaptations rather than a mixture-of-experts model to maximize training stability.\n",
        "We adopted an iterative post-training procedure, where each round uses supervised fine-tuning and direct preference optimization. This enabled us to create the highest quality synthetic data for each round and improve each capability’s performance.\n",
        "Compared to previous versions of Llama, we improved both the quantity and quality of the data we use for pre- and post-training. These improvements include the development of more careful pre-processing and curation pipelines for pre-training data, the development of more rigorous quality assurance, and filtering approaches for post-training data.\n",
        "\"\"\""
      ]
    },
    {
      "cell_type": "code",
      "execution_count": 21,
      "metadata": {
        "colab": {
          "base_uri": "https://localhost:8080/"
        },
        "id": "E28JMT8mSKUf",
        "outputId": "527e07e9-1329-4fdc-a702-28332650f727"
      },
      "outputs": [
        {
          "name": "stdout",
          "output_type": "stream",
          "text": [
            "The provided text mentions a 405B parameter LLaMA 3.1 model, as well as upgraded 8B and 70B parameter models.\n",
            "\n"
          ]
        }
      ],
      "source": [
        "QUESTION = \"How many parameters LLaMA 3.1 model has?\"\n",
        "\n",
        "# Formulating the system prompt\n",
        "system_prompt = (\n",
        "    \"You are an assistant and expert in answering questions from a chunks of content. \"\n",
        "    \"Only answer AI-related question, else say that you cannot answer this question.\"\n",
        ")\n",
        "# Combining the system prompt with the user's question\n",
        "prompt = (\n",
        "    \"Read the following informations that might contain the context you require to answer the question. You can use the informations starting from the <START_OF_CONTEXT> tag and end with the <END_OF_CONTEXT> tag. Here is the content:\\n\\n<START_OF_CONTEXT>\\n{}\\n<END_OF_CONTEXT>\\n\\n\"\n",
        "    \"Please provide an informative and accurate answer to the following question based on the avaiable context. Be concise and take your time. \\nQuestion: {}\\nAnswer:\"\n",
        ")\n",
        "prompt = prompt.format(Example_chunk, QUESTION)\n",
        "\n",
        "model = genai.GenerativeModel(\n",
        "    model_name=\"gemini-1.5-flash\", system_instruction=system_prompt\n",
        ")\n",
        "\n",
        "# Gemini API call\n",
        "result = model.generate_content(\n",
        "    prompt,\n",
        "    request_options={\"timeout\": 1000},\n",
        ")\n",
        "res = result.text\n",
        "print(res)"
      ]
    },
    {
      "cell_type": "markdown",
      "metadata": {
        "id": "pW-BNCAC2JzE"
      },
      "source": [
        "# Without Augmentation\n"
      ]
    },
    {
      "cell_type": "markdown",
      "metadata": {
        "id": "tr5zXEGIMwJu"
      },
      "source": [
        "Test the Gemini API to answer the same question without the addition of retrieved documents. Basically, the LLM will use its knowledge to answer the question.\n"
      ]
    },
    {
      "cell_type": "code",
      "execution_count": 22,
      "metadata": {
        "id": "RuyXjzZyuecE"
      },
      "outputs": [],
      "source": [
        "QUESTION = \"How many parameters LLaMA 3 model has?\"\n",
        "\n",
        "# Formulating the system prompt\n",
        "system_prompt = \"You are an assistant and expert in answering questions.\"\n",
        "\n",
        "# Combining the system prompt with the user's question\n",
        "prompt = \"Be concise and take your time to answer the following question. \\nQuestion: {}\\nAnswer:\"\n",
        "prompt = prompt.format(QUESTION)\n",
        "\n",
        "model = genai.GenerativeModel(\n",
        "    model_name=\"gemini-1.5-flash\", system_instruction=system_prompt\n",
        ")\n",
        "\n",
        "# Gemini API call\n",
        "result = model.generate_content(\n",
        "    prompt,\n",
        "    request_options={\"timeout\": 1000},\n",
        ")\n",
        "res = result.text"
      ]
    },
    {
      "cell_type": "code",
      "execution_count": 23,
      "metadata": {
        "colab": {
          "base_uri": "https://localhost:8080/"
        },
        "id": "YAy34tPTzGbh",
        "outputId": "81bf9cfb-f8ad-468c-8d9b-0e6691b7fabb"
      },
      "outputs": [
        {
          "name": "stdout",
          "output_type": "stream",
          "text": [
            "The exact number of parameters for LLaMA 3 models isn't publicly available.  Meta has not released precise parameter counts for its various LLaMA 3 sizes.\n",
            "\n"
          ]
        }
      ],
      "source": [
        "print(res)"
      ]
    },
    {
      "cell_type": "code",
      "execution_count": 23,
      "metadata": {
        "id": "jCEapX5C83m2"
      },
      "outputs": [],
      "source": []
    }
  ],
  "metadata": {
    "colab": {
      "provenance": []
    },
    "kernelspec": {
      "display_name": "Python 3",
      "name": "python3"
    },
    "language_info": {
      "name": "python",
      "version": "3.12.4"
    },
    "widgets": {
      "application/vnd.jupyter.widget-state+json": {
        "21beaf687d9e44949bea31da89874ccd": {
          "model_module": "@jupyter-widgets/base",
          "model_module_version": "1.2.0",
          "model_name": "LayoutModel",
          "state": {
            "_model_module": "@jupyter-widgets/base",
            "_model_module_version": "1.2.0",
            "_model_name": "LayoutModel",
            "_view_count": null,
            "_view_module": "@jupyter-widgets/base",
            "_view_module_version": "1.2.0",
            "_view_name": "LayoutView",
            "align_content": null,
            "align_items": null,
            "align_self": null,
            "border": null,
            "bottom": null,
            "display": null,
            "flex": null,
            "flex_flow": null,
            "grid_area": null,
            "grid_auto_columns": null,
            "grid_auto_flow": null,
            "grid_auto_rows": null,
            "grid_column": null,
            "grid_gap": null,
            "grid_row": null,
            "grid_template_areas": null,
            "grid_template_columns": null,
            "grid_template_rows": null,
            "height": null,
            "justify_content": null,
            "justify_items": null,
            "left": null,
            "margin": null,
            "max_height": null,
            "max_width": null,
            "min_height": null,
            "min_width": null,
            "object_fit": null,
            "object_position": null,
            "order": null,
            "overflow": null,
            "overflow_x": null,
            "overflow_y": null,
            "padding": null,
            "right": null,
            "top": null,
            "visibility": null,
            "width": null
          }
        },
        "2b96490e49c94301814ca7a587ecc9c4": {
          "model_module": "@jupyter-widgets/base",
          "model_module_version": "1.2.0",
          "model_name": "LayoutModel",
          "state": {
            "_model_module": "@jupyter-widgets/base",
            "_model_module_version": "1.2.0",
            "_model_name": "LayoutModel",
            "_view_count": null,
            "_view_module": "@jupyter-widgets/base",
            "_view_module_version": "1.2.0",
            "_view_name": "LayoutView",
            "align_content": null,
            "align_items": null,
            "align_self": null,
            "border": null,
            "bottom": null,
            "display": null,
            "flex": null,
            "flex_flow": null,
            "grid_area": null,
            "grid_auto_columns": null,
            "grid_auto_flow": null,
            "grid_auto_rows": null,
            "grid_column": null,
            "grid_gap": null,
            "grid_row": null,
            "grid_template_areas": null,
            "grid_template_columns": null,
            "grid_template_rows": null,
            "height": null,
            "justify_content": null,
            "justify_items": null,
            "left": null,
            "margin": null,
            "max_height": null,
            "max_width": null,
            "min_height": null,
            "min_width": null,
            "object_fit": null,
            "object_position": null,
            "order": null,
            "overflow": null,
            "overflow_x": null,
            "overflow_y": null,
            "padding": null,
            "right": null,
            "top": null,
            "visibility": null,
            "width": null
          }
        },
        "2f2992f96122410eacc1817930bd889b": {
          "model_module": "@jupyter-widgets/controls",
          "model_module_version": "1.5.0",
          "model_name": "HBoxModel",
          "state": {
            "_dom_classes": [],
            "_model_module": "@jupyter-widgets/controls",
            "_model_module_version": "1.5.0",
            "_model_name": "HBoxModel",
            "_view_count": null,
            "_view_module": "@jupyter-widgets/controls",
            "_view_module_version": "1.5.0",
            "_view_name": "HBoxView",
            "box_style": "",
            "children": [
              "IPY_MODEL_c3b1aa9596e34fa89a4325c183bfd46c",
              "IPY_MODEL_9eada47cbac448bfa152466e76f361e5",
              "IPY_MODEL_55d57bd18aac484ca8636c36bedffb66"
            ],
            "layout": "IPY_MODEL_21beaf687d9e44949bea31da89874ccd"
          }
        },
        "3c74547f1d9743258b5ec8bda568beaa": {
          "model_module": "@jupyter-widgets/controls",
          "model_module_version": "1.5.0",
          "model_name": "ProgressStyleModel",
          "state": {
            "_model_module": "@jupyter-widgets/controls",
            "_model_module_version": "1.5.0",
            "_model_name": "ProgressStyleModel",
            "_view_count": null,
            "_view_module": "@jupyter-widgets/base",
            "_view_module_version": "1.2.0",
            "_view_name": "StyleView",
            "bar_color": null,
            "description_width": ""
          }
        },
        "4f06590b51b345299de56b3c7f7b0bb1": {
          "model_module": "@jupyter-widgets/controls",
          "model_module_version": "1.5.0",
          "model_name": "DescriptionStyleModel",
          "state": {
            "_model_module": "@jupyter-widgets/controls",
            "_model_module_version": "1.5.0",
            "_model_name": "DescriptionStyleModel",
            "_view_count": null,
            "_view_module": "@jupyter-widgets/base",
            "_view_module_version": "1.2.0",
            "_view_name": "StyleView",
            "description_width": ""
          }
        },
        "55d57bd18aac484ca8636c36bedffb66": {
          "model_module": "@jupyter-widgets/controls",
          "model_module_version": "1.5.0",
          "model_name": "HTMLModel",
          "state": {
            "_dom_classes": [],
            "_model_module": "@jupyter-widgets/controls",
            "_model_module_version": "1.5.0",
            "_model_name": "HTMLModel",
            "_view_count": null,
            "_view_module": "@jupyter-widgets/controls",
            "_view_module_version": "1.5.0",
            "_view_name": "HTMLView",
            "description": "",
            "description_tooltip": null,
            "layout": "IPY_MODEL_bfdd58541db3411180aba471e4ab01c0",
            "placeholder": "​",
            "style": "IPY_MODEL_4f06590b51b345299de56b3c7f7b0bb1",
            "value": " 174/? [00:40&lt;00:00,  4.96it/s]"
          }
        },
        "9eada47cbac448bfa152466e76f361e5": {
          "model_module": "@jupyter-widgets/controls",
          "model_module_version": "1.5.0",
          "model_name": "FloatProgressModel",
          "state": {
            "_dom_classes": [],
            "_model_module": "@jupyter-widgets/controls",
            "_model_module_version": "1.5.0",
            "_model_name": "FloatProgressModel",
            "_view_count": null,
            "_view_module": "@jupyter-widgets/controls",
            "_view_module_version": "1.5.0",
            "_view_name": "ProgressView",
            "bar_style": "success",
            "description": "",
            "description_tooltip": null,
            "layout": "IPY_MODEL_cac0bee1dc9f42f3b358b0b5ad658013",
            "max": 1,
            "min": 0,
            "orientation": "horizontal",
            "style": "IPY_MODEL_3c74547f1d9743258b5ec8bda568beaa",
            "value": 1
          }
        },
        "a11e785a2f654c358aba6636062155f8": {
          "model_module": "@jupyter-widgets/controls",
          "model_module_version": "1.5.0",
          "model_name": "DescriptionStyleModel",
          "state": {
            "_model_module": "@jupyter-widgets/controls",
            "_model_module_version": "1.5.0",
            "_model_name": "DescriptionStyleModel",
            "_view_count": null,
            "_view_module": "@jupyter-widgets/base",
            "_view_module_version": "1.2.0",
            "_view_name": "StyleView",
            "description_width": ""
          }
        },
        "bfdd58541db3411180aba471e4ab01c0": {
          "model_module": "@jupyter-widgets/base",
          "model_module_version": "1.2.0",
          "model_name": "LayoutModel",
          "state": {
            "_model_module": "@jupyter-widgets/base",
            "_model_module_version": "1.2.0",
            "_model_name": "LayoutModel",
            "_view_count": null,
            "_view_module": "@jupyter-widgets/base",
            "_view_module_version": "1.2.0",
            "_view_name": "LayoutView",
            "align_content": null,
            "align_items": null,
            "align_self": null,
            "border": null,
            "bottom": null,
            "display": null,
            "flex": null,
            "flex_flow": null,
            "grid_area": null,
            "grid_auto_columns": null,
            "grid_auto_flow": null,
            "grid_auto_rows": null,
            "grid_column": null,
            "grid_gap": null,
            "grid_row": null,
            "grid_template_areas": null,
            "grid_template_columns": null,
            "grid_template_rows": null,
            "height": null,
            "justify_content": null,
            "justify_items": null,
            "left": null,
            "margin": null,
            "max_height": null,
            "max_width": null,
            "min_height": null,
            "min_width": null,
            "object_fit": null,
            "object_position": null,
            "order": null,
            "overflow": null,
            "overflow_x": null,
            "overflow_y": null,
            "padding": null,
            "right": null,
            "top": null,
            "visibility": null,
            "width": null
          }
        },
        "c3b1aa9596e34fa89a4325c183bfd46c": {
          "model_module": "@jupyter-widgets/controls",
          "model_module_version": "1.5.0",
          "model_name": "HTMLModel",
          "state": {
            "_dom_classes": [],
            "_model_module": "@jupyter-widgets/controls",
            "_model_module_version": "1.5.0",
            "_model_name": "HTMLModel",
            "_view_count": null,
            "_view_module": "@jupyter-widgets/controls",
            "_view_module_version": "1.5.0",
            "_view_name": "HTMLView",
            "description": "",
            "description_tooltip": null,
            "layout": "IPY_MODEL_2b96490e49c94301814ca7a587ecc9c4",
            "placeholder": "​",
            "style": "IPY_MODEL_a11e785a2f654c358aba6636062155f8",
            "value": ""
          }
        },
        "cac0bee1dc9f42f3b358b0b5ad658013": {
          "model_module": "@jupyter-widgets/base",
          "model_module_version": "1.2.0",
          "model_name": "LayoutModel",
          "state": {
            "_model_module": "@jupyter-widgets/base",
            "_model_module_version": "1.2.0",
            "_model_name": "LayoutModel",
            "_view_count": null,
            "_view_module": "@jupyter-widgets/base",
            "_view_module_version": "1.2.0",
            "_view_name": "LayoutView",
            "align_content": null,
            "align_items": null,
            "align_self": null,
            "border": null,
            "bottom": null,
            "display": null,
            "flex": null,
            "flex_flow": null,
            "grid_area": null,
            "grid_auto_columns": null,
            "grid_auto_flow": null,
            "grid_auto_rows": null,
            "grid_column": null,
            "grid_gap": null,
            "grid_row": null,
            "grid_template_areas": null,
            "grid_template_columns": null,
            "grid_template_rows": null,
            "height": null,
            "justify_content": null,
            "justify_items": null,
            "left": null,
            "margin": null,
            "max_height": null,
            "max_width": null,
            "min_height": null,
            "min_width": null,
            "object_fit": null,
            "object_position": null,
            "order": null,
            "overflow": null,
            "overflow_x": null,
            "overflow_y": null,
            "padding": null,
            "right": null,
            "top": null,
            "visibility": null,
            "width": "20px"
          }
        }
      }
    }
  },
  "nbformat": 4,
  "nbformat_minor": 0
}
